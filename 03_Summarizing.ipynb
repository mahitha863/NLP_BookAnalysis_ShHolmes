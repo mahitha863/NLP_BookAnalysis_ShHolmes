{
  "nbformat": 4,
  "nbformat_minor": 0,
  "metadata": {
    "colab": {
      "name": "03_Summarizing.ipynb",
      "provenance": [],
      "collapsed_sections": []
    },
    "kernelspec": {
      "name": "python3",
      "display_name": "Python 3"
    }
  },
  "cells": [
    {
      "cell_type": "markdown",
      "metadata": {
        "id": "5jtIueCYG2MS",
        "colab_type": "text"
      },
      "source": [
        "Now looking to summarize the text so that person who wants to buy a book can have prior knowledge so that he can decide to whether he should buy or not "
      ]
    },
    {
      "cell_type": "code",
      "metadata": {
        "id": "gpJi8oUmqUn5",
        "colab_type": "code",
        "colab": {}
      },
      "source": [
        "import re\n",
        "\n",
        "book = \"The Adventures of Sherlock Holmes.txt\"\n",
        "\n",
        "pattern = \"(Chapter*\\s[0-9]*\\s['A-Z-\\w ]+)\" + \"(.*?)\" + \"(?=Chapter*\\s[0-9]*\\s['A-Z-\\w ]|\" \"End of the Project Gutenberg)\"\n",
        "with open(book, 'r') as f:\n",
        "        text = (f.read().replace('&rsquo;', \"'\")\n",
        "                        .replace('&lsquo;', \"'\")\n",
        "                        .replace('&rdquo;', '\"')\n",
        "                        .replace('&ldquo;', '\"')\n",
        "                        .replace('&mdash;', '—'))\n",
        "\n",
        "chapters = re.findall(pattern, text, re.DOTALL)"
      ],
      "execution_count": 0,
      "outputs": []
    },
    {
      "cell_type": "markdown",
      "metadata": {
        "id": "goJZqvT-IfW4",
        "colab_type": "text"
      },
      "source": [
        "Using sumy to summarize"
      ]
    },
    {
      "cell_type": "code",
      "metadata": {
        "id": "hESKolFTqvJA",
        "colab_type": "code",
        "outputId": "7c416697-2503-408c-9514-4d3f5b7e04d5",
        "colab": {
          "base_uri": "https://localhost:8080/",
          "height": 505
        }
      },
      "source": [
        "!pip install sumy"
      ],
      "execution_count": 0,
      "outputs": [
        {
          "output_type": "stream",
          "text": [
            "Collecting sumy\n",
            "\u001b[?25l  Downloading https://files.pythonhosted.org/packages/61/20/8abf92617ec80a2ebaec8dc1646a790fc9656a4a4377ddb9f0cc90bc9326/sumy-0.8.1-py2.py3-none-any.whl (83kB)\n",
            "\r\u001b[K     |████                            | 10kB 17.9MB/s eta 0:00:01\r\u001b[K     |███████▉                        | 20kB 3.2MB/s eta 0:00:01\r\u001b[K     |███████████▊                    | 30kB 4.5MB/s eta 0:00:01\r\u001b[K     |███████████████▋                | 40kB 3.0MB/s eta 0:00:01\r\u001b[K     |███████████████████▌            | 51kB 3.6MB/s eta 0:00:01\r\u001b[K     |███████████████████████▍        | 61kB 4.3MB/s eta 0:00:01\r\u001b[K     |███████████████████████████▍    | 71kB 5.0MB/s eta 0:00:01\r\u001b[K     |███████████████████████████████▎| 81kB 5.6MB/s eta 0:00:01\r\u001b[K     |████████████████████████████████| 92kB 3.9MB/s \n",
            "\u001b[?25hCollecting breadability>=0.1.20\n",
            "  Downloading https://files.pythonhosted.org/packages/ad/2d/bb6c9b381e6b6a432aa2ffa8f4afdb2204f1ff97cfcc0766a5b7683fec43/breadability-0.1.20.tar.gz\n",
            "Requirement already satisfied: nltk>=3.0.2 in /usr/local/lib/python3.6/dist-packages (from sumy) (3.2.5)\n",
            "Collecting pycountry>=18.2.23\n",
            "\u001b[?25l  Downloading https://files.pythonhosted.org/packages/16/b6/154fe93072051d8ce7bf197690957b6d0ac9a21d51c9a1d05bd7c6fdb16f/pycountry-19.8.18.tar.gz (10.0MB)\n",
            "\u001b[K     |████████████████████████████████| 10.0MB 14.9MB/s \n",
            "\u001b[?25hRequirement already satisfied: requests>=2.7.0 in /usr/local/lib/python3.6/dist-packages (from sumy) (2.21.0)\n",
            "Requirement already satisfied: docopt<0.7,>=0.6.1 in /usr/local/lib/python3.6/dist-packages (from sumy) (0.6.2)\n",
            "Requirement already satisfied: chardet in /usr/local/lib/python3.6/dist-packages (from breadability>=0.1.20->sumy) (3.0.4)\n",
            "Requirement already satisfied: lxml>=2.0 in /usr/local/lib/python3.6/dist-packages (from breadability>=0.1.20->sumy) (4.2.6)\n",
            "Requirement already satisfied: six in /usr/local/lib/python3.6/dist-packages (from nltk>=3.0.2->sumy) (1.12.0)\n",
            "Requirement already satisfied: urllib3<1.25,>=1.21.1 in /usr/local/lib/python3.6/dist-packages (from requests>=2.7.0->sumy) (1.24.3)\n",
            "Requirement already satisfied: certifi>=2017.4.17 in /usr/local/lib/python3.6/dist-packages (from requests>=2.7.0->sumy) (2019.11.28)\n",
            "Requirement already satisfied: idna<2.9,>=2.5 in /usr/local/lib/python3.6/dist-packages (from requests>=2.7.0->sumy) (2.8)\n",
            "Building wheels for collected packages: breadability, pycountry\n",
            "  Building wheel for breadability (setup.py) ... \u001b[?25l\u001b[?25hdone\n",
            "  Created wheel for breadability: filename=breadability-0.1.20-py2.py3-none-any.whl size=21682 sha256=67c91d249280082b2c8c23ea28787d42031222126d7c81aa0f55e8a476c52ee3\n",
            "  Stored in directory: /root/.cache/pip/wheels/5a/4d/a1/510b12c5e65e0b2b3ce539b2af66da0fc57571e528924f4a52\n",
            "  Building wheel for pycountry (setup.py) ... \u001b[?25l\u001b[?25hdone\n",
            "  Created wheel for pycountry: filename=pycountry-19.8.18-py2.py3-none-any.whl size=10627360 sha256=b20f0e3405b52f16d37728d4131dc725c113d007d662c50600df26640fe098b5\n",
            "  Stored in directory: /root/.cache/pip/wheels/a2/98/bf/f0fa1c6bf8cf2cbdb750d583f84be51c2cd8272460b8b36bd3\n",
            "Successfully built breadability pycountry\n",
            "Installing collected packages: breadability, pycountry, sumy\n",
            "Successfully installed breadability-0.1.20 pycountry-19.8.18 sumy-0.8.1\n"
          ],
          "name": "stdout"
        }
      ]
    },
    {
      "cell_type": "code",
      "metadata": {
        "id": "w0_LMnC1qwo0",
        "colab_type": "code",
        "outputId": "cdbf4673-a74d-4552-a733-638621f7208c",
        "colab": {
          "base_uri": "https://localhost:8080/",
          "height": 104
        }
      },
      "source": [
        "import nltk\n",
        "nltk.download('stopwords')\n",
        "nltk.download('punkt')"
      ],
      "execution_count": 0,
      "outputs": [
        {
          "output_type": "stream",
          "text": [
            "[nltk_data] Downloading package stopwords to /root/nltk_data...\n",
            "[nltk_data]   Unzipping corpora/stopwords.zip.\n",
            "[nltk_data] Downloading package punkt to /root/nltk_data...\n",
            "[nltk_data]   Unzipping tokenizers/punkt.zip.\n"
          ],
          "name": "stdout"
        },
        {
          "output_type": "execute_result",
          "data": {
            "text/plain": [
              "True"
            ]
          },
          "metadata": {
            "tags": []
          },
          "execution_count": 3
        }
      ]
    },
    {
      "cell_type": "code",
      "metadata": {
        "id": "66hzHrmzrHfe",
        "colab_type": "code",
        "colab": {}
      },
      "source": [
        "from collections import defaultdict\n",
        "\n",
        "from __future__ import absolute_import\n",
        "from __future__ import division, print_function, unicode_literals\n",
        " \n",
        "from sumy.parsers.plaintext import PlaintextParser\n",
        "from sumy.nlp.tokenizers import Tokenizer\n",
        "from sumy.summarizers.lsa import LsaSummarizer\n",
        "from sumy.nlp.stemmers import Stemmer\n",
        "from sumy.utils import get_stop_words\n",
        " \n",
        "from sumy.summarizers.luhn import LuhnSummarizer\n",
        "from sumy.summarizers.edmundson import EdmundsonSummarizer\n",
        "\n",
        "from nltk.corpus import stopwords\n",
        "stop_words = stopwords.words('english')"
      ],
      "execution_count": 0,
      "outputs": []
    },
    {
      "cell_type": "code",
      "metadata": {
        "id": "AxiqDoO3rTn_",
        "colab_type": "code",
        "colab": {}
      },
      "source": [
        "language = \"english\"\n",
        "sentence_count = 5\n",
        " \n",
        "parser = PlaintextParser(chapters[0][1], Tokenizer(language))"
      ],
      "execution_count": 0,
      "outputs": []
    },
    {
      "cell_type": "markdown",
      "metadata": {
        "id": "m19pWzyRrWwR",
        "colab_type": "text"
      },
      "source": [
        "LexRank is an unsupervised approach to text summarization based on graph-based centrality scoring of sentences"
      ]
    },
    {
      "cell_type": "code",
      "metadata": {
        "id": "9lqbjJ1brs31",
        "colab_type": "code",
        "outputId": "df4da415-11aa-4e63-b1c4-81bc7ff1defc",
        "colab": {
          "base_uri": "https://localhost:8080/",
          "height": 124
        }
      },
      "source": [
        "from sumy.summarizers.lex_rank import LexRankSummarizer \n",
        "summarizer = LexRankSummarizer(Stemmer(language))\n",
        "summarizer.stop_words = get_stop_words(language)\n",
        "#Summarize the document with 2 sentences\n",
        "summary = summarizer(parser.document, sentence_count) \n",
        "for sentence in summary:\n",
        "    print(sentence)"
      ],
      "execution_count": 0,
      "outputs": [
        {
          "output_type": "stream",
          "text": [
            "It is true that I had a country walk on Thursday and came home in a dreadful mess, but as I have changed my clothes I can’t imagine how you deduce it.\n",
            "It only remains, therefore, to discover what is wanted by this German who writes upon Bohemian paper and prefers wearing a mask to showing his face.\n",
            "On the issue of this question depended whether I should continue my work at Briony Lodge, or turn my attention to the gentleman’s chambers in the Temple.\n",
            "“I was still balancing the matter in my mind when a hansom cab drove up to Briony Lodge, and a gentleman sprang out.\n",
            "Slowly and solemnly he was borne into Briony Lodge and laid out in the principal room, while I still observed the proceedings from my post by the window.\n"
          ],
          "name": "stdout"
        }
      ]
    },
    {
      "cell_type": "markdown",
      "metadata": {
        "id": "kltnkNoD4t6K",
        "colab_type": "text"
      },
      "source": [
        "Luhn’s algorithm is a naive approach based on TF-IDF and looking at the “window size” of non-important words between words of high importance. It also assigns higher weights to sentences occurring near the beginning of a document."
      ]
    },
    {
      "cell_type": "code",
      "metadata": {
        "id": "pLXGloYXr2Zb",
        "colab_type": "code",
        "outputId": "6387cc0d-d445-4d4c-ac11-cb29cc901b54",
        "colab": {
          "base_uri": "https://localhost:8080/",
          "height": 124
        }
      },
      "source": [
        "from sumy.summarizers.luhn import LuhnSummarizer\n",
        "summarizer_1 = LuhnSummarizer(Stemmer(language))\n",
        "summarizer_1.stop_words = get_stop_words(language)\n",
        "summary_1 = summarizer_1(parser.document, sentence_count)\n",
        "for sentence in summary_1:\n",
        "    print(sentence)"
      ],
      "execution_count": 0,
      "outputs": [
        {
          "output_type": "stream",
          "text": [
            "It only remains, therefore, to discover what is wanted by this German who writes upon Bohemian paper and prefers wearing a mask to showing his face.\n",
            "“Is Briony Lodge, Serpentine Avenue, St. John’s Wood.”\n",
            "He appeared to be in a great hurry, shouted to the cabman to wait, and brushed past the maid who opened the door with the air of a man who was thoroughly at home.\n",
            "It was a quarter past six when we left Baker Street, and it still wanted ten minutes to the hour when we found ourselves in Serpentine Avenue.\n",
            "“You have really got it!” he cried, grasping Sherlock Holmes by either shoulder and looking eagerly into his face.\n"
          ],
          "name": "stdout"
        }
      ]
    },
    {
      "cell_type": "markdown",
      "metadata": {
        "id": "tE1LELUq5Mph",
        "colab_type": "text"
      },
      "source": [
        "**Latent Semantic Analysis **is a algorithm which combines term frequency with singular value decomposition"
      ]
    },
    {
      "cell_type": "code",
      "metadata": {
        "id": "pJtYgWQjr6OI",
        "colab_type": "code",
        "outputId": "c3cb3f9a-76e7-447d-ab3e-147e40637fc0",
        "colab": {
          "base_uri": "https://localhost:8080/",
          "height": 124
        }
      },
      "source": [
        "from sumy.summarizers.lsa import LsaSummarizer\n",
        "summarizer_2 = LsaSummarizer(Stemmer(language))\n",
        "summarizer_2.stop_words = get_stop_words(language)\n",
        "summary_2 = summarizer_2(parser.document, sentence_count)\n",
        "for sentence in summary_2:\n",
        "    print(sentence)"
      ],
      "execution_count": 0,
      "outputs": [
        {
          "output_type": "stream",
          "text": [
            "As to your practice, if a gentleman walks into my rooms smelling of iodoform, with a black mark of nitrate of silver upon his right forefinger, and a bulge on the right side of his top-hat to show where he has secreted his stethoscope, I must be dull, indeed, if I do not pronounce him to be an active member of the medical profession.”\n",
            "Heavy bands of astrakhan were slashed across the sleeves and fronts of his double-breasted coat, while the deep blue cloak which was thrown over his shoulders was lined with flame-coloured silk and secured at the neck with a brooch which consisted of a single flaming beryl.\n",
            "Indeed, apart from the nature of the investigation which my friend had on hand, there was something in his masterly grasp of a situation, and his keen, incisive reasoning, which made it a pleasure to me to study his system of work, and to follow the quick, subtle methods by which he disentangled the most inextricable mysteries.\n",
            "I lent the ostlers a hand in rubbing down their horses, and received in exchange twopence, a glass of half-and-half, two fills of shag tobacco, and as much information as I could desire about Miss Adler, to say nothing of half a dozen other people in the neighbourhood in whom I was not in the least interested, but whose biographies I was compelled to listen to.”\n",
            "As he stepped up to the cab, he pulled a gold watch from his pocket and looked at it earnestly, ‘Drive like the devil,’ he shouted, ‘first to Gross & Hankey’s in Regent Street, and then to the Church of St. Monica in the Edgeware Road.\n"
          ],
          "name": "stdout"
        }
      ]
    },
    {
      "cell_type": "markdown",
      "metadata": {
        "id": "ixXIqIAP5zPf",
        "colab_type": "text"
      },
      "source": [
        "Text Summarizer based on the ideas of PageRank"
      ]
    },
    {
      "cell_type": "code",
      "metadata": {
        "id": "bY4wuMS3r9uA",
        "colab_type": "code",
        "outputId": "696f3038-e9aa-4bc5-e424-ce5d1d0eb938",
        "colab": {
          "base_uri": "https://localhost:8080/",
          "height": 124
        }
      },
      "source": [
        "from sumy.summarizers.text_rank import TextRankSummarizer\n",
        "summarizer_3 = TextRankSummarizer(Stemmer(language))\n",
        "summarizer_3.stop_words = get_stop_words(language)\n",
        "summary_3 = summarizer_3(parser.document, sentence_count)\n",
        "for sentence in summary_3:\n",
        "    print(sentence)"
      ],
      "execution_count": 0,
      "outputs": [
        {
          "output_type": "stream",
          "text": [
            "My own complete happiness, and the home-centred interests which rise up around the man who first finds himself master of his own establishment, were sufficient to absorb all my attention, while Holmes, who loathed every form of society with his whole Bohemian soul, remained in our lodgings in Baker Street, buried among his old books, and alternating from week to week between cocaine and ambition, the drowsiness of the drug, and the fierce energy of his own keen nature.\n",
            "“You see,” remarked Holmes, as we paced to and fro in front of the house, “this marriage rather simplifies matters.\n",
            "At the same instant I saw him raise his hand and at the signal I tossed my rocket into the room with a cry of “Fire!” The word was no sooner out of my mouth than the whole crowd of spectators, well dressed and ill—gentlemen, ostlers, and servant maids—joined in a general shriek of “Fire!” Thick clouds of smoke curled through the room and out at the open window.\n",
            "Holmes rushed at the bell-pull, tore back a small sliding shutter, and, plunging in his hand, pulled out a photograph and a letter.\n",
            "The photograph was of Irene Adler herself in evening dress, the letter was superscribed to “Sherlock Holmes, Esq.\n"
          ],
          "name": "stdout"
        }
      ]
    },
    {
      "cell_type": "markdown",
      "metadata": {
        "id": "1wCl97PM6QyX",
        "colab_type": "text"
      },
      "source": [
        "This algorithm is based “bonus words”, words stated by the user as of high importance"
      ]
    },
    {
      "cell_type": "code",
      "metadata": {
        "id": "337vXLg2sBD0",
        "colab_type": "code",
        "outputId": "db858537-7a10-4184-a74f-fd1b6bc82f7a",
        "colab": {
          "base_uri": "https://localhost:8080/",
          "height": 124
        }
      },
      "source": [
        "from sumy.summarizers.edmundson import EdmundsonSummarizer\n",
        "summarizer_4 = EdmundsonSummarizer(Stemmer(language))\n",
        "summarizer_4.stop_words = get_stop_words(language)\n",
        "summarizer_4.bonus_words = chapters[0][1].split()\n",
        "summarizer_4.stigma_words = ['zdfgthdvndadv']\n",
        "summarizer_4.null_words = ['zdfgthdvndadv']\n",
        "summary_4 = summarizer_4(parser.document, sentence_count)\n",
        "for sentence in summary_4:\n",
        "    print(sentence)"
      ],
      "execution_count": 0,
      "outputs": [
        {
          "output_type": "stream",
          "text": [
            "My own complete happiness, and the home-centred interests which rise up around the man who first finds himself master of his own establishment, were sufficient to absorb all my attention, while Holmes, who loathed every form of society with his whole Bohemian soul, remained in our lodgings in Baker Street, buried among his old books, and alternating from week to week between cocaine and ambition, the drowsiness of the drug, and the fierce energy of his own keen nature.\n",
            "As to your practice, if a gentleman walks into my rooms smelling of iodoform, with a black mark of nitrate of silver upon his right forefinger, and a bulge on the right side of his top-hat to show where he has secreted his stethoscope, I must be dull, indeed, if I do not pronounce him to be an active member of the medical profession.”\n",
            "I lent the ostlers a hand in rubbing down their horses, and received in exchange twopence, a glass of half-and-half, two fills of shag tobacco, and as much information as I could desire about Miss Adler, to say nothing of half a dozen other people in the neighbourhood in whom I was not in the least interested, but whose biographies I was compelled to listen to.”\n",
            "I do not know whether he was seized with compunction at that moment for the part he was playing, but I know that I never felt more heartily ashamed of myself in my life than when I saw the beautiful creature against whom I was conspiring, or the grace and kindliness with which she waited upon the injured man.\n",
            "At the same instant I saw him raise his hand and at the signal I tossed my rocket into the room with a cry of “Fire!” The word was no sooner out of my mouth than the whole crowd of spectators, well dressed and ill—gentlemen, ostlers, and servant maids—joined in a general shriek of “Fire!” Thick clouds of smoke curled through the room and out at the open window.\n"
          ],
          "name": "stdout"
        }
      ]
    },
    {
      "cell_type": "code",
      "metadata": {
        "id": "X8uTyyqssEQe",
        "colab_type": "code",
        "outputId": "949aa17a-68ed-4aae-bbdc-c92b0f1ee990",
        "colab": {
          "base_uri": "https://localhost:8080/",
          "height": 124
        }
      },
      "source": [
        "from sumy.summarizers.edmundson import EdmundsonSummarizer\n",
        "summarizer_4 = EdmundsonSummarizer(Stemmer(language))\n",
        "summarizer_4.stop_words = get_stop_words(language)\n",
        "summarizer_4.bonus_words = chapters[0][1].split()\n",
        "summarizer_4.stigma_words = ['zdfgthdvndadv']\n",
        "summarizer_4.null_words = stop_words\n",
        "summary_4 = summarizer_4(parser.document, sentence_count)\n",
        "for sentence in summary_4:\n",
        "    print(sentence)"
      ],
      "execution_count": 0,
      "outputs": [
        {
          "output_type": "stream",
          "text": [
            "My own complete happiness, and the home-centred interests which rise up around the man who first finds himself master of his own establishment, were sufficient to absorb all my attention, while Holmes, who loathed every form of society with his whole Bohemian soul, remained in our lodgings in Baker Street, buried among his old books, and alternating from week to week between cocaine and ambition, the drowsiness of the drug, and the fierce energy of his own keen nature.\n",
            "As to your practice, if a gentleman walks into my rooms smelling of iodoform, with a black mark of nitrate of silver upon his right forefinger, and a bulge on the right side of his top-hat to show where he has secreted his stethoscope, I must be dull, indeed, if I do not pronounce him to be an active member of the medical profession.”\n",
            "I lent the ostlers a hand in rubbing down their horses, and received in exchange twopence, a glass of half-and-half, two fills of shag tobacco, and as much information as I could desire about Miss Adler, to say nothing of half a dozen other people in the neighbourhood in whom I was not in the least interested, but whose biographies I was compelled to listen to.”\n",
            "I do not know whether he was seized with compunction at that moment for the part he was playing, but I know that I never felt more heartily ashamed of myself in my life than when I saw the beautiful creature against whom I was conspiring, or the grace and kindliness with which she waited upon the injured man.\n",
            "At the same instant I saw him raise his hand and at the signal I tossed my rocket into the room with a cry of “Fire!” The word was no sooner out of my mouth than the whole crowd of spectators, well dressed and ill—gentlemen, ostlers, and servant maids—joined in a general shriek of “Fire!” Thick clouds of smoke curled through the room and out at the open window.\n"
          ],
          "name": "stdout"
        }
      ]
    },
    {
      "cell_type": "code",
      "metadata": {
        "id": "NHNqJ2eBsG6j",
        "colab_type": "code",
        "outputId": "1639adb9-f51e-4520-cbaa-fd882de72710",
        "colab": {
          "base_uri": "https://localhost:8080/",
          "height": 104
        }
      },
      "source": [
        "from sumy.summarizers.sum_basic import SumBasicSummarizer\n",
        "summarizer_5 = SumBasicSummarizer(Stemmer(language))\n",
        "summarizer_5.stop_words = get_stop_words(language)\n",
        "summary_5 = summarizer_5(parser.document, 5)\n",
        "for sentence in summary_5:\n",
        "    print(sentence)"
      ],
      "execution_count": 0,
      "outputs": [
        {
          "output_type": "stream",
          "text": [
            "I had seen little of Holmes lately.\n",
            "“My photograph.”\n",
            "So say the Serpentine-mews, to a man.\n",
            "It must be in her own house.”\n",
            "“I thank your Majesty.\n"
          ],
          "name": "stdout"
        }
      ]
    },
    {
      "cell_type": "markdown",
      "metadata": {
        "id": "xwCzx25h6u-8",
        "colab_type": "text"
      },
      "source": [
        "The KLSum algorithm is a greedy method which adds sentences to the summary as long as the KL Divergence (a measure of entropy) is decreasing."
      ]
    },
    {
      "cell_type": "code",
      "metadata": {
        "id": "LTLg9uOKsK79",
        "colab_type": "code",
        "outputId": "094c6732-caf5-4e0e-ec94-a6fc2853c067",
        "colab": {
          "base_uri": "https://localhost:8080/",
          "height": 124
        }
      },
      "source": [
        "from sumy.summarizers.kl import KLSummarizer\n",
        "summarizer_6 = KLSummarizer(Stemmer(language))\n",
        "summarizer_6.stop_words = get_stop_words(language)\n",
        "summary_6 = summarizer_6(parser.document, sentence_count)\n",
        "for sentence in summary_6:\n",
        "    print(sentence)"
      ],
      "execution_count": 0,
      "outputs": [
        {
          "output_type": "stream",
          "text": [
            "Indeed, apart from the nature of the investigation which my friend had on hand, there was something in his masterly grasp of a situation, and his keen, incisive reasoning, which made it a pleasure to me to study his system of work, and to follow the quick, subtle methods by which he disentangled the most inextricable mysteries.\n",
            "I lent the ostlers a hand in rubbing down their horses, and received in exchange twopence, a glass of half-and-half, two fills of shag tobacco, and as much information as I could desire about Miss Adler, to say nothing of half a dozen other people in the neighbourhood in whom I was not in the least interested, but whose biographies I was compelled to listen to.”\n",
            "As he stepped up to the cab, he pulled a gold watch from his pocket and looked at it earnestly, ‘Drive like the devil,’ he shouted, ‘first to Gross & Hankey’s in Regent Street, and then to the Church of St. Monica in the Edgeware Road.\n",
            "At the same instant I saw him raise his hand and at the signal I tossed my rocket into the room with a cry of “Fire!” The word was no sooner out of my mouth than the whole crowd of spectators, well dressed and ill—gentlemen, ostlers, and servant maids—joined in a general shriek of “Fire!” Thick clouds of smoke curled through the room and out at the open window.\n",
            "The photograph was of Irene Adler herself in evening dress, the letter was superscribed to “Sherlock Holmes, Esq.\n"
          ],
          "name": "stdout"
        }
      ]
    },
    {
      "cell_type": "markdown",
      "metadata": {
        "id": "YIFuutql6_Ys",
        "colab_type": "text"
      },
      "source": [
        "The Reduction algorithm is another graph-based model which values sentences according to the sum of the weights of their edges to other sentences in the document."
      ]
    },
    {
      "cell_type": "code",
      "metadata": {
        "id": "j36xh_51sNhr",
        "colab_type": "code",
        "outputId": "9038bde8-14ea-4714-e32b-23c60df7b1a5",
        "colab": {
          "base_uri": "https://localhost:8080/",
          "height": 104
        }
      },
      "source": [
        "from sumy.summarizers.reduction import ReductionSummarizer\n",
        "summarizer_7 = ReductionSummarizer(Stemmer(language))\n",
        "summarizer_7.stop_words = get_stop_words(language)\n",
        "summary_7 = summarizer_7(parser.document, sentence_count)\n",
        "for sentence in summary_7:\n",
        "    print(sentence)"
      ],
      "execution_count": 0,
      "outputs": [
        {
          "output_type": "stream",
          "text": [
            "I had seen little of Holmes lately.\n",
            "“I think that I had better go, Holmes.”\n",
            "“Come in!” said Holmes.\n",
            "“Let me see!” said Holmes.\n",
            "The photograph was of Irene Adler herself in evening dress, the letter was superscribed to “Sherlock Holmes, Esq.\n"
          ],
          "name": "stdout"
        }
      ]
    },
    {
      "cell_type": "code",
      "metadata": {
        "id": "WXiS9vrtsQL_",
        "colab_type": "code",
        "colab": {}
      },
      "source": [
        "from sumy.summarizers.lex_rank import LexRankSummarizer \n",
        "from sumy.summarizers.luhn import LuhnSummarizer\n",
        "from sumy.summarizers.lsa import LsaSummarizer\n",
        "from sumy.summarizers.text_rank import TextRankSummarizer\n",
        "from sumy.summarizers.edmundson import EdmundsonSummarizer\n",
        "from sumy.summarizers.sum_basic import SumBasicSummarizer\n",
        "from sumy.summarizers.kl import KLSummarizer\n",
        "from sumy.summarizers.reduction import ReductionSummarizer"
      ],
      "execution_count": 0,
      "outputs": []
    },
    {
      "cell_type": "code",
      "metadata": {
        "id": "351Hxi2qsThR",
        "colab_type": "code",
        "colab": {}
      },
      "source": [
        "def summarize(text, summarizer, sentence_count, bonus_words=['Sherlock', 'holmes'], language='english'):\n",
        "    summarizer = summarizer(Stemmer(language))\n",
        "    summarizer.stop_words = get_stop_words(language)\n",
        "    if isinstance(summarizer, EdmundsonSummarizer):\n",
        "        summarizer.bonus_words = bonus_words\n",
        "        summarizer.stigma_words = ['zdfgthdvndadv']\n",
        "        summarizer.null_words = stop_words\n",
        "    summary = summarizer(PlaintextParser(text, Tokenizer(language)).document, sentence_count)\n",
        "    return summary"
      ],
      "execution_count": 0,
      "outputs": []
    },
    {
      "cell_type": "code",
      "metadata": {
        "id": "WrUroC3xsWZy",
        "colab_type": "code",
        "colab": {}
      },
      "source": [
        "def print_summary(summary):\n",
        "    for sentence in summary:\n",
        "        print(sentence)"
      ],
      "execution_count": 0,
      "outputs": []
    },
    {
      "cell_type": "code",
      "metadata": {
        "id": "Xptm7i-ZsYo6",
        "colab_type": "code",
        "outputId": "a20cdbe6-040a-4e71-f8d0-724286397587",
        "colab": {
          "base_uri": "https://localhost:8080/",
          "height": 1000
        }
      },
      "source": [
        "for summarizer in [LexRankSummarizer, LuhnSummarizer, LsaSummarizer, TextRankSummarizer,\n",
        "                   EdmundsonSummarizer, SumBasicSummarizer, KLSummarizer, ReductionSummarizer]:\n",
        "    print('----' + summarizer.__name__ + '----')\n",
        "    print_summary(summarize(chapters[0][1],\n",
        "                            summarizer,\n",
        "                            sentence_count,\n",
        "                            bonus_words=chapters[0][1].split()))\n",
        "    print()"
      ],
      "execution_count": 0,
      "outputs": [
        {
          "output_type": "stream",
          "text": [
            "----LexRankSummarizer----\n",
            "It is true that I had a country walk on Thursday and came home in a dreadful mess, but as I have changed my clothes I can’t imagine how you deduce it.\n",
            "It only remains, therefore, to discover what is wanted by this German who writes upon Bohemian paper and prefers wearing a mask to showing his face.\n",
            "On the issue of this question depended whether I should continue my work at Briony Lodge, or turn my attention to the gentleman’s chambers in the Temple.\n",
            "“I was still balancing the matter in my mind when a hansom cab drove up to Briony Lodge, and a gentleman sprang out.\n",
            "Slowly and solemnly he was borne into Briony Lodge and laid out in the principal room, while I still observed the proceedings from my post by the window.\n",
            "\n",
            "----LuhnSummarizer----\n",
            "It only remains, therefore, to discover what is wanted by this German who writes upon Bohemian paper and prefers wearing a mask to showing his face.\n",
            "“Is Briony Lodge, Serpentine Avenue, St. John’s Wood.”\n",
            "He appeared to be in a great hurry, shouted to the cabman to wait, and brushed past the maid who opened the door with the air of a man who was thoroughly at home.\n",
            "It was a quarter past six when we left Baker Street, and it still wanted ten minutes to the hour when we found ourselves in Serpentine Avenue.\n",
            "“You have really got it!” he cried, grasping Sherlock Holmes by either shoulder and looking eagerly into his face.\n",
            "\n",
            "----LsaSummarizer----\n",
            "As to your practice, if a gentleman walks into my rooms smelling of iodoform, with a black mark of nitrate of silver upon his right forefinger, and a bulge on the right side of his top-hat to show where he has secreted his stethoscope, I must be dull, indeed, if I do not pronounce him to be an active member of the medical profession.”\n",
            "Heavy bands of astrakhan were slashed across the sleeves and fronts of his double-breasted coat, while the deep blue cloak which was thrown over his shoulders was lined with flame-coloured silk and secured at the neck with a brooch which consisted of a single flaming beryl.\n",
            "Indeed, apart from the nature of the investigation which my friend had on hand, there was something in his masterly grasp of a situation, and his keen, incisive reasoning, which made it a pleasure to me to study his system of work, and to follow the quick, subtle methods by which he disentangled the most inextricable mysteries.\n",
            "I lent the ostlers a hand in rubbing down their horses, and received in exchange twopence, a glass of half-and-half, two fills of shag tobacco, and as much information as I could desire about Miss Adler, to say nothing of half a dozen other people in the neighbourhood in whom I was not in the least interested, but whose biographies I was compelled to listen to.”\n",
            "As he stepped up to the cab, he pulled a gold watch from his pocket and looked at it earnestly, ‘Drive like the devil,’ he shouted, ‘first to Gross & Hankey’s in Regent Street, and then to the Church of St. Monica in the Edgeware Road.\n",
            "\n",
            "----TextRankSummarizer----\n",
            "My own complete happiness, and the home-centred interests which rise up around the man who first finds himself master of his own establishment, were sufficient to absorb all my attention, while Holmes, who loathed every form of society with his whole Bohemian soul, remained in our lodgings in Baker Street, buried among his old books, and alternating from week to week between cocaine and ambition, the drowsiness of the drug, and the fierce energy of his own keen nature.\n",
            "“You see,” remarked Holmes, as we paced to and fro in front of the house, “this marriage rather simplifies matters.\n",
            "At the same instant I saw him raise his hand and at the signal I tossed my rocket into the room with a cry of “Fire!” The word was no sooner out of my mouth than the whole crowd of spectators, well dressed and ill—gentlemen, ostlers, and servant maids—joined in a general shriek of “Fire!” Thick clouds of smoke curled through the room and out at the open window.\n",
            "Holmes rushed at the bell-pull, tore back a small sliding shutter, and, plunging in his hand, pulled out a photograph and a letter.\n",
            "The photograph was of Irene Adler herself in evening dress, the letter was superscribed to “Sherlock Holmes, Esq.\n",
            "\n",
            "----EdmundsonSummarizer----\n",
            "My own complete happiness, and the home-centred interests which rise up around the man who first finds himself master of his own establishment, were sufficient to absorb all my attention, while Holmes, who loathed every form of society with his whole Bohemian soul, remained in our lodgings in Baker Street, buried among his old books, and alternating from week to week between cocaine and ambition, the drowsiness of the drug, and the fierce energy of his own keen nature.\n",
            "As to your practice, if a gentleman walks into my rooms smelling of iodoform, with a black mark of nitrate of silver upon his right forefinger, and a bulge on the right side of his top-hat to show where he has secreted his stethoscope, I must be dull, indeed, if I do not pronounce him to be an active member of the medical profession.”\n",
            "I lent the ostlers a hand in rubbing down their horses, and received in exchange twopence, a glass of half-and-half, two fills of shag tobacco, and as much information as I could desire about Miss Adler, to say nothing of half a dozen other people in the neighbourhood in whom I was not in the least interested, but whose biographies I was compelled to listen to.”\n",
            "I do not know whether he was seized with compunction at that moment for the part he was playing, but I know that I never felt more heartily ashamed of myself in my life than when I saw the beautiful creature against whom I was conspiring, or the grace and kindliness with which she waited upon the injured man.\n",
            "At the same instant I saw him raise his hand and at the signal I tossed my rocket into the room with a cry of “Fire!” The word was no sooner out of my mouth than the whole crowd of spectators, well dressed and ill—gentlemen, ostlers, and servant maids—joined in a general shriek of “Fire!” Thick clouds of smoke curled through the room and out at the open window.\n",
            "\n",
            "----SumBasicSummarizer----\n",
            "I had seen little of Holmes lately.\n",
            "“My photograph.”\n",
            "So say the Serpentine-mews, to a man.\n",
            "It must be in her own house.”\n",
            "“I thank your Majesty.\n",
            "\n",
            "----KLSummarizer----\n",
            "Indeed, apart from the nature of the investigation which my friend had on hand, there was something in his masterly grasp of a situation, and his keen, incisive reasoning, which made it a pleasure to me to study his system of work, and to follow the quick, subtle methods by which he disentangled the most inextricable mysteries.\n",
            "I lent the ostlers a hand in rubbing down their horses, and received in exchange twopence, a glass of half-and-half, two fills of shag tobacco, and as much information as I could desire about Miss Adler, to say nothing of half a dozen other people in the neighbourhood in whom I was not in the least interested, but whose biographies I was compelled to listen to.”\n",
            "As he stepped up to the cab, he pulled a gold watch from his pocket and looked at it earnestly, ‘Drive like the devil,’ he shouted, ‘first to Gross & Hankey’s in Regent Street, and then to the Church of St. Monica in the Edgeware Road.\n",
            "At the same instant I saw him raise his hand and at the signal I tossed my rocket into the room with a cry of “Fire!” The word was no sooner out of my mouth than the whole crowd of spectators, well dressed and ill—gentlemen, ostlers, and servant maids—joined in a general shriek of “Fire!” Thick clouds of smoke curled through the room and out at the open window.\n",
            "The photograph was of Irene Adler herself in evening dress, the letter was superscribed to “Sherlock Holmes, Esq.\n",
            "\n",
            "----ReductionSummarizer----\n",
            "I had seen little of Holmes lately.\n",
            "“I think that I had better go, Holmes.”\n",
            "“Come in!” said Holmes.\n",
            "“Let me see!” said Holmes.\n",
            "The photograph was of Irene Adler herself in evening dress, the letter was superscribed to “Sherlock Holmes, Esq.\n",
            "\n"
          ],
          "name": "stdout"
        }
      ]
    }
  ]
}
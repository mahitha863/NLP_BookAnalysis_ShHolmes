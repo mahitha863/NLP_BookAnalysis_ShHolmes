{
  "nbformat": 4,
  "nbformat_minor": 0,
  "metadata": {
    "colab": {
      "name": "02_POS_and_Counts.ipynb",
      "provenance": [],
      "collapsed_sections": []
    },
    "kernelspec": {
      "name": "python3",
      "display_name": "Python 3"
    }
  },
  "cells": [
    {
      "cell_type": "code",
      "metadata": {
        "id": "JsM728t9w5G4",
        "colab_type": "code",
        "colab": {}
      },
      "source": [
        "import re\n",
        "\n",
        "book = \"The Adventures of Sherlock Holmes.txt\"\n",
        "\n",
        "pattern = \"(Chapter*\\s[0-9]*\\s['A-Z-\\w ]+)\" + \"(.*?)\" + \"(?=Chapter*\\s[0-9]*\\s['A-Z-\\w ]|\" \"End of the Project Gutenberg)\"\n",
        "with open(book, 'r') as f:\n",
        "        text = (f.read().replace('&rsquo;', \"'\")\n",
        "                        .replace('&lsquo;', \"'\")\n",
        "                        .replace('&rdquo;', '\"')\n",
        "                        .replace('&ldquo;', '\"')\n",
        "                        .replace('&mdash;', '—'))\n",
        "\n",
        "chapters = re.findall(pattern, text, re.DOTALL)"
      ],
      "execution_count": 0,
      "outputs": []
    },
    {
      "cell_type": "markdown",
      "metadata": {
        "id": "BkcNyDtbxawN",
        "colab_type": "text"
      },
      "source": [
        "Parts of Speech and Meaning (English Only)"
      ]
    },
    {
      "cell_type": "code",
      "metadata": {
        "id": "Q99hy541xirh",
        "colab_type": "code",
        "outputId": "a6715e0c-537c-4bbd-bcab-2f91795208e4",
        "colab": {
          "base_uri": "https://localhost:8080/",
          "height": 139
        }
      },
      "source": [
        "import nltk\n",
        "nltk.download('punkt')\n",
        "nltk.download('averaged_perceptron_tagger')\n",
        "nltk.download('tagsets')\n",
        "import matplotlib.pyplot as plt"
      ],
      "execution_count": 0,
      "outputs": [
        {
          "output_type": "stream",
          "text": [
            "[nltk_data] Downloading package punkt to /root/nltk_data...\n",
            "[nltk_data]   Unzipping tokenizers/punkt.zip.\n",
            "[nltk_data] Downloading package averaged_perceptron_tagger to\n",
            "[nltk_data]     /root/nltk_data...\n",
            "[nltk_data]   Unzipping taggers/averaged_perceptron_tagger.zip.\n",
            "[nltk_data] Downloading package tagsets to /root/nltk_data...\n",
            "[nltk_data]   Unzipping help/tagsets.zip.\n"
          ],
          "name": "stdout"
        }
      ]
    },
    {
      "cell_type": "code",
      "metadata": {
        "id": "BWOPRw1gxcji",
        "colab_type": "code",
        "outputId": "8550fb22-886e-4b58-c8e0-0a40a43049f9",
        "colab": {
          "base_uri": "https://localhost:8080/",
          "height": 1000
        }
      },
      "source": [
        "t=chapters[0][1]\n",
        "from nltk import sent_tokenize, word_tokenize\n",
        "sentences = sent_tokenize(t.lower())\n",
        "sentences"
      ],
      "execution_count": 0,
      "outputs": [
        {
          "output_type": "execute_result",
          "data": {
            "text/plain": [
              "['\\n\\n\\ni.\\n\\nto sherlock holmes she is always _the_ woman.',\n",
              " 'i have seldom heard him\\nmention her under any other name.',\n",
              " 'in his eyes she eclipses and\\npredominates the whole of her sex.',\n",
              " 'it was not that he felt any emotion\\nakin to love for irene adler.',\n",
              " 'all emotions, and that one particularly,\\nwere abhorrent to his cold, precise but admirably balanced mind.',\n",
              " 'he\\nwas, i take it, the most perfect reasoning and observing machine that\\nthe world has seen, but as a lover he would have placed himself in a\\nfalse position.',\n",
              " 'he never spoke of the softer passions, save with a gibe\\nand a sneer.',\n",
              " 'they were admirable things for the observer—excellent for\\ndrawing the veil from men’s motives and actions.',\n",
              " 'but for the trained\\nreasoner to admit such intrusions into his own delicate and finely\\nadjusted temperament was to introduce a distracting factor which might\\nthrow a doubt upon all his mental results.',\n",
              " 'grit in a sensitive\\ninstrument, or a crack in one of his own high-power lenses, would not\\nbe more disturbing than a strong emotion in a nature such as his.',\n",
              " 'and\\nyet there was but one woman to him, and that woman was the late irene\\nadler, of dubious and questionable memory.',\n",
              " 'i had seen little of holmes lately.',\n",
              " 'my marriage had drifted us away\\nfrom each other.',\n",
              " 'my own complete happiness, and the home-centred\\ninterests which rise up around the man who first finds himself master\\nof his own establishment, were sufficient to absorb all my attention,\\nwhile holmes, who loathed every form of society with his whole bohemian\\nsoul, remained in our lodgings in baker street, buried among his old\\nbooks, and alternating from week to week between cocaine and ambition,\\nthe drowsiness of the drug, and the fierce energy of his own keen\\nnature.',\n",
              " 'he was still, as ever, deeply attracted by the study of crime,\\nand occupied his immense faculties and extraordinary powers of\\nobservation in following out those clues, and clearing up those\\nmysteries which had been abandoned as hopeless by the official police.',\n",
              " 'from time to time i heard some vague account of his doings: of his\\nsummons to odessa in the case of the trepoff murder, of his clearing up\\nof the singular tragedy of the atkinson brothers at trincomalee, and\\nfinally of the mission which he had accomplished so delicately and\\nsuccessfully for the reigning family of holland.',\n",
              " 'beyond these signs of\\nhis activity, however, which i merely shared with all the readers of\\nthe daily press, i knew little of my former friend and companion.',\n",
              " 'one night—it was on the twentieth of march, 1888—i was returning from a\\njourney to a patient (for i had now returned to civil practice), when\\nmy way led me through baker street.',\n",
              " 'as i passed the well-remembered\\ndoor, which must always be associated in my mind with my wooing, and\\nwith the dark incidents of the study in scarlet, i was seized with a\\nkeen desire to see holmes again, and to know how he was employing his\\nextraordinary powers.',\n",
              " 'his rooms were brilliantly lit, and, even as i\\nlooked up, i saw his tall, spare figure pass twice in a dark silhouette\\nagainst the blind.',\n",
              " 'he was pacing the room swiftly, eagerly, with his\\nhead sunk upon his chest and his hands clasped behind him.',\n",
              " 'to me, who\\nknew his every mood and habit, his attitude and manner told their own\\nstory.',\n",
              " 'he was at work again.',\n",
              " 'he had risen out of his drug-created\\ndreams and was hot upon the scent of some new problem.',\n",
              " 'i rang the bell\\nand was shown up to the chamber which had formerly been in part my own.',\n",
              " 'his manner was not effusive.',\n",
              " 'it seldom was; but he was glad, i think,\\nto see me.',\n",
              " 'with hardly a word spoken, but with a kindly eye, he waved\\nme to an armchair, threw across his case of cigars, and indicated a\\nspirit case and a gasogene in the corner.',\n",
              " 'then he stood before the fire\\nand looked me over in his singular introspective fashion.',\n",
              " '“wedlock suits you,” he remarked.',\n",
              " '“i think, watson, that you have put\\non seven and a half pounds since i saw you.”\\n\\n“seven!” i answered.',\n",
              " '“indeed, i should have thought a little more.',\n",
              " 'just a trifle more, i\\nfancy, watson.',\n",
              " 'and in practice again, i observe.',\n",
              " 'you did not tell me\\nthat you intended to go into harness.”\\n\\n“then, how do you know?”\\n\\n“i see it, i deduce it.',\n",
              " 'how do i know that you have been getting\\nyourself very wet lately, and that you have a most clumsy and careless\\nservant girl?”\\n\\n“my dear holmes,” said i, “this is too much.',\n",
              " 'you would certainly have\\nbeen burned, had you lived a few centuries ago.',\n",
              " 'it is true that i had a\\ncountry walk on thursday and came home in a dreadful mess, but as i\\nhave changed my clothes i can’t imagine how you deduce it.',\n",
              " 'as to mary\\njane, she is incorrigible, and my wife has given her notice, but there,\\nagain, i fail to see how you work it out.”\\n\\nhe chuckled to himself and rubbed his long, nervous hands together.',\n",
              " '“it is simplicity itself,” said he; “my eyes tell me that on the inside\\nof your left shoe, just where the firelight strikes it, the leather is\\nscored by six almost parallel cuts.',\n",
              " 'obviously they have been caused by\\nsomeone who has very carelessly scraped round the edges of the sole in\\norder to remove crusted mud from it.',\n",
              " 'hence, you see, my double\\ndeduction that you had been out in vile weather, and that you had a\\nparticularly malignant boot-slitting specimen of the london slavey.',\n",
              " 'as\\nto your practice, if a gentleman walks into my rooms smelling of\\niodoform, with a black mark of nitrate of silver upon his right\\nforefinger, and a bulge on the right side of his top-hat to show where\\nhe has secreted his stethoscope, i must be dull, indeed, if i do not\\npronounce him to be an active member of the medical profession.”\\n\\ni could not help laughing at the ease with which he explained his\\nprocess of deduction.',\n",
              " '“when i hear you give your reasons,” i remarked,\\n“the thing always appears to me to be so ridiculously simple that i\\ncould easily do it myself, though at each successive instance of your\\nreasoning i am baffled until you explain your process.',\n",
              " 'and yet i\\nbelieve that my eyes are as good as yours.”\\n\\n“quite so,” he answered, lighting a cigarette, and throwing himself\\ndown into an armchair.',\n",
              " '“you see, but you do not observe.',\n",
              " 'the\\ndistinction is clear.',\n",
              " 'for example, you have frequently seen the steps\\nwhich lead up from the hall to this room.”\\n\\n“frequently.”\\n\\n“how often?”\\n\\n“well, some hundreds of times.”\\n\\n“then how many are there?”\\n\\n“how many?',\n",
              " 'i don’t know.”\\n\\n“quite so!',\n",
              " 'you have not observed.',\n",
              " 'and yet you have seen.',\n",
              " 'that is just\\nmy point.',\n",
              " 'now, i know that there are seventeen steps, because i have\\nboth seen and observed.',\n",
              " 'by the way, since you are interested in these\\nlittle problems, and since you are good enough to chronicle one or two\\nof my trifling experiences, you may be interested in this.” he threw\\nover a sheet of thick, pink-tinted notepaper which had been lying open\\nupon the table.',\n",
              " '“it came by the last post,” said he.',\n",
              " '“read it aloud.”\\n\\nthe note was undated, and without either signature or address.',\n",
              " '“there will call upon you to-night, at a quarter to eight o’clock,” it\\nsaid, “a gentleman who desires to consult you upon a matter of the very\\ndeepest moment.',\n",
              " 'your recent services to one of the royal houses of\\neurope have shown that you are one who may safely be trusted with\\nmatters which are of an importance which can hardly be exaggerated.',\n",
              " 'this account of you we have from all quarters received.',\n",
              " 'be in your\\nchamber then at that hour, and do not take it amiss if your visitor\\nwear a mask.”\\n\\n“this is indeed a mystery,” i remarked.',\n",
              " '“what do you imagine that it\\nmeans?”\\n\\n“i have no data yet.',\n",
              " 'it is a capital mistake to theorise before one has\\ndata.',\n",
              " 'insensibly one begins to twist facts to suit theories, instead of\\ntheories to suit facts.',\n",
              " 'but the note itself.',\n",
              " 'what do you deduce from\\nit?”\\n\\ni carefully examined the writing, and the paper upon which it was\\nwritten.',\n",
              " '“the man who wrote it was presumably well to do,” i remarked,\\nendeavouring to imitate my companion’s processes.',\n",
              " '“such paper could not\\nbe bought under half a crown a packet.',\n",
              " 'it is peculiarly strong and\\nstiff.”\\n\\n“peculiar—that is the very word,” said holmes.',\n",
              " '“it is not an english\\npaper at all.',\n",
              " 'hold it up to the light.”\\n\\ni did so, and saw a large “e” with a small “g,” a “p,” and a large “g”\\nwith a small “t” woven into the texture of the paper.',\n",
              " '“what do you make of that?” asked holmes.',\n",
              " '“the name of the maker, no doubt; or his monogram, rather.”\\n\\n“not at all.',\n",
              " 'the ‘g’ with the small ‘t’ stands for ‘gesellschaft,’\\nwhich is the german for ‘company.’ it is a customary contraction like\\nour ‘co.’ ‘p,’ of course, stands for ‘papier.’ now for the ‘eg.’ let us\\nglance at our continental gazetteer.” he took down a heavy brown volume\\nfrom his shelves.',\n",
              " '“eglow, eglonitz—here we are, egria.',\n",
              " 'it is in a\\ngerman-speaking country—in bohemia, not far from carlsbad.',\n",
              " '‘remarkable\\nas being the scene of the death of wallenstein, and for its numerous\\nglass-factories and paper-mills.’ ha, ha, my boy, what do you make of\\nthat?” his eyes sparkled, and he sent up a great blue triumphant cloud\\nfrom his cigarette.',\n",
              " '“the paper was made in bohemia,” i said.',\n",
              " '“precisely.',\n",
              " 'and the man who wrote the note is a german.',\n",
              " 'do you note the\\npeculiar construction of the sentence—‘this account of you we have from\\nall quarters received.’ a frenchman or russian could not have written\\nthat.',\n",
              " 'it is the german who is so uncourteous to his verbs.',\n",
              " 'it only\\nremains, therefore, to discover what is wanted by this german who\\nwrites upon bohemian paper and prefers wearing a mask to showing his\\nface.',\n",
              " 'and here he comes, if i am not mistaken, to resolve all our\\ndoubts.”\\n\\nas he spoke there was the sharp sound of horses’ hoofs and grating\\nwheels against the curb, followed by a sharp pull at the bell.',\n",
              " 'holmes\\nwhistled.',\n",
              " '“a pair, by the sound,” said he.',\n",
              " '“yes,” he continued, glancing out of\\nthe window.',\n",
              " '“a nice little brougham and a pair of beauties.',\n",
              " 'a hundred\\nand fifty guineas apiece.',\n",
              " 'there’s money in this case, watson, if there\\nis nothing else.”\\n\\n“i think that i had better go, holmes.”\\n\\n“not a bit, doctor.',\n",
              " 'stay where you are.',\n",
              " 'i am lost without my boswell.',\n",
              " 'and this promises to be interesting.',\n",
              " 'it would be a pity to miss it.”\\n\\n“but your client—”\\n\\n“never mind him.',\n",
              " 'i may want your help, and so may he.',\n",
              " 'here he comes.',\n",
              " 'sit down in that armchair, doctor, and give us your best attention.”\\n\\na slow and heavy step, which had been heard upon the stairs and in the\\npassage, paused immediately outside the door.',\n",
              " 'then there was a loud and\\nauthoritative tap.',\n",
              " '“come in!” said holmes.',\n",
              " 'a man entered who could hardly have been less than six feet six inches\\nin height, with the chest and limbs of a hercules.',\n",
              " 'his dress was rich\\nwith a richness which would, in england, be looked upon as akin to bad\\ntaste.',\n",
              " 'heavy bands of astrakhan were slashed across the sleeves and\\nfronts of his double-breasted coat, while the deep blue cloak which was\\nthrown over his shoulders was lined with flame-coloured silk and\\nsecured at the neck with a brooch which consisted of a single flaming\\nberyl.',\n",
              " 'boots which extended halfway up his calves, and which were\\ntrimmed at the tops with rich brown fur, completed the impression of\\nbarbaric opulence which was suggested by his whole appearance.',\n",
              " 'he\\ncarried a broad-brimmed hat in his hand, while he wore across the upper\\npart of his face, extending down past the cheekbones, a black vizard\\nmask, which he had apparently adjusted that very moment, for his hand\\nwas still raised to it as he entered.',\n",
              " 'from the lower part of the face\\nhe appeared to be a man of strong character, with a thick, hanging lip,\\nand a long, straight chin suggestive of resolution pushed to the length\\nof obstinacy.',\n",
              " '“you had my note?” he asked with a deep harsh voice and a strongly\\nmarked german accent.',\n",
              " '“i told you that i would call.” he looked from\\none to the other of us, as if uncertain which to address.',\n",
              " '“pray take a seat,” said holmes.',\n",
              " '“this is my friend and colleague, dr.\\nwatson, who is occasionally good enough to help me in my cases.',\n",
              " 'whom\\nhave i the honour to address?”\\n\\n“you may address me as the count von kramm, a bohemian nobleman.',\n",
              " 'i\\nunderstand that this gentleman, your friend, is a man of honour and\\ndiscretion, whom i may trust with a matter of the most extreme\\nimportance.',\n",
              " 'if not, i should much prefer to communicate with you\\nalone.”\\n\\ni rose to go, but holmes caught me by the wrist and pushed me back into\\nmy chair.',\n",
              " '“it is both, or none,” said he.',\n",
              " '“you may say before this\\ngentleman anything which you may say to me.”\\n\\nthe count shrugged his broad shoulders.',\n",
              " '“then i must begin,” said he,\\n“by binding you both to absolute secrecy for two years; at the end of\\nthat time the matter will be of no importance.',\n",
              " 'at present it is not too\\nmuch to say that it is of such weight it may have an influence upon\\neuropean history.”\\n\\n“i promise,” said holmes.',\n",
              " '“and i.”\\n\\n“you will excuse this mask,” continued our strange visitor.',\n",
              " '“the august\\nperson who employs me wishes his agent to be unknown to you, and i may\\nconfess at once that the title by which i have just called myself is\\nnot exactly my own.”\\n\\n“i was aware of it,” said holmes dryly.',\n",
              " '“the circumstances are of great delicacy, and every precaution has to\\nbe taken to quench what might grow to be an immense scandal and\\nseriously compromise one of the reigning families of europe.',\n",
              " 'to speak\\nplainly, the matter implicates the great house of ormstein, hereditary\\nkings of bohemia.”\\n\\n“i was also aware of that,” murmured holmes, settling himself down in\\nhis armchair and closing his eyes.',\n",
              " 'our visitor glanced with some apparent surprise at the languid,\\nlounging figure of the man who had been no doubt depicted to him as the\\nmost incisive reasoner and most energetic agent in europe.',\n",
              " 'holmes\\nslowly reopened his eyes and looked impatiently at his gigantic client.',\n",
              " '“if your majesty would condescend to state your case,” he remarked, “i\\nshould be better able to advise you.”\\n\\nthe man sprang from his chair and paced up and down the room in\\nuncontrollable agitation.',\n",
              " 'then, with a gesture of desperation, he tore\\nthe mask from his face and hurled it upon the ground.',\n",
              " '“you are right,”\\nhe cried; “i am the king.',\n",
              " 'why should i attempt to conceal it?”\\n\\n“why, indeed?” murmured holmes.',\n",
              " '“your majesty had not spoken before i\\nwas aware that i was addressing wilhelm gottsreich sigismond von\\normstein, grand duke of cassel-felstein, and hereditary king of\\nbohemia.”\\n\\n“but you can understand,” said our strange visitor, sitting down once\\nmore and passing his hand over his high white forehead, “you can\\nunderstand that i am not accustomed to doing such business in my own\\nperson.',\n",
              " 'yet the matter was so delicate that i could not confide it to\\nan agent without putting myself in his power.',\n",
              " 'i have come _incognito_\\nfrom prague for the purpose of consulting you.”\\n\\n“then, pray consult,” said holmes, shutting his eyes once more.',\n",
              " '“the facts are briefly these: some five years ago, during a lengthy\\nvisit to warsaw, i made the acquaintance of the well-known adventuress,\\nirene adler.',\n",
              " 'the name is no doubt familiar to you.”\\n\\n“kindly look her up in my index, doctor,” murmured holmes without\\nopening his eyes.',\n",
              " 'for many years he had adopted a system of docketing\\nall paragraphs concerning men and things, so that it was difficult to\\nname a subject or a person on which he could not at once furnish\\ninformation.',\n",
              " 'in this case i found her biography sandwiched in between\\nthat of a hebrew rabbi and that of a staff-commander who had written a\\nmonograph upon the deep-sea fishes.',\n",
              " '“let me see!” said holmes.',\n",
              " '“hum!',\n",
              " 'born in new jersey in the year 1858.\\ncontralto—hum!',\n",
              " 'la scala, hum!',\n",
              " 'prima donna imperial opera of warsaw—yes!',\n",
              " 'retired from operatic stage—ha!',\n",
              " 'living in london—quite so!',\n",
              " 'your\\nmajesty, as i understand, became entangled with this young person,\\nwrote her some compromising letters, and is now desirous of getting\\nthose letters back.”\\n\\n“precisely so.',\n",
              " 'but how—”\\n\\n“was there a secret marriage?”\\n\\n“none.”\\n\\n“no legal papers or certificates?”\\n\\n“none.”\\n\\n“then i fail to follow your majesty.',\n",
              " 'if this young person should\\nproduce her letters for blackmailing or other purposes, how is she to\\nprove their authenticity?”\\n\\n“there is the writing.”\\n\\n“pooh, pooh!',\n",
              " 'forgery.”\\n\\n“my private note-paper.”\\n\\n“stolen.”\\n\\n“my own seal.”\\n\\n“imitated.”\\n\\n“my photograph.”\\n\\n“bought.”\\n\\n“we were both in the photograph.”\\n\\n“oh, dear!',\n",
              " 'that is very bad!',\n",
              " 'your majesty has indeed committed an\\nindiscretion.”\\n\\n“i was mad—insane.”\\n\\n“you have compromised yourself seriously.”\\n\\n“i was only crown prince then.',\n",
              " 'i was young.',\n",
              " 'i am but thirty now.”\\n\\n“it must be recovered.”\\n\\n“we have tried and failed.”\\n\\n“your majesty must pay.',\n",
              " 'it must be bought.”\\n\\n“she will not sell.”\\n\\n“stolen, then.”\\n\\n“five attempts have been made.',\n",
              " 'twice burglars in my pay ransacked her\\nhouse.',\n",
              " 'once we diverted her luggage when she travelled.',\n",
              " 'twice she has\\nbeen waylaid.',\n",
              " 'there has been no result.”\\n\\n“no sign of it?”\\n\\n“absolutely none.”\\n\\nholmes laughed.',\n",
              " '“it is quite a pretty little problem,” said he.',\n",
              " '“but a very serious one to me,” returned the king reproachfully.',\n",
              " '“very, indeed.',\n",
              " 'and what does she propose to do with the photograph?”\\n\\n“to ruin me.”\\n\\n“but how?”\\n\\n“i am about to be married.”\\n\\n“so i have heard.”\\n\\n“to clotilde lothman von saxe-meningen, second daughter of the king of\\nscandinavia.',\n",
              " 'you may know the strict principles of her family.',\n",
              " 'she is\\nherself the very soul of delicacy.',\n",
              " 'a shadow of a doubt as to my conduct\\nwould bring the matter to an end.”\\n\\n“and irene adler?”\\n\\n“threatens to send them the photograph.',\n",
              " 'and she will do it.',\n",
              " 'i know that\\nshe will do it.',\n",
              " 'you do not know her, but she has a soul of steel.',\n",
              " 'she\\nhas the face of the most beautiful of women, and the mind of the most\\nresolute of men.',\n",
              " 'rather than i should marry another woman, there are no\\nlengths to which she would not go—none.”\\n\\n“you are sure that she has not sent it yet?”\\n\\n“i am sure.”\\n\\n“and why?”\\n\\n“because she has said that she would send it on the day when the\\nbetrothal was publicly proclaimed.',\n",
              " 'that will be next monday.”\\n\\n“oh, then we have three days yet,” said holmes with a yawn.',\n",
              " '“that is\\nvery fortunate, as i have one or two matters of importance to look into\\njust at present.',\n",
              " 'your majesty will, of course, stay in london for the\\npresent?”\\n\\n“certainly.',\n",
              " 'you will find me at the langham under the name of the count\\nvon kramm.”\\n\\n“then i shall drop you a line to let you know how we progress.”\\n\\n“pray do so.',\n",
              " 'i shall be all anxiety.”\\n\\n“then, as to money?”\\n\\n“you have _carte blanche_.”\\n\\n“absolutely?”\\n\\n“i tell you that i would give one of the provinces of my kingdom to\\nhave that photograph.”\\n\\n“and for present expenses?”\\n\\nthe king took a heavy chamois leather bag from under his cloak and laid\\nit on the table.',\n",
              " '“there are three hundred pounds in gold and seven hundred in notes,” he\\nsaid.',\n",
              " 'holmes scribbled a receipt upon a sheet of his note-book and handed it\\nto him.',\n",
              " '“and mademoiselle’s address?” he asked.',\n",
              " '“is briony lodge, serpentine avenue, st. john’s wood.”\\n\\nholmes took a note of it.',\n",
              " '“one other question,” said he.',\n",
              " '“was the\\nphotograph a cabinet?”\\n\\n“it was.”\\n\\n“then, good-night, your majesty, and i trust that we shall soon have\\nsome good news for you.',\n",
              " 'and good-night, watson,” he added, as the\\nwheels of the royal brougham rolled down the street.',\n",
              " '“if you will be\\ngood enough to call to-morrow afternoon at three o’clock i should like\\nto chat this little matter over with you.”\\n\\n\\nii.',\n",
              " 'at three o’clock precisely i was at baker street, but holmes had not\\nyet returned.',\n",
              " 'the landlady informed me that he had left the house\\nshortly after eight o’clock in the morning.',\n",
              " 'i sat down beside the fire,\\nhowever, with the intention of awaiting him, however long he might be.',\n",
              " 'i was already deeply interested in his inquiry, for, though it was\\nsurrounded by none of the grim and strange features which were\\nassociated with the two crimes which i have already recorded, still,\\nthe nature of the case and the exalted station of his client gave it a\\ncharacter of its own.',\n",
              " 'indeed, apart from the nature of the\\ninvestigation which my friend had on hand, there was something in his\\nmasterly grasp of a situation, and his keen, incisive reasoning, which\\nmade it a pleasure to me to study his system of work, and to follow the\\nquick, subtle methods by which he disentangled the most inextricable\\nmysteries.',\n",
              " 'so accustomed was i to his invariable success that the very\\npossibility of his failing had ceased to enter into my head.',\n",
              " 'it was close upon four before the door opened, and a drunken-looking\\ngroom, ill-kempt and side-whiskered, with an inflamed face and\\ndisreputable clothes, walked into the room.',\n",
              " 'accustomed as i was to my\\nfriend’s amazing powers in the use of disguises, i had to look three\\ntimes before i was certain that it was indeed he.',\n",
              " 'with a nod he\\nvanished into the bedroom, whence he emerged in five minutes\\ntweed-suited and respectable, as of old.',\n",
              " 'putting his hands into his\\npockets, he stretched out his legs in front of the fire and laughed\\nheartily for some minutes.',\n",
              " '“well, really!” he cried, and then he choked and laughed again until he\\nwas obliged to lie back, limp and helpless, in the chair.',\n",
              " '“what is it?”\\n\\n“it’s quite too funny.',\n",
              " 'i am sure you could never guess how i employed\\nmy morning, or what i ended by doing.”\\n\\n“i can’t imagine.',\n",
              " 'i suppose that you have been watching the habits, and\\nperhaps the house, of miss irene adler.”\\n\\n“quite so; but the sequel was rather unusual.',\n",
              " 'i will tell you, however.',\n",
              " 'i left the house a little after eight o’clock this morning in the\\ncharacter of a groom out of work.',\n",
              " 'there is a wonderful sympathy and\\nfreemasonry among horsey men.',\n",
              " 'be one of them, and you will know all\\nthat there is to know.',\n",
              " 'i soon found briony lodge.',\n",
              " 'it is a _bijou_\\nvilla, with a garden at the back, but built out in front right up to\\nthe road, two stories.',\n",
              " 'chubb lock to the door.',\n",
              " 'large sitting-room on\\nthe right side, well furnished, with long windows almost to the floor,\\nand those preposterous english window fasteners which a child could\\nopen.',\n",
              " 'behind there was nothing remarkable, save that the passage window\\ncould be reached from the top of the coach-house.',\n",
              " 'i walked round it and\\nexamined it closely from every point of view, but without noting\\nanything else of interest.',\n",
              " '“i then lounged down the street and found, as i expected, that there\\nwas a mews in a lane which runs down by one wall of the garden.',\n",
              " 'i lent\\nthe ostlers a hand in rubbing down their horses, and received in\\nexchange twopence, a glass of half-and-half, two fills of shag tobacco,\\nand as much information as i could desire about miss adler, to say\\nnothing of half a dozen other people in the neighbourhood in whom i was\\nnot in the least interested, but whose biographies i was compelled to\\nlisten to.”\\n\\n“and what of irene adler?” i asked.',\n",
              " '“oh, she has turned all the men’s heads down in that part.',\n",
              " 'she is the\\ndaintiest thing under a bonnet on this planet.',\n",
              " 'so say the\\nserpentine-mews, to a man.',\n",
              " 'she lives quietly, sings at concerts, drives\\nout at five every day, and returns at seven sharp for dinner.',\n",
              " 'seldom\\ngoes out at other times, except when she sings.',\n",
              " 'has only one male\\nvisitor, but a good deal of him.',\n",
              " 'he is dark, handsome, and dashing,\\nnever calls less than once a day, and often twice.',\n",
              " 'he is a mr. godfrey\\nnorton, of the inner temple.',\n",
              " 'see the advantages of a cabman as a\\nconfidant.',\n",
              " 'they had driven him home a dozen times from serpentine-mews,\\nand knew all about him.',\n",
              " 'when i had listened to all they had to tell, i\\nbegan to walk up and down near briony lodge once more, and to think\\nover my plan of campaign.',\n",
              " '“this godfrey norton was evidently an important factor in the matter.',\n",
              " 'he was a lawyer.',\n",
              " 'that sounded ominous.',\n",
              " 'what was the relation between\\nthem, and what the object of his repeated visits?',\n",
              " 'was she his client,\\nhis friend, or his mistress?',\n",
              " 'if the former, she had probably\\ntransferred the photograph to his keeping.',\n",
              " 'if the latter, it was less\\nlikely.',\n",
              " 'on the issue of this question depended whether i should\\ncontinue my work at briony lodge, or turn my attention to the\\ngentleman’s chambers in the temple.',\n",
              " 'it was a delicate point, and it\\nwidened the field of my inquiry.',\n",
              " 'i fear that i bore you with these\\ndetails, but i have to let you see my little difficulties, if you are\\nto understand the situation.”\\n\\n“i am following you closely,” i answered.',\n",
              " '“i was still balancing the matter in my mind when a hansom cab drove up\\nto briony lodge, and a gentleman sprang out.',\n",
              " 'he was a remarkably\\nhandsome man, dark, aquiline, and moustached—evidently the man of whom\\ni had heard.',\n",
              " 'he appeared to be in a great hurry, shouted to the cabman\\nto wait, and brushed past the maid who opened the door with the air of\\na man who was thoroughly at home.',\n",
              " '“he was in the house about half an hour, and i could catch glimpses of\\nhim in the windows of the sitting-room, pacing up and down, talking\\nexcitedly, and waving his arms.',\n",
              " 'of her i could see nothing.',\n",
              " 'presently\\nhe emerged, looking even more flurried than before.',\n",
              " 'as he stepped up to\\nthe cab, he pulled a gold watch from his pocket and looked at it\\nearnestly, ‘drive like the devil,’ he shouted, ‘first to gross &\\nhankey’s in regent street, and then to the church of st. monica in the\\nedgeware road.',\n",
              " 'half a guinea if you do it in twenty minutes!’\\n\\n“away they went, and i was just wondering whether i should not do well\\nto follow them when up the lane came a neat little landau, the coachman\\nwith his coat only half-buttoned, and his tie under his ear, while all\\nthe tags of his harness were sticking out of the buckles.',\n",
              " 'it hadn’t\\npulled up before she shot out of the hall door and into it.',\n",
              " 'i only\\ncaught a glimpse of her at the moment, but she was a lovely woman, with\\na face that a man might die for.',\n",
              " '“‘the church of st. monica, john,’ she cried, ‘and half a sovereign if\\nyou reach it in twenty minutes.’\\n\\n“this was quite too good to lose, watson.',\n",
              " 'i was just balancing whether\\ni should run for it, or whether i should perch behind her landau when a\\ncab came through the street.',\n",
              " 'the driver looked twice at such a shabby\\nfare, but i jumped in before he could object.',\n",
              " '‘the church of st.\\nmonica,’ said i, ‘and half a sovereign if you reach it in twenty\\nminutes.’ it was twenty-five minutes to twelve, and of course it was\\nclear enough what was in the wind.',\n",
              " '“my cabby drove fast.',\n",
              " 'i don’t think i ever drove faster, but the others\\nwere there before us.',\n",
              " 'the cab and the landau with their steaming horses\\nwere in front of the door when i arrived.',\n",
              " 'i paid the man and hurried\\ninto the church.',\n",
              " 'there was not a soul there save the two whom i had\\nfollowed and a surpliced clergyman, who seemed to be expostulating with\\nthem.',\n",
              " 'they were all three standing in a knot in front of the altar.',\n",
              " 'i\\nlounged up the side aisle like any other idler who has dropped into a\\nchurch.',\n",
              " 'suddenly, to my surprise, the three at the altar faced round to\\nme, and godfrey norton came running as hard as he could towards me.',\n",
              " '“‘thank god,’ he cried.',\n",
              " '‘you’ll do.',\n",
              " 'come!',\n",
              " 'come!’\\n\\n“‘what then?’ i asked.',\n",
              " '“‘come, man, come, only three minutes, or it won’t be legal.’\\n\\n“i was half-dragged up to the altar, and before i knew where i was i\\nfound myself mumbling responses which were whispered in my ear, and\\nvouching for things of which i knew nothing, and generally assisting in\\nthe secure tying up of irene adler, spinster, to godfrey norton,\\nbachelor.',\n",
              " 'it was all done in an instant, and there was the gentleman\\nthanking me on the one side and the lady on the other, while the\\nclergyman beamed on me in front.',\n",
              " 'it was the most preposterous position\\nin which i ever found myself in my life, and it was the thought of it\\nthat started me laughing just now.',\n",
              " 'it seems that there had been some\\ninformality about their license, that the clergyman absolutely refused\\nto marry them without a witness of some sort, and that my lucky\\nappearance saved the bridegroom from having to sally out into the\\nstreets in search of a best man.',\n",
              " 'the bride gave me a sovereign, and i\\nmean to wear it on my watch chain in memory of the occasion.”\\n\\n“this is a very unexpected turn of affairs,” said i; “and what then?”\\n\\n“well, i found my plans very seriously menaced.',\n",
              " 'it looked as if the\\npair might take an immediate departure, and so necessitate very prompt\\nand energetic measures on my part.',\n",
              " 'at the church door, however, they\\nseparated, he driving back to the temple, and she to her own house.',\n",
              " '‘i\\nshall drive out in the park at five as usual,’ she said as she left\\nhim.',\n",
              " 'i heard no more.',\n",
              " 'they drove away in different directions, and i\\nwent off to make my own arrangements.”\\n\\n“which are?”\\n\\n“some cold beef and a glass of beer,” he answered, ringing the bell.',\n",
              " '“i\\nhave been too busy to think of food, and i am likely to be busier still\\nthis evening.',\n",
              " 'by the way, doctor, i shall want your co-operation.”\\n\\n“i shall be delighted.”\\n\\n“you don’t mind breaking the law?”\\n\\n“not in the least.”\\n\\n“nor running a chance of arrest?”\\n\\n“not in a good cause.”\\n\\n“oh, the cause is excellent!”\\n\\n“then i am your man.”\\n\\n“i was sure that i might rely on you.”\\n\\n“but what is it you wish?”\\n\\n“when mrs. turner has brought in the tray i will make it clear to you.',\n",
              " 'now,” he said as he turned hungrily on the simple fare that our\\nlandlady had provided, “i must discuss it while i eat, for i have not\\nmuch time.',\n",
              " 'it is nearly five now.',\n",
              " 'in two hours we must be on the scene\\nof action.',\n",
              " 'miss irene, or madame, rather, returns from her drive at\\nseven.',\n",
              " 'we must be at briony lodge to meet her.”\\n\\n“and what then?”\\n\\n“you must leave that to me.',\n",
              " 'i have already arranged what is to occur.',\n",
              " 'there is only one point on which i must insist.',\n",
              " 'you must not interfere,\\ncome what may.',\n",
              " 'you understand?”\\n\\n“i am to be neutral?”\\n\\n“to do nothing whatever.',\n",
              " 'there will probably be some small\\nunpleasantness.',\n",
              " 'do not join in it.',\n",
              " 'it will end in my being conveyed\\ninto the house.',\n",
              " 'four or five minutes afterwards the sitting-room window\\nwill open.',\n",
              " 'you are to station yourself close to that open window.”\\n\\n“yes.”\\n\\n“you are to watch me, for i will be visible to you.”\\n\\n“yes.”\\n\\n“and when i raise my hand—so—you will throw into the room what i give\\nyou to throw, and will, at the same time, raise the cry of fire.',\n",
              " 'you\\nquite follow me?”\\n\\n“entirely.”\\n\\n“it is nothing very formidable,” he said, taking a long cigar-shaped\\nroll from his pocket.',\n",
              " '“it is an ordinary plumber’s smoke-rocket, fitted\\nwith a cap at either end to make it self-lighting.',\n",
              " 'your task is\\nconfined to that.',\n",
              " 'when you raise your cry of fire, it will be taken up\\nby quite a number of people.',\n",
              " 'you may then walk to the end of the\\nstreet, and i will rejoin you in ten minutes.',\n",
              " 'i hope that i have made\\nmyself clear?”\\n\\n“i am to remain neutral, to get near the window, to watch you, and at\\nthe signal to throw in this object, then to raise the cry of fire, and\\nto wait you at the corner of the street.”\\n\\n“precisely.”\\n\\n“then you may entirely rely on me.”\\n\\n“that is excellent.',\n",
              " 'i think, perhaps, it is almost time that i prepare\\nfor the new role i have to play.”\\n\\nhe disappeared into his bedroom and returned in a few minutes in the\\ncharacter of an amiable and simple-minded nonconformist clergyman.',\n",
              " 'his\\nbroad black hat, his baggy trousers, his white tie, his sympathetic\\nsmile, and general look of peering and benevolent curiosity were such\\nas mr. john hare alone could have equalled.',\n",
              " 'it was not merely that\\nholmes changed his costume.',\n",
              " 'his expression, his manner, his very soul\\nseemed to vary with every fresh part that he assumed.',\n",
              " 'the stage lost a\\nfine actor, even as science lost an acute reasoner, when he became a\\nspecialist in crime.',\n",
              " 'it was a quarter past six when we left baker street, and it still\\nwanted ten minutes to the hour when we found ourselves in serpentine\\navenue.',\n",
              " 'it was already dusk, and the lamps were just being lighted as\\nwe paced up and down in front of briony lodge, waiting for the coming\\nof its occupant.',\n",
              " 'the house was just such as i had pictured it from\\nsherlock holmes’ succinct description, but the locality appeared to be\\nless private than i expected.',\n",
              " 'on the contrary, for a small street in a\\nquiet neighbourhood, it was remarkably animated.',\n",
              " 'there was a group of\\nshabbily dressed men smoking and laughing in a corner, a\\nscissors-grinder with his wheel, two guardsmen who were flirting with a\\nnurse-girl, and several well-dressed young men who were lounging up and\\ndown with cigars in their mouths.',\n",
              " '“you see,” remarked holmes, as we paced to and fro in front of the\\nhouse, “this marriage rather simplifies matters.',\n",
              " 'the photograph becomes\\na double-edged weapon now.',\n",
              " 'the chances are that she would be as averse\\nto its being seen by mr. godfrey norton, as our client is to its coming\\nto the eyes of his princess.',\n",
              " 'now the question is, where are we to find\\nthe photograph?”\\n\\n“where, indeed?”\\n\\n“it is most unlikely that she carries it about with her.',\n",
              " 'it is cabinet\\nsize.',\n",
              " 'too large for easy concealment about a woman’s dress.',\n",
              " 'she knows\\nthat the king is capable of having her waylaid and searched.',\n",
              " 'two\\nattempts of the sort have already been made.',\n",
              " 'we may take it, then, that\\nshe does not carry it about with her.”\\n\\n“where, then?”\\n\\n“her banker or her lawyer.',\n",
              " 'there is that double possibility.',\n",
              " 'but i am\\ninclined to think neither.',\n",
              " 'women are naturally secretive, and they like\\nto do their own secreting.',\n",
              " 'why should she hand it over to anyone else?',\n",
              " 'she could trust her own guardianship, but she could not tell what\\nindirect or political influence might be brought to bear upon a\\nbusiness man.',\n",
              " 'besides, remember that she had resolved to use it within\\na few days.',\n",
              " 'it must be where she can lay her hands upon it.',\n",
              " 'it must be\\nin her own house.”\\n\\n“but it has twice been burgled.”\\n\\n“pshaw!',\n",
              " 'they did not know how to look.”\\n\\n“but how will you look?”\\n\\n“i will not look.”\\n\\n“what then?”\\n\\n“i will get her to show me.”\\n\\n“but she will refuse.”\\n\\n“she will not be able to.',\n",
              " 'but i hear the rumble of wheels.',\n",
              " 'it is her\\ncarriage.',\n",
              " 'now carry out my orders to the letter.”\\n\\nas he spoke the gleam of the sidelights of a carriage came round the\\ncurve of the avenue.',\n",
              " 'it was a smart little landau which rattled up to\\nthe door of briony lodge.',\n",
              " 'as it pulled up, one of the loafing men at\\nthe corner dashed forward to open the door in the hope of earning a\\ncopper, but was elbowed away by another loafer, who had rushed up with\\nthe same intention.',\n",
              " 'a fierce quarrel broke out, which was increased by\\nthe two guardsmen, who took sides with one of the loungers, and by the\\nscissors-grinder, who was equally hot upon the other side.',\n",
              " 'a blow was\\nstruck, and in an instant the lady, who had stepped from her carriage,\\nwas the centre of a little knot of flushed and struggling men, who\\nstruck savagely at each other with their fists and sticks.',\n",
              " 'holmes\\ndashed into the crowd to protect the lady; but, just as he reached her,\\nhe gave a cry and dropped to the ground, with the blood running freely\\ndown his face.',\n",
              " 'at his fall the guardsmen took to their heels in one\\ndirection and the loungers in the other, while a number of better\\ndressed people, who had watched the scuffle without taking part in it,\\ncrowded in to help the lady and to attend to the injured man.',\n",
              " 'irene\\nadler, as i will still call her, had hurried up the steps; but she\\nstood at the top with her superb figure outlined against the lights of\\nthe hall, looking back into the street.',\n",
              " '“is the poor gentleman much hurt?” she asked.',\n",
              " '“he is dead,” cried several voices.',\n",
              " '“no, no, there’s life in him!” shouted another.',\n",
              " '“but he’ll be gone\\nbefore you can get him to hospital.”\\n\\n“he’s a brave fellow,” said a woman.',\n",
              " '“they would have had the lady’s\\npurse and watch if it hadn’t been for him.',\n",
              " 'they were a gang, and a\\nrough one, too.',\n",
              " 'ah, he’s breathing now.”\\n\\n“he can’t lie in the street.',\n",
              " 'may we bring him in, marm?”\\n\\n“surely.',\n",
              " 'bring him into the sitting-room.',\n",
              " 'there is a comfortable sofa.',\n",
              " 'this way, please!”\\n\\nslowly and solemnly he was borne into briony lodge and laid out in the\\nprincipal room, while i still observed the proceedings from my post by\\nthe window.',\n",
              " 'the lamps had been lit, but the blinds had not been drawn,\\nso that i could see holmes as he lay upon the couch.',\n",
              " 'i do not know\\nwhether he was seized with compunction at that moment for the part he\\nwas playing, but i know that i never felt more heartily ashamed of\\nmyself in my life than when i saw the beautiful creature against whom i\\nwas conspiring, or the grace and kindliness with which she waited upon\\nthe injured man.',\n",
              " 'and yet it would be the blackest treachery to holmes\\nto draw back now from the part which he had intrusted to me.',\n",
              " 'i hardened\\nmy heart, and took the smoke-rocket from under my ulster.',\n",
              " 'after all, i\\nthought, we are not injuring her.',\n",
              " 'we are but preventing her from\\ninjuring another.',\n",
              " 'holmes had sat up upon the couch, and i saw him motion like a man who\\nis in need of air.',\n",
              " 'a maid rushed across and threw open the window.',\n",
              " 'at\\nthe same instant i saw him raise his hand and at the signal i tossed my\\nrocket into the room with a cry of “fire!” the word was no sooner out\\nof my mouth than the whole crowd of spectators, well dressed and\\nill—gentlemen, ostlers, and servant maids—joined in a general shriek of\\n“fire!” thick clouds of smoke curled through the room and out at the\\nopen window.',\n",
              " 'i caught a glimpse of rushing figures, and a moment later\\nthe voice of holmes from within assuring them that it was a false\\nalarm.',\n",
              " 'slipping through the shouting crowd i made my way to the corner\\nof the street, and in ten minutes was rejoiced to find my friend’s arm\\nin mine, and to get away from the scene of uproar.',\n",
              " 'he walked swiftly\\nand in silence for some few minutes until we had turned down one of the\\nquiet streets which lead towards the edgeware road.',\n",
              " '“you did it very nicely, doctor,” he remarked.',\n",
              " '“nothing could have been\\nbetter.',\n",
              " 'it is all right.”\\n\\n“you have the photograph?”\\n\\n“i know where it is.”\\n\\n“and how did you find out?”\\n\\n“she showed me, as i told you she would.”\\n\\n“i am still in the dark.”\\n\\n“i do not wish to make a mystery,” said he, laughing.',\n",
              " '“the matter was\\nperfectly simple.',\n",
              " 'you, of course, saw that everyone in the street was\\nan accomplice.',\n",
              " 'they were all engaged for the evening.”\\n\\n“i guessed as much.”\\n\\n“then, when the row broke out, i had a little moist red paint in the\\npalm of my hand.',\n",
              " 'i rushed forward, fell down, clapped my hand to my\\nface, and became a piteous spectacle.',\n",
              " 'it is an old trick.”\\n\\n“that also i could fathom.”\\n\\n“then they carried me in.',\n",
              " 'she was bound to have me in.',\n",
              " 'what else could\\nshe do?',\n",
              " 'and into her sitting-room, which was the very room which i\\nsuspected.',\n",
              " 'it lay between that and her bedroom, and i was determined to\\nsee which.',\n",
              " 'they laid me on a couch, i motioned for air, they were\\ncompelled to open the window, and you had your chance.”\\n\\n“how did that help you?”\\n\\n“it was all-important.',\n",
              " 'when a woman thinks that her house is on fire,\\nher instinct is at once to rush to the thing which she values most.',\n",
              " 'it\\nis a perfectly overpowering impulse, and i have more than once taken\\nadvantage of it.',\n",
              " 'in the case of the darlington substitution scandal it\\nwas of use to me, and also in the arnsworth castle business.',\n",
              " 'a married\\nwoman grabs at her baby; an unmarried one reaches for her jewel-box.',\n",
              " 'now it was clear to me that our lady of to-day had nothing in the house\\nmore precious to her than what we are in quest of.',\n",
              " 'she would rush to\\nsecure it.',\n",
              " 'the alarm of fire was admirably done.',\n",
              " 'the smoke and shouting\\nwere enough to shake nerves of steel.',\n",
              " 'she responded beautifully.',\n",
              " 'the\\nphotograph is in a recess behind a sliding panel just above the right\\nbell-pull.',\n",
              " 'she was there in an instant, and i caught a glimpse of it as\\nshe half drew it out.',\n",
              " 'when i cried out that it was a false alarm, she\\nreplaced it, glanced at the rocket, rushed from the room, and i have\\nnot seen her since.',\n",
              " 'i rose, and, making my excuses, escaped from the\\nhouse.',\n",
              " 'i hesitated whether to attempt to secure the photograph at once;\\nbut the coachman had come in, and as he was watching me narrowly, it\\nseemed safer to wait.',\n",
              " 'a little over-precipitance may ruin all.”\\n\\n“and now?” i asked.',\n",
              " '“our quest is practically finished.',\n",
              " 'i shall call with the king\\nto-morrow, and with you, if you care to come with us.',\n",
              " 'we will be shown\\ninto the sitting-room to wait for the lady, but it is probable that\\nwhen she comes she may find neither us nor the photograph.',\n",
              " 'it might be\\na satisfaction to his majesty to regain it with his own hands.”\\n\\n“and when will you call?”\\n\\n“at eight in the morning.',\n",
              " 'she will not be up, so that we shall have a\\nclear field.',\n",
              " 'besides, we must be prompt, for this marriage may mean a\\ncomplete change in her life and habits.',\n",
              " 'i must wire to the king without\\ndelay.”\\n\\nwe had reached baker street and had stopped at the door.',\n",
              " 'he was\\nsearching his pockets for the key when someone passing said:\\n\\n“good-night, mister sherlock holmes.”\\n\\nthere were several people on the pavement at the time, but the greeting\\nappeared to come from a slim youth in an ulster who had hurried by.',\n",
              " '“i’ve heard that voice before,” said holmes, staring down the dimly lit\\nstreet.',\n",
              " '“now, i wonder who the deuce that could have been.”\\n\\n\\niii.',\n",
              " 'i slept at baker street that night, and we were engaged upon our toast\\nand coffee in the morning when the king of bohemia rushed into the\\nroom.',\n",
              " '“you have really got it!” he cried, grasping sherlock holmes by either\\nshoulder and looking eagerly into his face.',\n",
              " '“not yet.”\\n\\n“but you have hopes?”\\n\\n“i have hopes.”\\n\\n“then, come.',\n",
              " 'i am all impatience to be gone.”\\n\\n“we must have a cab.”\\n\\n“no, my brougham is waiting.”\\n\\n“then that will simplify matters.” we descended and started off once\\nmore for briony lodge.',\n",
              " '“irene adler is married,” remarked holmes.',\n",
              " '“married!',\n",
              " 'when?”\\n\\n“yesterday.”\\n\\n“but to whom?”\\n\\n“to an english lawyer named norton.”\\n\\n“but she could not love him.”\\n\\n“i am in hopes that she does.”\\n\\n“and why in hopes?”\\n\\n“because it would spare your majesty all fear of future annoyance.',\n",
              " 'if\\nthe lady loves her husband, she does not love your majesty.',\n",
              " 'if she does\\nnot love your majesty, there is no reason why she should interfere with\\nyour majesty’s plan.”\\n\\n“it is true.',\n",
              " 'and yet—!',\n",
              " 'well!',\n",
              " 'i wish she had been of my own station!',\n",
              " 'what a queen she would have made!” he relapsed into a moody silence,\\nwhich was not broken until we drew up in serpentine avenue.',\n",
              " 'the door of briony lodge was open, and an elderly woman stood upon the\\nsteps.',\n",
              " 'she watched us with a sardonic eye as we stepped from the\\nbrougham.',\n",
              " '“mr.',\n",
              " 'sherlock holmes, i believe?” said she.',\n",
              " '“i am mr. holmes,” answered my companion, looking at her with a\\nquestioning and rather startled gaze.',\n",
              " '“indeed!',\n",
              " 'my mistress told me that you were likely to call.',\n",
              " 'she left\\nthis morning with her husband by the 5:15 train from charing cross for\\nthe continent.”\\n\\n“what!” sherlock holmes staggered back, white with chagrin and\\nsurprise.',\n",
              " '“do you mean that she has left england?”\\n\\n“never to return.”\\n\\n“and the papers?” asked the king hoarsely.',\n",
              " '“all is lost.”\\n\\n“we shall see.” he pushed past the servant and rushed into the\\ndrawing-room, followed by the king and myself.',\n",
              " 'the furniture was\\nscattered about in every direction, with dismantled shelves and open\\ndrawers, as if the lady had hurriedly ransacked them before her flight.',\n",
              " 'holmes rushed at the bell-pull, tore back a small sliding shutter, and,\\nplunging in his hand, pulled out a photograph and a letter.',\n",
              " 'the\\nphotograph was of irene adler herself in evening dress, the letter was\\nsuperscribed to “sherlock holmes, esq.',\n",
              " 'to be left till called for.” my\\nfriend tore it open, and we all three read it together.',\n",
              " 'it was dated at\\nmidnight of the preceding night and ran in this way:\\n\\n    “my dear mr. sherlock holmes,—you really did it very well.',\n",
              " 'you took\\n    me in completely.',\n",
              " 'until after the alarm of fire, i had not a\\n    suspicion.',\n",
              " 'but then, when i found how i had betrayed myself, i\\n    began to think.',\n",
              " 'i had been warned against you months ago.',\n",
              " 'i had\\n    been told that, if the king employed an agent, it would certainly\\n    be you.',\n",
              " 'and your address had been given me.',\n",
              " 'yet, with all this, you\\n    made me reveal what you wanted to know.',\n",
              " 'even after i became\\n    suspicious, i found it hard to think evil of such a dear, kind old\\n    clergyman.',\n",
              " 'but, you know, i have been trained as an actress myself.',\n",
              " 'male costume is nothing new to me.',\n",
              " 'i often take advantage of the\\n    freedom which it gives.',\n",
              " 'i sent john, the coachman, to watch you,\\n    ran upstairs, got into my walking clothes, as i call them, and came\\n    down just as you departed.',\n",
              " '“well, i followed you to your door, and so made sure that i was\\n    really an object of interest to the celebrated mr. sherlock holmes.',\n",
              " 'then i, rather imprudently, wished you good-night, and started for\\n    the temple to see my husband.',\n",
              " '“we both thought the best resource was flight, when pursued by so\\n    formidable an antagonist; so you will find the nest empty when you\\n    call to-morrow.',\n",
              " 'as to the photograph, your client may rest in\\n    peace.',\n",
              " 'i love and am loved by a better man than he.',\n",
              " 'the king may do\\n    what he will without hindrance from one whom he has cruelly\\n    wronged.',\n",
              " 'i keep it only to safeguard myself, and to preserve a\\n    weapon which will always secure me from any steps which he might\\n    take in the future.',\n",
              " 'i leave a photograph which he might care to\\n    possess; and i remain, dear mr. sherlock holmes,\\n\\n\\n    “very truly yours,\\n\\n    “irene norton, _née_ adler.”\\n\\n\\n“what a woman—oh, what a woman!” cried the king of bohemia, when we had\\nall three read this epistle.',\n",
              " '“did i not tell you how quick and resolute\\nshe was?',\n",
              " 'would she not have made an admirable queen?',\n",
              " 'is it not a pity\\nthat she was not on my level?”\\n\\n“from what i have seen of the lady, she seems, indeed, to be on a very\\ndifferent level to your majesty,” said holmes coldly.',\n",
              " '“i am sorry that\\ni have not been able to bring your majesty’s business to a more\\nsuccessful conclusion.”\\n\\n“on the contrary, my dear sir,” cried the king; “nothing could be more\\nsuccessful.',\n",
              " 'i know that her word is inviolate.',\n",
              " 'the photograph is now as\\nsafe as if it were in the fire.”\\n\\n“i am glad to hear your majesty say so.”\\n\\n“i am immensely indebted to you.',\n",
              " 'pray tell me in what way i can reward\\nyou.',\n",
              " 'this ring—” he slipped an emerald snake ring from his finger and\\nheld it out upon the palm of his hand.',\n",
              " '“your majesty has something which i should value even more highly,”\\nsaid holmes.',\n",
              " '“you have but to name it.”\\n\\n“this photograph!”\\n\\nthe king stared at him in amazement.',\n",
              " '“irene’s photograph!” he cried.',\n",
              " '“certainly, if you wish it.”\\n\\n“i thank your majesty.',\n",
              " 'then there is no more to be done in the matter.',\n",
              " 'i have the honour to wish you a very good morning.” he bowed, and,\\nturning away without observing the hand which the king had stretched\\nout to him, he set off in my company for his chambers.',\n",
              " 'and that was how a great scandal threatened to affect the kingdom of\\nbohemia, and how the best plans of mr. sherlock holmes were beaten by a\\nwoman’s wit.',\n",
              " 'he used to make merry over the cleverness of women, but i\\nhave not heard him do it of late.',\n",
              " 'and when he speaks of irene adler, or\\nwhen he refers to her photograph, it is always under the honourable\\ntitle of _the_ woman.']"
            ]
          },
          "metadata": {
            "tags": []
          },
          "execution_count": 4
        }
      ]
    },
    {
      "cell_type": "markdown",
      "metadata": {
        "id": "4OnmDmpOFgxD",
        "colab_type": "text"
      },
      "source": [
        "**Tokenization** \n",
        "the process by which big quantity of text is divided into smaller parts called tokens"
      ]
    },
    {
      "cell_type": "code",
      "metadata": {
        "id": "y1Z2aBmexk1c",
        "colab_type": "code",
        "outputId": "9d60afa5-e401-4216-afd1-ef6e904ecdc0",
        "colab": {
          "base_uri": "https://localhost:8080/",
          "height": 243
        }
      },
      "source": [
        "tokens = word_tokenize(sentences[2])\n",
        "tokens"
      ],
      "execution_count": 0,
      "outputs": [
        {
          "output_type": "execute_result",
          "data": {
            "text/plain": [
              "['in',\n",
              " 'his',\n",
              " 'eyes',\n",
              " 'she',\n",
              " 'eclipses',\n",
              " 'and',\n",
              " 'predominates',\n",
              " 'the',\n",
              " 'whole',\n",
              " 'of',\n",
              " 'her',\n",
              " 'sex',\n",
              " '.']"
            ]
          },
          "metadata": {
            "tags": []
          },
          "execution_count": 5
        }
      ]
    },
    {
      "cell_type": "markdown",
      "metadata": {
        "id": "gTRmc32dFmoO",
        "colab_type": "text"
      },
      "source": [
        "Parts of speech taging"
      ]
    },
    {
      "cell_type": "code",
      "metadata": {
        "id": "I1HFF1HRzAn5",
        "colab_type": "code",
        "outputId": "c6e3994f-725f-457d-9e74-d2ed404314f0",
        "colab": {
          "base_uri": "https://localhost:8080/",
          "height": 243
        }
      },
      "source": [
        "from nltk import pos_tag\n",
        "tags = pos_tag(tokens)\n",
        "tags"
      ],
      "execution_count": 0,
      "outputs": [
        {
          "output_type": "execute_result",
          "data": {
            "text/plain": [
              "[('in', 'IN'),\n",
              " ('his', 'PRP$'),\n",
              " ('eyes', 'NNS'),\n",
              " ('she', 'PRP'),\n",
              " ('eclipses', 'VBZ'),\n",
              " ('and', 'CC'),\n",
              " ('predominates', 'VBZ'),\n",
              " ('the', 'DT'),\n",
              " ('whole', 'NN'),\n",
              " ('of', 'IN'),\n",
              " ('her', 'PRP$'),\n",
              " ('sex', 'NN'),\n",
              " ('.', '.')]"
            ]
          },
          "metadata": {
            "tags": []
          },
          "execution_count": 7
        }
      ]
    },
    {
      "cell_type": "code",
      "metadata": {
        "id": "6ou0tY8jzIVu",
        "colab_type": "code",
        "outputId": "98ede7a7-1b14-4a9b-b587-dd4eb13cfdf8",
        "colab": {
          "base_uri": "https://localhost:8080/",
          "height": 87
        }
      },
      "source": [
        "import nltk.help\n",
        "nltk.help.upenn_tagset('NN')"
      ],
      "execution_count": 0,
      "outputs": [
        {
          "output_type": "stream",
          "text": [
            "NN: noun, common, singular or mass\n",
            "    common-carrier cabbage knuckle-duster Casino afghan shed thermostat\n",
            "    investment slide humour falloff slick wind hyena override subhumanity\n",
            "    machinist ...\n"
          ],
          "name": "stdout"
        }
      ]
    },
    {
      "cell_type": "code",
      "metadata": {
        "id": "dG5epNHNzP3s",
        "colab_type": "code",
        "outputId": "9303754d-80fb-4d14-acfb-b71827c2d339",
        "colab": {
          "base_uri": "https://localhost:8080/",
          "height": 52
        }
      },
      "source": [
        "#text\n",
        "from sklearn.feature_extraction.text import CountVectorizer\n",
        "vectorizer = CountVectorizer(stop_words='english')\n",
        "vectorizer\n",
        "\n",
        "text=[text]\n",
        "X = vectorizer.fit_transform(text)\n",
        "X"
      ],
      "execution_count": 0,
      "outputs": [
        {
          "output_type": "execute_result",
          "data": {
            "text/plain": [
              "<1x7883 sparse matrix of type '<class 'numpy.int64'>'\n",
              "\twith 7883 stored elements in Compressed Sparse Row format>"
            ]
          },
          "metadata": {
            "tags": []
          },
          "execution_count": 9
        }
      ]
    },
    {
      "cell_type": "code",
      "metadata": {
        "id": "I3A70nu8zYJ1",
        "colab_type": "code",
        "outputId": "14fde5ff-8be3-46fe-d82c-7e97d2b3a029",
        "colab": {
          "base_uri": "https://localhost:8080/",
          "height": 35
        }
      },
      "source": [
        "X.toarray()"
      ],
      "execution_count": 0,
      "outputs": [
        {
          "output_type": "execute_result",
          "data": {
            "text/plain": [
              "array([[6, 3, 4, ..., 1, 1, 1]])"
            ]
          },
          "metadata": {
            "tags": []
          },
          "execution_count": 10
        }
      ]
    },
    {
      "cell_type": "code",
      "metadata": {
        "id": "p122d9ONzam6",
        "colab_type": "code",
        "outputId": "89aca70a-2c78-4075-a2e6-ff453395c339",
        "colab": {
          "base_uri": "https://localhost:8080/",
          "height": 884
        }
      },
      "source": [
        "words = vectorizer.get_feature_names()\n",
        "words[100:150]"
      ],
      "execution_count": 0,
      "outputs": [
        {
          "output_type": "execute_result",
          "data": {
            "text/plain": [
              "['_echo_',\n",
              " '_employé_',\n",
              " '_en',\n",
              " '_encyclopædia',\n",
              " '_encyclopædia_',\n",
              " '_evening',\n",
              " '_fait',\n",
              " '_fiancé_',\n",
              " '_globe_',\n",
              " '_incognito_',\n",
              " '_l',\n",
              " '_locus',\n",
              " '_lone',\n",
              " '_morning',\n",
              " '_métier_',\n",
              " '_nous',\n",
              " '_née_',\n",
              " '_omne',\n",
              " '_our_',\n",
              " '_outré_',\n",
              " '_pall',\n",
              " '_partie',\n",
              " '_pâté',\n",
              " '_répertoire_',\n",
              " '_sophy',\n",
              " '_st',\n",
              " '_standard_',\n",
              " '_star_',\n",
              " '_the',\n",
              " '_the_',\n",
              " '_very_',\n",
              " '_voilà',\n",
              " 'abandoned',\n",
              " 'abandons',\n",
              " 'abbots',\n",
              " 'aberdeen',\n",
              " 'abhorrent',\n",
              " 'abide',\n",
              " 'abiding',\n",
              " 'abjure',\n",
              " 'able',\n",
              " 'abnormal',\n",
              " 'abnormally',\n",
              " 'abode',\n",
              " 'abominable',\n",
              " 'abomination',\n",
              " 'abound',\n",
              " 'abroad',\n",
              " 'abrupt',\n",
              " 'abruptly']"
            ]
          },
          "metadata": {
            "tags": []
          },
          "execution_count": 11
        }
      ]
    },
    {
      "cell_type": "markdown",
      "metadata": {
        "id": "Sz1ABrOy1iK_",
        "colab_type": "text"
      },
      "source": [
        "Term Frequency Inverse Document Frequency (TF IDF)"
      ]
    },
    {
      "cell_type": "code",
      "metadata": {
        "id": "O3x4pQj2zmM3",
        "colab_type": "code",
        "outputId": "22b126d4-6290-4b35-f611-26cf49174a5f",
        "colab": {
          "base_uri": "https://localhost:8080/",
          "height": 52
        }
      },
      "source": [
        "from sklearn.feature_extraction.text import TfidfTransformer\n",
        "tfidf = TfidfTransformer()\n",
        "tfidf\n",
        "\n",
        "X_weighted = tfidf.fit_transform(X)\n",
        "X_weighted.toarray()"
      ],
      "execution_count": 0,
      "outputs": [
        {
          "output_type": "execute_result",
          "data": {
            "text/plain": [
              "array([[0.00429747, 0.00214873, 0.00286498, ..., 0.00071624, 0.00071624,\n",
              "        0.00071624]])"
            ]
          },
          "metadata": {
            "tags": []
          },
          "execution_count": 12
        }
      ]
    },
    {
      "cell_type": "markdown",
      "metadata": {
        "id": "4SG-U8es2odW",
        "colab_type": "text"
      },
      "source": [
        "Scikit-learn packages a decomposition technique called non-negative matrix factorization (NMF) that we can use for topic extraction."
      ]
    },
    {
      "cell_type": "code",
      "metadata": {
        "id": "v17vsmIuzwmZ",
        "colab_type": "code",
        "outputId": "ae71edaf-3c44-47fa-f268-0d10770a5e32",
        "colab": {
          "base_uri": "https://localhost:8080/",
          "height": 592
        }
      },
      "source": [
        "from sklearn.decomposition import NMF\n",
        "nmf = NMF(n_components=10).fit(X_weighted)\n",
        "\n",
        "feature_names = vectorizer.get_feature_names()\n",
        "\n",
        "for topic_idx, topic in enumerate(nmf.components_):\n",
        "    print('Topic #%d:' % topic_idx)\n",
        "    print(' '.join([feature_names[i] for i in topic.argsort()[:-20 - 1:-1]]))\n",
        "    print('')"
      ],
      "execution_count": 0,
      "outputs": [
        {
          "output_type": "stream",
          "text": [
            "Topic #0:\n",
            "said holmes man mr little think shall know room come did time door came good face just matter yes hand\n",
            "\n",
            "Topic #1:\n",
            "extraordinary gold came soon gently lock terribly whitney catch double fainted woods master cheeks smoke cloak exactly tall men opened\n",
            "\n",
            "Topic #2:\n",
            "lady useful hold prevent lodgings temper fellow brandy aunt trees covered inquiries asleep took thank silence cupboard game folded interested\n",
            "\n",
            "Topic #3:\n",
            "gipsies step suggested brows oh education says spark vile vital study quiet attend support replace referred guilty laws times immediate\n",
            "\n",
            "Topic #4:\n",
            "reason inquiry affect recognised keenest sufficient shutter date scent individual order included boarding roar passion leaves undoubtedly tail practical sorrow\n",
            "\n",
            "Topic #5:\n",
            "hear right doors utterly endeavouring wanting link ceremony machine surely burst late gazed clergyman creating male security uniform prison accounts\n",
            "\n",
            "Topic #6:\n",
            "shining domain allegro stopped begging forgive fields manners exacted harness dad coat couple traced vanishing slightly uncontrollable bosom handling local\n",
            "\n",
            "Topic #7:\n",
            "watched tongue jump soothing faithfully beat kept robbery scattered dog energetic paddington america lounged discovered hope verdict highroad explain wedding\n",
            "\n",
            "Topic #8:\n",
            "gleam flung limited petty pushed link composed flesh ejaculation negro twentieth vessel displayed speak broke seldom complimented closed 421 resolution\n",
            "\n",
            "Topic #9:\n",
            "memory bred actually successful woman belongs depends saw boot trough longer angle created succeed terrible remains minute guardsmen conduct order\n",
            "\n"
          ],
          "name": "stdout"
        },
        {
          "output_type": "stream",
          "text": [
            "/usr/local/lib/python3.6/dist-packages/sklearn/decomposition/nmf.py:113: RuntimeWarning: invalid value encountered in sqrt\n",
            "  return np.sqrt(res * 2)\n"
          ],
          "name": "stderr"
        }
      ]
    },
    {
      "cell_type": "markdown",
      "metadata": {
        "id": "16f5f_Jl2BwC",
        "colab_type": "text"
      },
      "source": [
        "We are using gensim package to build LDA model"
      ]
    },
    {
      "cell_type": "code",
      "metadata": {
        "id": "YgLAuUCaz2kX",
        "colab_type": "code",
        "outputId": "aeb3a3f4-a2d2-49d6-e6eb-a5a613d9be98",
        "colab": {
          "base_uri": "https://localhost:8080/",
          "height": 35
        }
      },
      "source": [
        "from gensim import corpora, models, similarities, matutils\n",
        "\n",
        "# create the corpus using a conversion utility\n",
        "gensim_corpus = matutils.Sparse2Corpus(X_weighted)\n",
        "\n",
        "# build the LDA model\n",
        "lda = models.LdaModel(gensim_corpus, num_topics=100)\n",
        "lda"
      ],
      "execution_count": 0,
      "outputs": [
        {
          "output_type": "execute_result",
          "data": {
            "text/plain": [
              "<gensim.models.ldamodel.LdaModel at 0x7f6253e10c50>"
            ]
          },
          "metadata": {
            "tags": []
          },
          "execution_count": 14
        }
      ]
    },
    {
      "cell_type": "code",
      "metadata": {
        "id": "oLJOxSm3z8un",
        "colab_type": "code",
        "outputId": "c393619d-a66e-427f-a11b-5f00c3d09dac",
        "colab": {
          "base_uri": "https://localhost:8080/",
          "height": 55
        }
      },
      "source": [
        "from nltk.stem import PorterStemmer\n",
        "porter = PorterStemmer()\n",
        "stemwords= []\n",
        "\n",
        "for word in words:\n",
        "  stemwords.append(porter.stem(word))\n",
        "print(stemwords)"
      ],
      "execution_count": 0,
      "outputs": [
        {
          "output_type": "stream",
          "text": [
            "['000', '10', '100', '1000', '10_s_', '10th', '11', '117', '12', '120', '12_s_', '12th', '14', '140', '15', '150', '1500', '1661', '16a', '17', '1846', '1858', '1869', '1870', '1878', '1883', '1884', '1887', '1888', '1890', '19th', '1_s_', '20', '200', '2001', '2002', '2019', '220', '221b', '226', '22nd', '249', '25', '250', '26', '26_s_', '27', '270', '29', '2_s_', '2nd', '30', '31', '35', '3rd', '40', '4000', '421', '4700', '4_d_', '4th', '4½', '50', '501', '596', '60', '6221541', '64', '6_d_', '700', '750', '750175', '77', '7_s_', '7th', '801', '809', '82', '83', '84', '84116', '85', '87', '88', '89', '8_d_', '8_s_', '90', '99775', '9th', '_affair', '_american', '_bijou_', '_can_', '_cart', '_caus', '_chronicle_', '_danseuse_', '_disjecta', '_dénouement_', '_echo_', '_employé_', '_en', '_encyclopædia', '_encyclopædia_', '_even', '_fait', '_fiancé_', '_globe_', '_incognito_', '_l', '_locu', '_lone', '_morn', '_métier_', '_nou', '_née_', '_omn', '_our_', '_outré_', '_pall', '_parti', '_pâté', '_répertoire_', '_sophi', '_st', '_standard_', '_star_', '_the', '_the_', '_very_', '_voilà', 'abandon', 'abandon', 'abbot', 'aberdeen', 'abhorr', 'abid', 'abid', 'abjur', 'abl', 'abnorm', 'abnorm', 'abod', 'abomin', 'abomin', 'abound', 'abroad', 'abrupt', 'abruptli', 'absenc', 'absent', 'absolut', 'absolut', 'absolv', 'absorb', 'absorb', 'absorb', 'abstract', 'absurd', 'absurdli', 'abus', 'abus', 'abut', 'accent', 'accept', 'accept', 'accept', 'accept', 'access', 'access', 'access', 'accessori', 'accid', 'accident', 'accid', 'accommod', 'accompani', 'accompani', 'accompani', 'accompli_', 'accomplic', 'accomplish', 'accomplish', 'accomplish', 'accomplish', 'accord', 'accord', 'account', 'account', 'account', 'accumul', 'accumul', 'accur', 'accur', 'accus', 'accus', 'accustom', 'aceton', 'achiev', 'acid', 'acknowledg', 'acknowledg', 'acquaint', 'acquiesc', 'acquir', 'acquir', 'acquir', 'acquit', 'acr', 'act', 'act', 'act', 'action', 'action', 'action', 'activ', 'activ', 'actor', 'actress', 'act', 'actual', 'actual', 'acut', 'adapt', 'adapt', 'add', 'ad', 'adder', 'addict', 'ad', 'addit', 'addit', 'addit', 'address', 'address', 'address', 'address', 'add', 'adhes', 'adject', 'adjust', 'adler', 'administr', 'admir', 'admir', 'admir', 'admir', 'admir', 'admir', 'admit', 'admit', 'ado', 'adopt', 'advanc', 'advanc', 'advanc', 'advantag', 'advantag', 'adventur', 'adventur', 'adventuress', 'advertis', 'advertis', 'advertis', 'advertis', 'advertis', 'advic', 'advis', 'advis', 'advis', 'advoc', 'affair', 'affair', 'affect', 'affect', 'affect', 'affect', 'affect', 'affection', 'affect', 'afflict', 'afford', 'afford', 'afghan', 'afghanistan', 'afraid', 'afternoon', 'age', 'age', 'agenc', 'agent', 'agit', 'agit', 'ago', 'agoni', 'agoni', 'agra', 'agre', 'agre', 'agreement', 'agre', 'agricultur', 'ah', 'aid', 'aid', 'air', 'aisl', 'ajar', 'ak', 'akimbo', 'akin', 'alarm', 'ala', 'alaska', 'albert', 'aldersg', 'aldershot', 'alert', 'alexand', 'alia', 'alic', 'alicia', 'alik', 'aliv', 'alleg', 'allegro', 'alley', 'alley', 'allianc', 'alli', 'allow', 'allow', 'allow', 'allow', 'allow', 'allud', 'allud', 'allus', 'allus', 'alli', 'aloud', 'aloysiu', 'alpha', 'altar', 'alter', 'alter', 'alter', 'alter', 'altern', 'altern', 'altern', 'altern', 'altogeth', 'amalgam', 'amateur', 'amaz', 'amaz', 'ambit', 'ambiti', 'america', 'american', 'american', 'amethyst', 'amiabl', 'amid', 'amiss', 'amoy', 'ampl', 'amplifi', 'ampli', 'amus', 'amus', 'amus', 'amus', 'analysi', 'analyt', 'anatomi', 'ancestr', 'ancient', 'anderson_', 'andov', 'angel', 'anger', 'angl', 'angri', 'anim', 'anim', 'anim', 'ankl', 'announc', 'announc', 'announc', 'annoy', 'annoy', 'annual', 'anoint', 'anonym', 'anstruth', 'answer', 'answer', 'answer', 'answer', 'antagonist', 'anteced', 'anteroom', 'antic', 'anxieti', 'anxiou', 'anxious', 'anybodi', 'apach', 'apach', 'apart', 'apart', 'apertur', 'apiec', 'apologis', 'apolog', 'apparel', 'appar', 'appar', 'apparit', 'appeal', 'appeal', 'appear', 'appear', 'appear', 'appear', 'appear', 'applic', 'applic', 'appli', 'appli', 'appoint', 'apprent', 'approach', 'approach', 'approach', 'appropri', 'approvingli', 'april', 'apron', 'apt', 'aquilin', 'arabian', 'arat', 'arc', 'archeri', 'archi', 'architect', 'architectur', 'archiv', 'arduou', 'area', 'argu', 'argument', 'argument', 'aright', 'aris', 'aristocrat', 'arizona', 'arm', 'armchair', 'armchair', 'arm', 'armitag', 'armour', 'arm', 'armi', 'arnsworth', 'arous', 'arrang', 'arrang', 'arrang', 'array', 'arrest', 'arrest', 'arrest', 'arriv', 'arriv', 'arriv', 'arrow', 'art', 'arteri', 'arthur', 'articl', 'articl', 'artifici', 'artilleri', 'artist', 'artist', 'ascend', 'ascend', 'ascertain', 'ascertain', 'ascertain', 'ascii', 'ash', 'asham', 'ashen', 'ash', 'asid', 'ask', 'askanc', 'ask', 'ask', 'ask', 'asleep', 'aspect', 'aspir', 'assail', 'assault', 'assault', 'assembl', 'assert', 'assert', 'assert', 'assist', 'assist', 'assist', 'assist', 'assist', 'assist', 'assiz', 'associ', 'associ', 'associ', 'assum', 'assum', 'assur', 'assur', 'assur', 'assuredli', 'assur', 'assur', 'astir', 'astonish', 'astonish', 'astrakhan', 'astronomi', 'astut', 'astut', 'asylum', 'ate', 'atkinson', 'atlant', 'atmospher', 'aton', 'attach', 'attack', 'attack', 'attain', 'attain', 'attain', 'attempt', 'attempt', 'attempt', 'attempt', 'attend', 'attend', 'attend', 'attent', 'attent', 'attic', 'attica', 'attic', 'attir', 'attitud', 'attract', 'attract', 'attract', 'auckland', 'audibl', 'august', 'augustin', 'aunt', 'australia', 'australian', 'australian', 'authent', 'author', 'authorit', 'author', 'author', 'autumn', 'autumn', 'avail', 'avail', 'avenu', 'averag', 'avers', 'avers', 'avert', 'avert', 'avoid', 'avoid', 'avoid', 'await', 'await', 'await', 'awak', 'awaken', 'awar', 'away', 'aw', 'awkward', 'awok', 'axiom', 'ay', 'azur', 'baboon', 'babi', 'bachelor', 'bachelor', 'back', 'backgammon', 'background', 'backward', 'backwat', 'bad', 'bade', 'badg', 'badli', 'baffl', 'bag', 'baggi', 'bag', 'bait', 'baker', 'baker', 'balanc', 'balanc', 'balanc', 'bald', 'bale', 'ball', 'ballarat', 'ball', 'balmor', 'balustrad', 'balzac', 'band', 'bandag', 'bandag', 'bandag', 'band', 'bandi', 'bang', 'bang', 'bank', 'banker', 'banker', 'bank', 'bank', 'bar', 'barbar', 'barber', 'bare', 'bargain', 'bark', 'barmaid', 'barometr', 'barqu', 'bar', 'barrel', 'barricad', 'barricad', 'barrow', 'bar', 'barton', 'baryta', 'base', 'base', 'bash', 'basin', 'basi', 'basket', 'basket', 'bath', 'bathroom', 'batter', 'battl', 'baxter', 'bay', 'bead', 'beam', 'beam', 'bean', 'bear', 'beard', 'beard', 'bear', 'bear', 'bear', 'beast', 'beast', 'beat', 'beaten', 'beat', 'beauti', 'beauti', 'beauti', 'beauti', 'becher', 'beckon', 'beckon', 'bed', 'bed', 'bedroom', 'bedroom', 'bed', 'bedsid', 'bedtim', 'bee', 'beech', 'beech', 'beef', 'beer', 'befal', 'befallen', 'beg', 'began', 'beget', 'beggar', 'beggarman', 'beggari', 'beg', 'beg', 'begin', 'begin', 'begin', 'begin', 'begun', 'beig', 'be', 'belat', 'belief', 'believ', 'believ', 'believ', 'bell', 'belong', 'belong', 'belong', 'belov', 'belt', 'bend', 'bend', 'beneath', 'benefactor', 'benevol', 'bengal', 'bent', 'bequeath', 'bequest', 'berkshir', 'bermuda', 'berth', 'berth', 'beryl', 'beryl', 'best', 'bet', 'betray', 'betray', 'betray', 'betroth', 'better', 'bewilder', 'biass', 'bibl', 'bicycl', 'big', 'bigger', 'bile', 'billet', 'bill', 'billycock', 'binari', 'bind', 'bind', 'biographi', 'biographi', 'birchmoor', 'bird', 'bird', 'bisulph', 'bit', 'bite', 'bitten', 'bitter', 'bitterli', 'bitter', 'bizarr', 'black', 'blackest', 'blackguard', 'blackmail', 'blacksmith', 'blame', 'blanche_', 'blanch', 'bland', 'blandli', 'blast', 'blaze', 'blaze', 'bleak', 'bled', 'bleed', 'blend', 'bless', 'blew', 'blind', 'blind', 'blink', 'bloc_', 'block', 'blockad', 'block', 'blond', 'blood', 'blood', 'bloodless', 'bloodstain', 'bloodi', 'bloomsburi', 'blot', 'blotch', 'blotch', 'blot', 'blot', 'blow', 'blow', 'blown', 'blow', 'blue', 'bluff', 'blunder', 'blunder', 'blunt', 'blur', 'blur', 'blush', 'bluster', 'boa', 'board', 'board', 'board', 'boast', 'boat', 'bob', 'bode', 'bodi', 'bodi', 'bohemia', 'bohemian', 'boil', 'boister', 'bold', 'bolt', 'bond', 'bone', 'bone', 'bonnet', 'bonniest', 'bonni', 'book', 'book', 'boom', 'boon', 'boot', 'boot', 'boot', 'bordeaux', 'border', 'border', 'border', 'bore', 'bore', 'born', 'born', 'borrow', 'borrow', 'boscomb', 'bosom', 'boswel', 'botani', 'bottl', 'bottl', 'bought', 'bound', 'boundari', 'bound', 'bound', 'bouquet', 'bow', 'bow', 'bow', 'bowl', 'box', 'box', 'boxer', 'box', 'boy', 'boyish', 'boy', 'brace', 'brace', 'bracelet', 'bradshaw', 'bradstreet', 'brain', 'brain', 'brambl', 'branch', 'branch', 'brand', 'brandi', 'brass', 'brassi', 'brave', 'brave', 'brave', 'brawl', 'brazen', 'brazier', 'breach', 'breach', 'bread', 'breadth', 'break', 'breakfast', 'breakfast', 'break', 'break', 'breast', 'breast', 'breastpin', 'breath', 'breath', 'breath', 'breath', 'breathlessli', 'breckinridg', 'bred', 'brewer', 'briar', 'brick', 'brickish', 'brick', 'bridal', 'bride', 'bridegroom', 'bridg', 'brief', 'briefli', 'bright', 'brighter', 'brightest', 'brightli', 'bright', 'brilliant', 'brilliantli', 'brim', 'brim', 'brim', 'bring', 'bring', 'bring', 'brioni', 'brisk', 'briskli', 'bristol', 'britain', 'britannica_', 'british', 'brixton', 'broad', 'broaden', 'broader', 'broadest', 'broke', 'broken', 'brooch', 'brother', 'brother', 'brougham', 'brought', 'brow', 'brown', 'brownish', 'brow', 'bruis', 'brush', 'brush', 'brute', 'buckl', 'budg', 'buffalo', 'build', 'builder', 'build', 'build', 'built', 'bulg', 'bulki', 'bull', 'bulldog', 'bullet', 'bullion', 'bump', 'bunch', 'bundl', 'bundl', 'burden', 'bureau', 'burglar', 'burglar', 'burgl', 'buri', 'burli', 'burn', 'burn', 'burnish', 'burnwel', 'burrow', 'burst', 'bush', 'bush', 'bushi', 'busier', 'busi', 'businesslik', 'bustl', 'bustl', 'busi', 'busybodi', 'butcher', 'butler', 'butt', 'but', 'button', 'button', 'button', 'buy', 'buy', 'buzz', 'buzz', 'bye', 'cab', 'cabbi', 'cabinet', 'cabl', 'cabman', 'cab', 'cadaver', 'cage', 'cage', 'cake', 'cal', 'calam', 'calcul', 'calcul', 'calcutta', 'calf', 'calhoun', 'california', 'californian', 'call', 'call', 'call', 'calmli', 'caltrop', 'calv', 'camberwel', 'came', 'camera', 'camp', 'campaign', 'campaign', 'candid', 'candid', 'candl', 'cane', 'cannon', 'canva', 'cap', 'capabl', 'capac', 'capit', 'cap', 'captain', 'captur', 'captur', 'caraff', 'carbolis', 'carbuncl', 'card', 'cardboard', 'card', 'care', 'care', 'career', 'care', 'care', 'careless', 'carelessli', 'care', 'caress', 'caress', 'cargo', 'carlo', 'carlsbad', 'carolina', 'carpent', 'carpet', 'carpet', 'carriag', 'carri', 'carri', 'carri', 'carri', 'carrée_', 'cart', 'cart', 'carv', 'cascad', 'case', 'case', 'case', 'cashbox', 'cashier', 'casket', 'cassel', 'cast', 'cast', 'castl', 'cat', 'catastroph', 'catch', 'catch', 'categori', 'cathedr', 'catherin', 'catlik', 'caught', 'caus', 'caus', 'caus', 'caus', 'caution', 'cave', 'cave', 'ceas', 'ceas', 'ceaseless', 'ceas', 'cedar', 'ceil', 'celebr', 'cell', 'cellar', 'cell', 'cent', 'central', 'centr', 'centr', 'centuri', 'centuri', 'ceremoni', 'certain', 'certainli', 'certainti', 'certif', 'chaff', 'chaf', 'chaffer', 'chagrin', 'chagrin', 'chain', 'chain', 'chair', 'chairman', 'chair', 'chalk', 'chamber', 'chamber', 'chamoi', 'chanc', 'chanc', 'chanc', 'chang', 'chang', 'chang', 'chang', 'chap', 'chapter', 'charact', 'characteris', 'characterist', 'characterist', 'charact', 'charcoal', 'charg', 'charg', 'charg', 'chare', 'charit', 'chariti', 'chariti', 'charl', 'charm', 'charm', 'char', 'chase', 'chase', 'chase', 'chat', 'chat', 'chat', 'cheap', 'cheat', 'check', 'checkmat', 'check', 'cheekbon', 'cheek', 'cheer', 'cheer', 'cheerili', 'cheerless', 'cheeri', 'cheetah', 'chemic', 'chemistri', 'chequ', 'cherri', 'chest', 'chesterfield', 'chestnut', 'chew', 'chief', 'chiffon', 'child', 'childish', 'children', 'chill', 'chimney', 'chimney', 'chin', 'china', 'chinchilla', 'chines', 'chink', 'chin', 'chisel', 'chivalr', 'choke', 'choos', 'choos', 'chose', 'chosen', 'christ', 'christma', 'chronic', 'chronicl', 'chronicle_', 'chronicl', 'chubb', 'chuck', 'chuckl', 'chuckl', 'church', 'cigar', 'cigarett', 'cigarett', 'cigar', 'cinder', 'circl', 'circl', 'circul', 'circumspect', 'circumst', 'circumstanti', 'citizen', 'citi', 'civil', 'civilis', 'civilis', 'clad', 'claim', 'clair', 'clamber', 'clamp', 'clang', 'clang', 'clank', 'clank', 'clap', 'clara', 'claret', 'clark', 'clasp', 'clasp', 'clasp', 'class', 'class', 'clatter', 'clatter', 'claw', 'clay', 'clean', 'clean', 'cleanli', 'clear', 'clear', 'clearer', 'clear', 'clearli', 'clear', 'cleaver', 'clench', 'clergyman', 'clerk', 'clerk', 'clever', 'clever', 'client', 'client', 'climat', 'climb', 'climb', 'clinch', 'clink', 'clink', 'cloak', 'clock', 'close', 'close', 'close', 'close', 'cloth', 'cloth', 'clotild', 'cloud', 'cloud', 'cloudless', 'cloud', 'club', 'clue', 'clue', 'clump', 'clump', 'clumsi', 'cluster', 'clutch', 'clutch', 'clutch', 'coach', 'coachman', 'coars', 'coars', 'coat', 'coax', 'cobb', 'cobbler', 'coburg', 'cobwebbi', 'cocain', 'cock', 'cock', 'cock', 'cockroach', 'cocksur', 'cocktail', 'code', 'coffe', 'coil', 'coin', 'coincid', 'coincid', 'coincid', 'coiner', 'coin', 'cold', 'coldli', 'cold', 'collaps', 'collaps', 'collar', 'colleagu', 'collect', 'collect', 'collect', 'colleg', 'colonel', 'coloni', 'coloni', 'colour', 'colour', 'colourless', 'column', 'column', 'combin', 'combin', 'combin', 'combin', 'come', 'come', 'come', 'comfort', 'comfort', 'comfort', 'comfort', 'comic', 'comic', 'come', 'command', 'command', 'command', 'command', 'commenc', 'commenc', 'comment', 'comment', 'commerc', 'commerci', 'commiss', 'commissionair', 'commiss', 'commit', 'commit', 'common', 'commonli', 'commonplac', 'commonplac', 'common', 'commun', 'commun', 'commun', 'commun', 'commun', 'commut', 'compani', 'companion', 'companion', 'compani', 'compar', 'compar', 'compar', 'compass', 'compass', 'compel', 'compens', 'compet', 'competit', 'compil', 'complain', 'complain', 'complaint', 'complet', 'complet', 'complet', 'complex', 'complexion', 'complianc', 'complic', 'compliment', 'complimentari', 'compliment', 'compliment', 'compli', 'compli', 'compos', 'compos', 'compos', 'compositor', 'comprehens', 'compress', 'compress', 'compromis', 'compromis', 'compromis', 'compunct', 'comput', 'comput', 'comrad', 'conan', 'conceal', 'conceal', 'conceal', 'conceit', 'conceiv', 'conceiv', 'conceiv', 'concentr', 'concentr', 'concentr', 'concept', 'concept', 'concern', 'concern', 'concern', 'concert', 'concert', 'concis', 'concis', 'conclud', 'conclud', 'conclus', 'conclus', 'conclus', 'condemn', 'condescend', 'condit', 'condit', 'conduct', 'conduct', 'conduct', 'confection', 'confeder', 'confeder', 'confess', 'confess', 'confess', 'confid', 'confid', 'confid', 'confid', 'confidenti', 'confin', 'confin', 'confin', 'confirm', 'confirm', 'confirm', 'confound', 'confront', 'confus', 'confus', 'congeni', 'congratul', 'congratul', 'conjectur', 'conjectur', 'conjunct', 'connect', 'connect', 'conniv', 'conscienc', 'consciou', 'conscious', 'consent', 'consequ', 'consequ', 'consequenti', 'consid', 'consider', 'consider', 'consider', 'consider', 'consid', 'consid', 'consist', 'consol', 'conspicu', 'conspir', 'constabl', 'constabl', 'constabulari', 'constant', 'constern', 'constitut', 'constraint', 'construct', 'construct', 'consult', 'consult', 'consult', 'consult', 'consult', 'consum', 'consum', 'contact', 'contain', 'contain', 'contain', 'contain', 'contempl', 'contempl', 'contemptu', 'content', 'contin', 'continent', 'contin', 'continu', 'continu', 'continu', 'continu', 'continu', 'contort', 'contract', 'contract', 'contradict', 'contralto', 'contrari', 'contrast', 'contribut', 'contribut', 'contrit', 'control', 'control', 'conundrum', 'conveni', 'conveni', 'conveni', 'convention', 'convent', 'convers', 'convers', 'convert', 'convey', 'convict', 'convinc', 'convinc', 'convinc', 'convoy', 'convuls', 'convuls', 'convuls', 'convuls', 'cooee', 'cook', 'cook', 'cool', 'coolest', 'cool', 'coop', 'copi', 'copier', 'copi', 'copper', 'copper', 'copi', 'copi', 'copyright', 'coquettish', 'cord', 'cordial', 'corner', 'corner', 'cornwal', 'coron', 'coronet', 'corpor', 'correct', 'correctli', 'correspond', 'correspond', 'correspond', 'correspond', 'corridor', 'corridor', 'corrobor', 'corrobor', 'corrupt', 'cosmopolitan', 'cost', 'coster', 'cost', 'costum', 'cosi', 'cotton', 'couch', 'cough', 'couldn', 'counsel', 'counsellor', 'count', 'counterpan', 'countess', 'counti', 'countri', 'countri', 'countryman', 'countrysid', 'count', 'counti', 'coupl', 'coupl', 'coupl', 'courag', 'cours', 'court', 'courtesi', 'cousin', 'cousin', 'covent', 'coventri', 'cover', 'cover', 'crab', 'crack', 'crack', 'crackl', 'crack', 'craggi', 'crane', 'crash', 'crate', 'crate', 'cravat', 'cravat', 'crawl', 'crawl', 'creak', 'cream', 'creas', 'creat', 'creat', 'creation', 'creatur', 'creatur', 'credit', 'credit', 'creditor', 'creep', 'crest', 'crew', 'crib', 'cri', 'cri', 'crime', 'crime', 'crimin', 'crimin', 'cring', 'cring', 'crinkl', 'crippl', 'crippl', 'crisi', 'crisp', 'crispli', 'critic', 'crocus', 'croni', 'crop', 'cross', 'cross', 'crouch', 'crowd', 'crowd', 'crowder', 'crown', 'crown', 'crucial', 'crude', 'crudest', 'cruel', 'cruelli', 'cruelti', 'crumbl', 'crumpl', 'crush', 'crush', 'crust', 'crust', 'cri', 'crystallis', 'crystal', 'cub', 'cubic', 'cudgel', 'cuff', 'culprit', 'cultur', 'cumbrou', 'cun', 'cup', 'cupboard', 'curb', 'cure', 'cure', 'curios', 'curiou', 'curl', 'curl', 'curli', 'current', 'current', 'curs', 'curs', 'curs', 'curt', 'curtain', 'curv', 'curv', 'curv', 'cusack', 'cushion', 'cushion', 'cushion', 'custodi', 'custom', 'customari', 'custom', 'cut', 'cut', 'cut', 'cuvier', 'cylind', 'cylind', 'cynic', 'célèbres_', 'cœur_', 'dad', 'daili', 'daintiest', 'damag', 'damag', 'damag', 'damn', 'damp', 'dane', 'danger', 'danger', 'danger', 'danger', 'dangl', 'dank', 'dare', 'dare', 'daresay', 'dare', 'dark', 'darken', 'darker', 'dark', 'darlington', 'dart', 'dart', 'dash', 'dash', 'dash', 'data', 'date', 'date', 'date', 'daub', 'daughter', 'dawdl', 'dawn', 'day', 'daylight', 'day', 'daytim', 'daze', 'dead', 'deadliest', 'deadli', 'deal', 'dealer', 'deal', 'deal', 'dear', 'dearest', 'dearli', 'death', 'deathb', 'death', 'debt', 'debt', 'deceas', 'deceiv', 'deceiv', 'decemb', 'decept', 'decept', 'decid', 'decid', 'decidedli', 'decis', 'declar', 'declin', 'decor', 'decoy', 'decrepit', 'decrepitud', 'deduc', 'deduc', 'deduct', 'deduct', 'deduct', 'deduct', 'deed', 'deed', 'deep', 'deeper', 'deepest', 'deepli', 'defeat', 'defect', 'defect', 'defect', 'defenc', 'defend', 'defend', 'defer', 'defiantli', 'defici', 'defin', 'defin', 'definit', 'definit', 'defray', 'degener', 'degrad', 'degre', 'degre', 'deject', 'delay', 'delay', 'delet', 'delicaci', 'delic', 'delic', 'delight', 'delight', 'deliri', 'delirium', 'delud', 'delus', 'demand', 'demeanour', 'demon', 'demur', 'den', 'denial', 'deni', 'dens', 'deni', 'deni', 'depart', 'departur', 'depend', 'depend', 'depend', 'depend', 'depict', 'deport', 'depos', 'depos', 'depos', 'deposit', 'deposit', 'depositor', 'depot', 'depress', 'depress', 'depress', 'depriv', 'derang', 'derbi', 'deriv', 'deriv', 'deriv', 'deriv', 'descend', 'descend', 'descend', 'descend', 'descent', 'describ', 'describ', 'descript', 'desert', 'desert', 'desert', 'deserv', 'deserv', 'design', 'desir', 'desir', 'desir', 'desir', 'desk', 'despair', 'despair', 'despair', 'desper', 'desper', 'despit', 'destin', 'destini', 'destitut', 'destroy', 'destroy', 'destruct', 'desultori', 'detach', 'detail', 'detail', 'detail', 'detain', 'detain', 'detect', 'detect', 'determin', 'determin', 'determin', 'detour', 'detract', 'deuc', 'develop', 'develop', 'develop', 'devic', 'devil', 'devilish', 'devil', 'devis', 'devoid', 'devonshir', 'devot', 'devot', 'devotedli', 'devour', 'devour', 'dew', 'diabet', 'diadem', 'diamond', 'diari', 'did', 'didn', 'die', 'die', 'die', 'differ', 'differ', 'differ', 'difficult', 'difficulti', 'difficulti', 'dig', 'digest', 'dig', 'digniti', 'dig', 'dilat', 'dilig', 'dilig', 'dim', 'dimli', 'dine', 'dingi', 'dine', 'dinner', 'dint', 'dip', 'dip', 'direct', 'direct', 'direct', 'direct', 'directli', 'director', 'director', 'dirt', 'dirti', 'disadvantag', 'disadvantag', 'disagre', 'disagr', 'disappear', 'disappear', 'disappear', 'disappoint', 'disappoint', 'disappoint', 'disc', 'disclaim', 'disclaim', 'disclaim', 'disclos', 'discolour', 'disconnect', 'discont', 'discontinu', 'discourag', 'discov', 'discov', 'discov', 'discoveri', 'discreet', 'discrep', 'discret', 'discrimin', 'discuss', 'diseas', 'disentangl', 'disfigur', 'disgrac', 'disgrac', 'disguis', 'disguis', 'disguis', 'disgust', 'dishonour', 'dishonour', 'disk', 'dislik', 'dislik', 'dismantl', 'dismay', 'dismiss', 'disown', 'dispatch', 'dispel', 'display', 'display', 'display', 'dispos', 'dispos', 'disposit', 'disproportion', 'disputati', 'disqualifi', 'disregard', 'disregard', 'disregard', 'disreput', 'dissatisfi', 'dissolut', 'dissolv', 'distaff', 'distanc', 'distant', 'distinct', 'distinct', 'distinct', 'distinctli', 'distinguish', 'distort', 'distract', 'distribut', 'distribut', 'distribut', 'distribut', 'distributor', 'district', 'distrust', 'disturb', 'disturb', 'disturb', 'disturb', 'divan', 'dive', 'divers', 'divert', 'divin', 'dive', 'divis', 'dizzi', 'dock', 'docket', 'dock', 'dockyard', 'doctor', 'doctor', 'document', 'dodder', 'doe', 'doesn', 'dog', 'do', 'do', 'dollar', 'domain', 'don', 'donat', 'donat', 'donat', 'donna', 'donor', 'door', 'door', 'doorway', 'dooti', 'doran', 'dottl', 'doubl', 'doubl', 'doubli', 'doubt', 'doubt', 'doubt', 'doubtless', 'doubt', 'download', 'downstair', 'downward', 'dowri', 'doyl', 'dozen', 'dr', 'drab', 'drag', 'drag', 'drama', 'dramat', 'drank', 'draught', 'draught', 'draw', 'drawback', 'drawer', 'drawer', 'draw', 'drawl', 'drawn', 'draw', 'dread', 'dread', 'dread', 'dream', 'dream', 'dream', 'dreami', 'dreari', 'dreg', 'drench', 'dress', 'dress', 'dress', 'drew', 'dri', 'drift', 'drift', 'drink', 'drink', 'drive', 'driven', 'driver', 'drive', 'drive', 'drone', 'droop', 'drop', 'drop', 'drop', 'drop', 'drove', 'drown', 'drowsi', 'drug', 'drunk', 'drunkard', 'drunken', 'dri', 'dryli', 'dual', 'dubiou', 'duchess', 'dug', 'duke', 'dull', 'duli', 'dummi', 'dun', 'duncan', 'dunda', 'dunde', 'duplic', 'duplic', 'dusk', 'dust', 'dustcoat', 'dusti', 'duti', 'duti', 'dwell', 'dweller', 'dwell', 'die', 'eager', 'eagerli', 'eager', 'ear', 'earlier', 'earliest', 'earli', 'earn', 'earn', 'earnest', 'earnestli', 'earn', 'ear', 'ear', 'earshot', 'earth', 'eas', 'easier', 'easili', 'east', 'easterli', 'eastern', 'eastward', 'easi', 'eat', 'eaten', 'eav', 'eavesdropp', 'eb', 'ebook', 'ebook', 'eccentr', 'eccentr', 'echo', 'eclips', 'eclips', 'eddi', 'edg', 'edg', 'edg', 'edgewar', 'edit', 'edit', 'editor', 'educ', 'educ', 'edward', 'eeri', 'effect', 'effect', 'effect', 'effect', 'effort', 'effort', 'effus', 'egg', 'egg', 'eglonitz', 'eglow', 'egot', 'egria', 'eh', 'eighteen', 'eightpenc', 'ein', 'ejacul', 'ejacul', 'eject', 'elabor', 'elaps', 'elast', 'elbow', 'elbow', 'elbow', 'elder', 'elderli', 'elect', 'electr', 'electron', 'electron', 'element', 'element', 'elementari', 'element', 'eley', 'elia', 'elig', 'elimin', 'elis', 'emaci', 'email', 'embank', 'embarrass', 'embellish', 'emerald', 'emerg', 'emerg', 'emigr', 'emigr', 'emot', 'emot', 'empir', 'employ', 'employ', 'employe', 'employe', 'employ', 'employ', 'employ', 'employ', 'employ', 'employé', 'empti', 'enabl', 'enabl', 'enabl', 'encamp', 'encircl', 'enclosur', 'encod', 'encompass', 'encourag', 'encourag', 'encyclopædia_', 'encyclopædia', 'end', 'endeavour', 'endeavour', 'endeavour', 'end', 'endel', 'end', 'endless', 'end', 'endur', 'enemi', 'enemi', 'energet', 'energi', 'engag', 'engag', 'engag', 'engag', 'engin', 'engin', 'engin', 'engin', 'england', 'english', 'englishman', 'engrav', 'enigmat', 'enjoy', 'enjoy', 'enlarg', 'ennui', 'enorm', 'ensu', 'ensu', 'ensur', 'entail', 'entangl', 'enter', 'enter', 'enter', 'enterpris', 'enter', 'entertain', 'enthusiasm', 'enthusiast', 'entir', 'entir', 'entitl', 'entiti', 'entranc', 'entreat', 'entreati', 'entri', 'entri', 'envelop', 'enwrap', 'epicurean', 'episod', 'episod', 'epistl', 'equal', 'equal', 'equal', 'equal', 'equinocti', 'equip', 'ere', 'erect', 'erect', 'errand', 'er', 'erron', 'error', 'error', 'escapad', 'escap', 'escap', 'escap', 'escort', 'escort', 'especi', 'esq', 'essenc', 'essenti', 'est', 'establish', 'establish', 'establish', 'estat', 'estat', 'estim', 'ethereg', 'eton', 'europ', 'european', 'eustac', 'even', 'even', 'event', 'event', 'eventu', 'everybodi', 'everyday', 'evid', 'evid', 'evid', 'evil', 'evolv', 'evolv', 'ex', 'exact', 'exact', 'exact', 'exactli', 'exact', 'exagger', 'exalt', 'examin', 'examin', 'examin', 'examin', 'exampl', 'excav', 'exceed', 'exceed', 'exceedingli', 'excel', 'except', 'except', 'except', 'excess', 'exchang', 'exchang', 'exchang', 'excit', 'excit', 'excitedli', 'excit', 'excit', 'exclaim', 'exclam', 'exclud', 'exclud', 'exclus', 'excurs', 'excus', 'excus', 'execut', 'execut', 'exempt', 'exercis', 'exercis', 'exert', 'exhibit', 'exhilar', 'exist', 'exist', 'exist', 'exit', 'expect', 'expect', 'expect', 'expect', 'expect', 'expedit', 'expend', 'expenditur', 'expens', 'expens', 'expens', 'experi', 'experienc', 'experi', 'expir', 'expir', 'explain', 'explain', 'explain', 'explain', 'explan', 'explan', 'explor', 'export', 'expos', 'expostul', 'exposur', 'expound', 'express', 'express', 'express', 'express', 'express', 'expressli', 'exquisit', 'extend', 'extend', 'extend', 'extent', 'extinguish', 'extinguish', 'extra', 'extract', 'extraordinari', 'extrem', 'extrem', 'extrem', 'eye', 'eyebrow', 'eye', 'eyeglass', 'eye', 'eyford', 'ezekiah', 'fabric', 'face', 'face', 'face', 'facet', 'facilit', 'facil', 'face', 'fact', 'factor', 'factori', 'factori', 'fact', 'faculti', 'fad', 'faddi', 'fade', 'fade', 'fad', 'fag', 'fail', 'fail', 'fail', 'fain', 'faint', 'faint', 'faint', 'faintli', 'fair', 'fairbank', 'fairbank', 'fairer', 'fairli', 'faith', 'faith', 'fall', 'fallen', 'fall', 'fall', 'fals', 'familiar', 'famili', 'famili', 'famish', 'famou', 'fancier', 'fanci', 'fanci', 'fanci', 'fang', 'fanlight', 'fantast', 'far', 'fare', 'fareham', 'farewel', 'farintosh', 'farm', 'farmhous', 'farm', 'farrington', 'farther', 'farthest', 'farth', 'fascin', 'fascin', 'fashion', 'fashion', 'fashion', 'fast', 'fasten', 'fasten', 'fasten', 'fasten', 'faster', 'fat', 'fatal', 'fatal', 'fate', 'father', 'fathom', 'fathom', 'fatigu', 'fatten', 'fattest', 'fault', 'fault', 'favour', 'favour', 'favour', 'favour', 'fear', 'fear', 'fearless', 'fear', 'feasibl', 'feat', 'feather', 'feather', 'featur', 'featureless', 'featur', 'februari', 'fed', 'feder', 'fee', 'feebl', 'feed', 'feel', 'feel', 'feel', 'fee', 'feet', 'feign', 'fell', 'fellow', 'fellow', 'feloni', 'felstein', 'felt', 'feminin', 'fenchurch', 'ferguson', 'feroci', 'ferret', 'fess', 'festiv', 'fetch', 'fever', 'fewer', 'fiction', 'fidel', 'fidget', 'field', 'field', 'fierc', 'fierc', 'fieri', 'fifth', 'fight', 'fight', 'figur', 'figur', 'figur', 'file', 'file', 'file', 'filial', 'fill', 'fill', 'fill', 'filthi', 'final', 'final', 'financi', 'financi', 'finder', 'find', 'find', 'fine', 'fine', 'finer', 'finest', 'finger', 'finger', 'fingertip', 'finish', 'finish', 'finn', 'firelight', 'firemen', 'fireplac', 'firm', 'firmli', 'firm', 'fish', 'fish', 'fish', 'fist', 'fit', 'fit', 'fit', 'fit', 'fit', 'fiver', 'fix', 'fix', 'flag', 'flag', 'flag', 'flame', 'flame', 'flame', 'flap', 'flap', 'flare', 'flare', 'flash', 'flash', 'flash', 'flat', 'flatten', 'flatten', 'flatter', 'flatter', 'flaubert', 'flaw', 'fleck', 'fled', 'fleeci', 'fleet', 'fleet', 'flesh', 'fleshless', 'flew', 'flick', 'flicker', 'flick', 'fli', 'flight', 'flirt', 'flit', 'float', 'flock', 'flood', 'floor', 'floor', 'flora', 'florid', 'florida', 'flourish', 'flower', 'flow', 'fluffi', 'flung', 'flurri', 'flush', 'flush', 'flush', 'flutter', 'fli', 'fli', 'focu', 'fog', 'fog', 'foie', 'foil', 'fold', 'fold', 'fold', 'foliag', 'folk', 'folk', 'follow', 'follow', 'follow', 'follow', 'folli', 'fond', 'fonder', 'fond', 'food', 'fool', 'foolish', 'foolishli', 'fool', 'foolscap', 'foot', 'footfal', 'footfal', 'foot', 'footman', 'footmark', 'footmen', 'footpath', 'footpath', 'footstep', 'foppish', 'forbid', 'forbidden', 'forbid', 'forc', 'forc', 'forcep', 'forc', 'fordham', 'forearm', 'forebod', 'forecastl', 'forefing', 'forefing', 'forehead', 'foreign', 'foreign', 'foreman', 'foremost', 'foresaw', 'forese', 'foreseen', 'foresight', 'forestal', 'foretold', 'forev', 'forfeit', 'forger', 'forgeri', 'forget', 'forget', 'forgiv', 'forgiven', 'forgiv', 'forgo', 'forgot', 'forgotten', 'form', 'formal', 'format', 'format', 'form', 'formid', 'form', 'forth', 'fortnight', 'fort', 'fortun', 'fortun', 'fortun', 'fortun', 'forward', 'forward', 'fought', 'foul', 'foundat', 'found', 'founder', 'fountain', 'fourteen', 'fourteenth', 'fourth', 'fowl', 'fowler', 'fowl', 'fragment', 'frame', 'frame', 'framework', 'franc', 'franchis', 'franci', 'francisco', 'franco', 'frank', 'frankli', 'frantic', 'frantic', 'fraud', 'fray', 'freak', 'freckl', 'free', 'freebodi', 'freed', 'freedom', 'freeli', 'freemason', 'freemasonri', 'french', 'frenchman', 'frenzi', 'frequent', 'frequent', 'fresh', 'fresno', 'friday', 'friend', 'friendli', 'friend', 'friendship', 'fright', 'frighten', 'frighten', 'fright', 'frill', 'fring', 'fring', 'frisco', 'fritz', 'fro', 'frock', 'frog', 'front', 'frost', 'frost', 'frosti', 'frown', 'fruitless', 'fruit', 'ft', 'fugit', 'fulfil', 'fulfil', 'fulfil', 'fuller', 'fulli', 'fumbl', 'fume', 'fund', 'fund', 'funniest', 'funni', 'fur', 'furious', 'furnish', 'furnish', 'furnish', 'furnitur', 'furtiv', 'furi', 'fuss', 'futur', 'gabl', 'gain', 'gain', 'gainer', 'gain', 'gaiter', 'gale', 'gale', 'gallop', 'gallow', 'galvanis', 'gambler', 'game', 'gang', 'gaol', 'gap', 'gape', 'gape', 'garden', 'garment', 'garment', 'ga', 'gasfitt', 'gash', 'gaslight', 'gasogen', 'gasp', 'gate', 'gate', 'gather', 'gather', 'gather', 'gaunt', 'gaunter', 'gave', 'gaze', 'gaze', 'gazette_', 'gazett', 'gaze', 'gbnewbi', 'gear', 'gees', 'gem', 'gem', 'gener', 'gener', 'gener', 'gener', 'gener', 'genial', 'genial', 'genii', 'genteel', 'gentl', 'gentleman', 'gentlemanli', 'gentlemen', 'gentli', 'geolog', 'georg', 'georgia', 'german', 'german', 'gesellschaft', 'gesticul', 'gestur', 'get', 'get', 'ghastli', 'ghost', 'giant', 'gibe', 'gift', 'gigant', 'gilt', 'gin', 'gipsi', 'gipsi', 'girl', 'girl', 'girt', 'given', 'give', 'give', 'glad', 'glade', 'gladston', 'glamour', 'glanc', 'glanc', 'glanc', 'glanc', 'gland', 'glare', 'glare', 'glare', 'glass', 'glass', 'gleam', 'gleam', 'glide', 'glimmer', 'glimmer', 'glimps', 'glimps', 'glint', 'glint', 'glisten', 'glitter', 'gloom', 'gloomili', 'gloomi', 'gloss', 'glossi', 'glove', 'glove', 'glow', 'glow', 'goad', 'goal', 'god', 'godfrey', 'goe', 'go', 'gold', 'golden', 'gone', 'gong', 'good', 'goodg', 'good', 'goodwil', 'goodwin', 'goos', 'gordon', 'gospel', 'gossip', 'gossip', 'gossip', 'got', 'gottsreich', 'govern', 'gover', 'gover', 'govern', 'gown', 'grab', 'grace', 'grace', 'graciou', 'gradual', 'grain', 'grand', 'grandfath', 'grant', 'grant', 'gras_', 'grasp', 'grasp', 'grasp', 'grass', 'grate', 'grate', 'grate', 'grate', 'gratitud', 'grave', 'gravel', 'grave', 'graver', 'gravesend', 'graviti', 'greasi', 'great', 'greatcoat', 'greater', 'greatest', 'green', 'greengroc', 'greenwich', 'greet', 'greet', 'gregori', 'grew', 'grey', 'greyish', 'grice', 'grief', 'grievanc', 'griev', 'grievou', 'grim', 'grime', 'grimesbi', 'grimli', 'grin', 'grind', 'grinder', 'grin', 'grin', 'grip', 'grip', 'grit', 'gritti', 'grizzl', 'groan', 'groan', 'groom', 'groom', 'grope', 'gross', 'grosvenor', 'grotesqu', 'ground', 'ground', 'group', 'grove', 'grow', 'grow', 'grown', 'gruff', 'guard', 'guardianship', 'guardsmen', 'guess', 'guess', 'guidanc', 'guid', 'guilt', 'guilti', 'guinea', 'guinea', 'gullet', 'gulp', 'gum', 'gum', 'gun', 'gush', 'gush', 'gustav', 'gutenberg', 'gutter', 'ha', 'habit', 'habit', 'hack', 'hadn', 'hafiz', 'haggard', 'hagu', 'hail', 'hail', 'hair', 'hair', 'half', 'halfway', 'halifax', 'hall', 'hammer', 'hampshir', 'hand', 'handcuff', 'hand', 'handed', 'hand', 'handkerchief', 'handkerchief', 'handl', 'handl', 'handl', 'hand', 'handsom', 'handwrit', 'handi', 'hang', 'hang', 'hang', 'hang', 'hankey', 'hanov', 'hansom', 'hansom', 'happen', 'happen', 'happen', 'happen', 'happili', 'happi', 'happi', 'hard', 'harden', 'hardest', 'hardihood', 'hardli', 'hardi', 'hare', 'harley', 'harm', 'harmless', 'harmonium', 'harmoni', 'har', 'harri', 'harrow', 'harsh', 'harshli', 'hart', 'harvest', 'hasp', 'hast', 'hasten', 'hasten', 'hastili', 'hat', 'hate', 'hate', 'hatherley', 'hat', 'hatti', 'haul', 'have', 'hawk', 'hay', 'hayl', 'hazard', 'haze', 'head', 'headach', 'head', 'headgear', 'head', 'head', 'head', 'headstrong', 'health', 'healthi', 'heap', 'heap', 'hear', 'heard', 'hear', 'hear', 'heart', 'heart', 'heartili', 'heartless', 'heart', 'hearti', 'heat', 'heather', 'heaven', 'heaven', 'heavier', 'heavili', 'heav', 'heavi', 'hebrew', 'hedg', 'hedg', 'heed', 'heel', 'heelless', 'heel', 'heh', 'height', 'heinou', 'heiress', 'heir', 'held', 'helen', 'hellish', 'help', 'help', 'helper', 'help', 'helpless', 'help', 'henri', 'herald', 'hercul', 'herd', 'hereditari', 'hereford', 'herefordshir', 'heroic', 'hesit', 'hesit', 'hesit', 'hesit', 'hid', 'hidden', 'hide', 'hideou', 'high', 'higher', 'highest', 'highli', 'high', 'highroad', 'highway', 'hill', 'hill', 'hinder', 'hindranc', 'hing', 'hint', 'hint', 'hint', 'hire', 'hiss', 'histori', 'hit', 'hitherto', 'hoard', 'hoars', 'hoars', 'hoax', 'hobbi', 'hobbi', 'holborn', 'hold', 'holder', 'hold', 'hole', 'hole', 'holiday', 'holland', 'hollow', 'hollow', 'holm', 'home', 'home', 'homestead', 'homeward', 'homm', 'honest', 'honeymoon', 'honoria', 'honour', 'honour', 'hood', 'hoof', 'hook', 'hope', 'hope', 'hope', 'hopeless', 'hope', 'hope', 'hopkin', 'horac', 'horner', 'horribl', 'horribl', 'horrid', 'horrifi', 'horror', 'horror', 'hors', 'hors', 'horsey', 'horsham', 'hosmer', 'hospit', 'hospit', 'host', 'hot', 'hotel', 'hotel', 'hound', 'hour', 'hour', 'hous', 'household', 'housekeep', 'housemaid', 'hous', 'hover', 'howl', 'howl', 'http', 'hubbub', 'huddl', 'hudson', 'huf', 'huge', 'hug', 'hugh', 'hullo', 'hum', 'human', 'human', 'humbl', 'humbler', 'humdrum', 'humili', 'hum', 'humour', 'humour', 'humour', 'hundr', 'hung', 'hungrili', 'hungri', 'hunt', 'hunt', 'hunter', 'hunt', 'hurl', 'hurl', 'hurri', 'hurriedli', 'hurri', 'hurri', 'hurt', 'hurt', 'husband', 'hush', 'hush', 'hyde', 'hydraul', 'hydraul', 'hydrochlor', 'hypertext', 'hypothesi', 'hyster', 'ice', 'idea', 'ideal', 'idea', 'ident', 'identif', 'identifi', 'identifi', 'ident', 'idiot', 'idl', 'idler', 'ignor', 'ignor', 'ignotum', 'ii', 'iii', 'ill', 'illeg', 'illeg', 'ill', 'illumin', 'illustr', 'illustri', 'imagin', 'imagin', 'imbecil', 'imbecil', 'imbed', 'imit', 'imit', 'immedi', 'immedi', 'immens', 'immens', 'immin', 'impass', 'impati', 'impati', 'impati', 'impend', 'imperi', 'imperil', 'imperson', 'impertin', 'imperturb', 'impetu', 'implac', 'implic', 'implic', 'implic', 'implic', 'implicit', 'impli', 'impli', 'implor', 'implor', 'implor', 'impli', 'import', 'import', 'import', 'impos', 'impos', 'imposs', 'imposs', 'impress', 'impress', 'impress', 'impress', 'imprison', 'imprison', 'improb', 'improb', 'improv', 'improv', 'improvis', 'imprud', 'imprud', 'impuls', 'impuls', 'impuls', 'impun', 'inaccur', 'inadequ', 'inarticul', 'incalcul', 'incap', 'incarn', 'incept', 'inch', 'incid', 'incident', 'incid', 'incis', 'incit', 'inclin', 'includ', 'includ', 'includ', 'includ', 'incoher', 'incom', 'incomplet', 'inconsequenti', 'inconveni', 'incorrig', 'increas', 'increas', 'incred', 'incredul', 'incrimin', 'indebt', 'indemnifi', 'indemn', 'independ', 'index', 'index', 'india', 'indian', 'indian', 'indic', 'indic', 'indic', 'indic', 'indic', 'indiffer', 'indign', 'indirect', 'indirectli', 'indiscreetli', 'indiscret', 'indisposit', 'indistinguish', 'individu', 'individu', 'indoor', 'induc', 'indulg', 'indulg', 'indulg', 'inexor', 'inexplic', 'inextric', 'infer', 'infer', 'infer', 'infern', 'infer', 'infinit', 'infinit', 'infirm', 'inflam', 'inflict', 'influenc', 'inform', 'inform', 'inform', 'inform', 'inform', 'infring', 'ingeni', 'ingenu', 'inhabit', 'inherit', 'inherit', 'inimit', 'initi', 'inject', 'injunct', 'injur', 'injuri', 'injur', 'injuri', 'injustic', 'ink', 'inn', 'inner', 'innoc', 'innoc', 'inquest', 'inquir', 'inquir', 'inquir', 'inquiri', 'inquir', 'inquiri', 'insan', 'insan', 'inscrut', 'insect', 'insens', 'insens', 'insid', 'insight', 'insinu', 'insist', 'insist', 'insist', 'insol', 'inspect', 'inspect', 'inspector', 'inspir', 'inst', 'instanc', 'instant', 'instantli', 'instead', 'instep', 'instinct', 'instinct', 'institut', 'instruct', 'instruct', 'instruct', 'instrument', 'insuffici', 'insult', 'intellectu', 'intellig', 'intellig', 'intend', 'intend', 'intens', 'intensifi', 'intens', 'intent', 'intent', 'intent', 'interest', 'interest', 'interest', 'interfer', 'interim', 'interject', 'intern', 'intern', 'interpos', 'interpret', 'interrupt', 'interrupt', 'interrupt', 'interv', 'interview', 'intimaci', 'intim', 'intric', 'intrigu', 'introduc', 'introduc', 'introduc', 'introduct', 'introspect', 'introspect', 'intrud', 'intrud', 'intrus', 'intrus', 'intrust', 'intuit', 'intuit', 'invad', 'invalid', 'invalu', 'invari', 'invari', 'invent', 'invent', 'invest', 'investig', 'investig', 'investig', 'investig', 'invest', 'invest', 'inviol', 'invis', 'invit', 'involv', 'inward', 'iodoform', 'iota', 'iren', 'irish', 'iron', 'irresist', 'ir', 'isa', 'island', 'isl', 'isn', 'isol', 'isol', 'issu', 'issu', 'italian', 'item', 'item', 'ivori', 'jabez', 'jack', 'jacket', 'jackson', 'jag', 'jame', 'jane', 'januari', 'jaw', 'jealous', 'jealousi', 'jem', 'jephro', 'jeremiah', 'jerk', 'jerkili', 'jerk', 'jersey', 'jest', 'jest', 'jet', 'jewel', 'jewel', 'jewelleri', 'jewel', 'jezail', 'job', 'john', 'join', 'join', 'joint', 'joke', 'joke', 'joke', 'jollif', 'jolt', 'jone', 'jose', 'joseph', 'jostl', 'jot', 'journey', 'journey', 'journey', 'jove', 'jovial', 'jowl', 'joy', 'judg', 'judg', 'judgment', 'judici', 'jug', 'julia', 'jump', 'jump', 'jump', 'june', 'junior', 'juri', 'juryman', 'just', 'justic', 'justifi', 'jut', 'jut', 'kate', 'keen', 'keener', 'keenest', 'keenli', 'keeper', 'keep', 'keep', 'kempt', 'kensington', 'kent', 'kept', 'kettl', 'key', 'keyhol', 'key', 'kick', 'kick', 'kilburn', 'kill', 'kill', 'kill', 'kind', 'kindl', 'kindli', 'kindli', 'kind', 'king', 'kingdom', 'king', 'kiss', 'kitchen', 'klan', 'klux', 'knee', 'kneel', 'knee', 'knelt', 'knew', 'knife', 'knit', 'knock', 'knock', 'knot', 'knot', 'know', 'know', 'knowledg', 'known', 'know', 'kramm', 'ku', 'la', 'label', 'labour', 'labyrinth', 'lace', 'lack', 'lad', 'ladder', 'laden', 'ladi', 'ladi', 'ladyship', 'laid', 'lain', 'lake', 'lame', 'lame', 'lamp', 'lamp', 'lancast', 'land', 'landau', 'land', 'land', 'landladi', 'landlord', 'landown', 'landscap', 'lane', 'lane', 'langham', 'languag', 'languid', 'languor', 'lank', 'lantern', 'lantern', 'lap', 'laps', 'larg', 'larger', 'largest', 'lascar', 'lash', 'lash', 'lassitud', 'last', 'latch', 'late', 'late', 'late', 'later', 'later', 'laudanum', 'laugh', 'laugh', 'laugh', 'laughter', 'laurel', 'law', 'lawn', 'law', 'lawyer', 'lay', 'layer', 'lay', 'lay', 'lazili', 'lead', 'leadenhal', 'leader', 'lead', 'lead', 'leaf', 'leagu', 'leakag', 'leak', 'lean', 'lean', 'lean', 'leap', 'leap', 'learn', 'learn', 'learn', 'leather', 'leatherhead', 'leav', 'leav', 'leav', 'lebanon', 'lectur', 'lectur', 'led', 'ledger', 'ledger', 'lee', 'left', 'leg', 'legal', 'legal', 'leg', 'leg', 'legibl', 'leg', 'lemon', 'length', 'lengthen', 'lengthen', 'length', 'lengthi', 'lenient', 'len', 'lens', 'lent', 'lest', 'lestrad', 'let', 'lethargi', 'let', 'letter', 'letter', 'level', 'lever', 'liabil', 'liabl', 'liar', 'liber', 'liberti', 'liberti', 'librari', 'librari', 'licens', 'licens', 'lichen', 'lid', 'lid', 'lid', 'lie', 'lie', 'lieu', 'life', 'lifeless', 'lift', 'light', 'light', 'lighten', 'lighten', 'lighter', 'lighthous', 'light', 'lightn', 'light', 'like', 'like', 'like', 'like', 'limb', 'limb', 'lime', 'limit', 'limit', 'limit', 'limit', 'limp', 'limp', 'limp', 'limp', 'line', 'line', 'linen', 'line', 'linger', 'line', 'link', 'link', 'link', 'linoleum', 'lip', 'lip', 'lip', 'list', 'listen', 'listen', 'listen', 'listless', 'lit', 'literari', 'literatur', 'lith', 'litter', 'littl', 'live', 'live', 'liver', 'live', 'livid', 'live', 'll', 'llc', 'lloyd', 'load', 'loaf', 'loafer', 'loaf', 'loan', 'loath', 'loath', 'loathsom', 'lobster', 'local', 'local', 'locat', 'locat', 'lock', 'lock', 'locket', 'lodg', 'lodger', 'lodg', 'lodg', 'loftili', 'logic', 'logic', 'logician', 'loiter', 'london', 'london', 'loneli', 'lone', 'long', 'long', 'longer', 'look', 'look', 'look', 'lookout', 'look', 'loom', 'loom', 'loop', 'loophol', 'loos', 'loos', 'loosen', 'lord', 'lord', 'lordship', 'lose', 'lose', 'loss', 'lost', 'lot', 'lothman', 'loud', 'louder', 'loudli', 'louisiana', 'loung', 'lounger', 'loung', 'love', 'love', 'love', 'lover', 'lover', 'love', 'love', 'low', 'lower', 'lower', 'lowest', 'lowliest', 'lucid', 'luck', 'lucki', 'lucr', 'luci', 'luggag', 'lumber', 'lunat', 'lunch', 'luncheon', 'lurch', 'lure', 'lure', 'lurid', 'lurk', 'lust', 'lustr', 'lustrou', 'luxuri', 'luxuri', 'luxuri', 'lie', 'lyon', 'lysand', 'machin', 'machineri', 'mad', 'madam', 'madam', 'madden', 'mademoisel', 'madli', 'madman', 'mad', 'maggi', 'magician', 'magistr', 'magistr', 'magnific', 'magnifico_', 'magnifi', 'mahogani', 'maid', 'maiden', 'maid', 'mail', 'mail', 'main', 'maintain', 'mainten', 'majesti', 'major', 'make', 'maker', 'make', 'make', 'make', 'malay', 'male', 'malign', 'mall_', 'man', 'manag', 'manag', 'manag', 'manag', 'manageress', 'manag', 'mangl', 'mania', 'manifest', 'manifest', 'manifold', 'mankind', 'manner', 'manner', 'manor', 'mansion', 'mansion', 'mantelpiec', 'manual', 'manufactori', 'map', 'marbank', 'marbl', 'march', 'margin', 'margin', 'marin', 'mark', 'mark', 'market', 'mark', 'marm', 'marriag', 'marri', 'marri', 'marri', 'marseil', 'marshi', 'martyrdom', 'mari', 'masculin', 'mask', 'mask', 'masonri', 'mass', 'mass', 'massiv', 'master', 'masterli', 'masteri', 'mastiff', 'mat', 'match', 'match', 'materi', 'mate', 'matheson', 'matter', 'matter', 'matur', 'maudsley', 'mauritiu', 'maxim', 'maximum', 'mayb', 'mccarthi', 'mccarthi', 'mccauley', 'mcfarlan', 'mcquir', 'meadow', 'meadow', 'meal', 'mean', 'mean', 'meanli', 'mean', 'meant', 'meantim', 'measur', 'measur', 'measur', 'meddl', 'meddler', 'medic', 'medit', 'medit', 'medium', 'meet', 'meet', 'meet', 'meet', 'melbourn', 'melon', 'member', 'membra_', 'memoir', 'memoranda', 'memori', 'men', 'menac', 'mendic', 'mendic', 'menendez', 'meningen', 'mental', 'mention', 'mention', 'merchant', 'merchant', 'merci', 'merci', 'mere', 'meredith', 'mere', 'merest', 'merit', 'merri', 'merryweath', 'mesh', 'mess', 'messag', 'messeng', 'met', 'metal', 'metal', 'method', 'method', 'metropoli', 'metropolitan', 'mew', 'mexico', 'mice', 'michael', 'midday', 'middl', 'middlesex', 'midnight', 'midst', 'midway', 'mile', 'mile', 'militari', 'milk', 'millar', 'million', 'millionair', 'million', 'mill', 'mind', 'mind', 'mind', 'miner', 'mine', 'mingl', 'miniatur', 'mine', 'minist', 'minor', 'minut', 'minut', 'minut', 'mirror', 'mischanc', 'mischief', 'miser', 'misfortun', 'misgiv', 'misjudg', 'miss', 'miss', 'miss', 'miss', 'mission', 'mississippi', 'mistak', 'mistaken', 'mister', 'mistress', 'mix', 'mixtur', 'modern', 'modest', 'modif', 'modifi', 'moist', 'moisten', 'moistur', 'mole', 'moment', 'momentari', 'moment', 'monarch', 'monday', 'money', 'monger', 'monica', 'monogram', 'monograph', 'monomaniac', 'monosyl', 'monosyl', 'monoton', 'monotoni', 'montagu', 'montana', 'month', 'month', 'mood', 'moodili', 'mood', 'moodi', 'moon', 'moonless', 'moonlight', 'moonshin', 'mop', 'moral', 'moran', 'morcar', 'morn', 'morn', 'morocco', 'moros', 'morri', 'morrow', 'mortal', 'mortal', 'mortar', 'mortgag', 'mortim', 'moss', 'mother', 'motion', 'motion', 'motionless', 'motiv', 'motiv', 'mottl', 'mould', 'moulton', 'mountain', 'mousselin', 'moustach', 'moustach', 'mouth', 'mouth', 'mouth', 'move', 'movement', 'move', 'move', 'mr', 'mr', 'mud', 'muff', 'multipli', 'mumbl', 'mumbl', 'munich', 'munific', 'munro', 'murder', 'murder', 'murder', 'murder', 'murder', 'murder', 'murder', 'murki', 'murmur', 'muscl', 'museum', 'music', 'musician', 'mustard', 'muster', 'mutter', 'mutter', 'muzzl', 'mysteri', 'mysteri', 'mysteri', 'myth', 'nail', 'nail', 'nake', 'name', 'name', 'napoleon', 'narrat', 'narr', 'narr', 'narrow', 'narrow', 'narrowli', 'nation', 'nation', 'nativ', 'natur', 'natur', 'natur', 'natur', 'nautic', 'nay', 'near', 'nearer', 'nearest', 'near', 'nearli', 'neat', 'neatli', 'neat', 'necessarili', 'necessari', 'necessit', 'necess', 'neck', 'neckti', 'ned', 'need', 'need', 'needl', 'need', 'neglig', 'negro', 'negro', 'neighbour', 'neighbourhood', 'neighbour', 'neighbour', 'nerv', 'nerv', 'nervou', 'nervous', 'nest', 'net', 'network', 'neutral', 'nevil', 'new', 'newbi', 'newcom', 'newcom', 'newer', 'newli', 'news', 'news_', 'newslett', 'newspap', 'newspap', 'nez', 'nice', 'nice', 'nickel', 'niec', 'nigh', 'night', 'night', 'nip', 'nipper', 'nitrat', 'nobl', 'nobleman', 'noblest', 'nocturn', 'nod', 'nod', 'nod', 'nois', 'nois', 'noiseless', 'noiselessli', 'nomin', 'non', 'nonconformist', 'nonent', 'nonproprietari', 'nonsens', 'noos', 'normal', 'north', 'northumberland', 'norton', 'nose', 'nose', 'nostril', 'notabl', 'notabl', 'note', 'note', 'notepap', 'note', 'notic', 'notic', 'notic', 'notifi', 'note', 'notion', 'notori', 'nova', 'novel', 'novemb', 'nucleu', 'number', 'number', 'numer', 'nurs', 'nurseri', 'nurtur', 'nut', 'nutshel', 'oak', 'oakshott', 'oath', 'oath', 'obedi', 'obes', 'obey', 'obey', 'object', 'object', 'object', 'oblig', 'oblig', 'oblig', 'observ', 'observ', 'observ', 'observ', 'observ', 'observ', 'obsolet', 'obstacl', 'obstinaci', 'obstin', 'obtain', 'obtain', 'obtain', 'obtrud', 'obviou', 'obvious', 'occas', 'occasion', 'occasion', 'occipit', 'occup', 'occup', 'occup', 'occupi', 'occupi', 'occur', 'occur', 'occurr', 'occurr', 'oct', 'octavo', 'octob', 'odd', 'odessa', 'odour', 'offenc', 'offend', 'offens', 'offer', 'offer', 'offer', 'offer', 'offhand', 'offic', 'offic', 'offic', 'offici', 'offici', 'oh', 'oil', 'oili', 'old', 'older', 'oldest', 'omin', 'one', 'onlin', 'opal', 'open', 'open', 'open', 'open', 'openli', 'open', 'openshaw', 'opera', 'operat', 'oper', 'oper', 'opinion', 'opium', 'oppon', 'opportun', 'opportun', 'oppos', 'oppos', 'opposit', 'opposit', 'oppress', 'oppress', 'opul', 'orang', 'order', 'order', 'order', 'order', 'ordinari', 'ordnanc', 'org', 'organis', 'organ', 'orgi', 'origin', 'origin', 'origin', 'origin', 'ormstein', 'ornament', 'ornament', 'orphan', 'orphanag', 'oscil', 'oscil', 'oscil', 'ostens', 'ostler', 'ostrich', 'ought', 'ounc', 'outbreak', 'outbreak', 'outburst', 'outcri', 'outdat', 'outdoor', 'outer', 'outhous', 'outlin', 'outlin', 'outrag', 'outset', 'outsid', 'outsid', 'outskirt', 'outstand', 'outstretch', 'outward', 'outweigh', 'overcoat', 'overcom', 'overdid', 'overhaul', 'overhead', 'overhear', 'overhear', 'overjoy', 'overlook', 'overpow', 'overseen', 'oversight', 'overstrung', 'overtaken', 'overtook', 'overtop', 'overwhelm', 'owe', 'owe', 'owner', 'own', 'oxford', 'oxfordshir', 'pa', 'pace', 'pace', 'pacif', 'pace', 'pack', 'pack', 'packet', 'paddington', 'padlock', 'page', 'page', 'paid', 'pain', 'pain', 'pain', 'pain', 'pain', 'paint', 'paint', 'pair', 'pal', 'pale', 'pale', 'pallet', 'pallor', 'palm', 'palmer', 'palpit', 'pal', 'pancra', 'panel', 'panel', 'panel', 'panopli', 'pant', 'paper', 'paper', 'paperwork', 'papier', 'paradol', 'paradox', 'paragraph', 'paragraph', 'parallel', 'paramor', 'paramount', 'parapet', 'parcel', 'parch', 'pardon', 'parent', 'pariet', 'pari', 'parish', 'park', 'parlanc', 'parley', 'parr', 'parsonag', 'part', 'partial', 'particular', 'particularli', 'particular', 'parti', 'partli', 'partner', 'part', 'parti', 'pass', 'passag', 'passag', 'pass', 'passeng', 'passeng', 'passer', 'pass', 'passion', 'passion', 'passion', 'passion', 'past', 'pasti', 'patch', 'patch', 'patent', 'patente', 'patern', 'paterson', 'path', 'pathway', 'patienc', 'patient', 'patient', 'patron', 'pat', 'patter', 'pat', 'paul', 'pauper', 'paus', 'paus', 'paus', 'pavement', 'pawnbrok', 'pay', 'pay', 'payment', 'payment', 'pay', 'pea', 'peac', 'peac', 'peak', 'pearl', 'peasant', 'peculiar', 'peculiar', 'peculiarli', 'pedestrian', 'peel', 'peel', 'peep', 'peep', 'peep', 'peeress', 'peer', 'pen', 'penal', 'penc', 'pencil', 'pencil', 'pend', 'penetr', 'penni', 'pennsylvania', 'penni', 'pen', 'pension', 'pentonvil', 'peopl', 'perceiv', 'perceiv', 'perch', 'perch', 'perci', 'perfect', 'perfect', 'perfectli', 'perform', 'perform', 'perform', 'perform', 'perform', 'perform', 'peril', 'period', 'perman', 'permiss', 'permit', 'permit', 'perpetr', 'perpetr', 'perpetu', 'perplex', 'perplex', 'perplex', 'persecut', 'persev', 'persian', 'persist', 'persist', 'person', 'person', 'person', 'person', 'person', 'person', 'perspir', 'persuad', 'persuad', 'persuas', 'perturb', 'pester', 'pester', 'pet', 'peter', 'peter', 'petersfield', 'peterson', 'petrarch', 'petrifi', 'pet', 'petti', 'petul', 'pew', 'pg', 'pglaf', 'pheasant', 'philadelphia', 'philanthropist', 'philosophi', 'photograph', 'photographi', 'phrase', 'physic', 'pick', 'pick', 'pick', 'pictur', 'pictur', 'pictur', 'pie', 'piec', 'piec', 'pierc', 'pierc', 'pigment', 'pikestaff', 'pile', 'pile', 'pile', 'pillow', 'pillow', 'pilot', 'pin', 'pinc', 'pinch', 'pinch', 'pink', 'pinnacl', 'pipe', 'pipe', 'pipe', 'pip', 'piquant', 'pirat', 'pistol', 'piston', 'pit', 'pitch', 'piteou', 'pitiabl', 'piti', 'pit', 'pittanc', 'piti', 'place', 'place', 'place', 'place', 'plaid', 'plain', 'plainer', 'plainli', 'plan', 'planet', 'plank', 'plank', 'plank', 'plan', 'plan', 'plan', 'plan', 'plantagenet', 'plantat', 'plant', 'planter', 'plaster', 'plate', 'platform', 'platitud', 'plausibl', 'play', 'play', 'player', 'play', 'play', 'plead', 'pleasant', 'pleas', 'pleasur', 'pledg', 'pledg', 'plenti', 'plenti', 'pli', 'plot', 'plough', 'plover', 'pluck', 'pluck', 'pluck', 'plug', 'plumber', 'plump', 'plung', 'plung', 'plung', 'plush', 'po', 'pocket', 'pocket', 'poetic', 'poetri', 'point', 'point', 'point', 'point', 'poison', 'poison', 'poison', 'poker', 'poker', 'poki', 'polic', 'policeman', 'polici', 'polit', 'politician', 'polit', 'pompos', 'pompou', 'pon', 'ponder', 'ponder', 'pondicherri', 'pooh', 'pool', 'poor', 'poorer', 'pope', 'popular', 'popul', 'porch', 'port', 'porter', 'portion', 'portli', 'portsdown', 'pose', 'posit', 'posit', 'posit', 'posit', 'possess', 'possess', 'possess', 'possess', 'possibl', 'possibl', 'possibl', 'post', 'post_', 'post', 'posterior', 'postmark', 'postmark', 'postpon', 'poultri', 'pound', 'pound', 'pour', 'pour', 'power', 'power', 'power', 'practic', 'practic', 'practic', 'pragu', 'prank', 'pray', 'pre', 'preach', 'precaut', 'precaut', 'preced', 'preced', 'preciou', 'precipit', 'precis', 'precis', 'precursor', 'predict', 'predomin', 'predomin', 'prefer', 'prefer', 'prefer', 'prejudic', 'preliminari', 'prematur', 'premis', 'prendergast', 'preoccupi', 'prepar', 'prepar', 'prepar', 'prepar', 'preposter', 'presenc', 'present', 'present', 'present', 'present', 'preserv', 'preserv', 'preserv', 'preserv', 'preserv', 'press', 'press', 'press', 'press', 'pressur', 'presum', 'presum', 'presum', 'presumpt', 'pretenc', 'pretend', 'pretend', 'pretext', 'pretti', 'prevent', 'prevent', 'previou', 'prey', 'price', 'price', 'prick', 'pride', 'prima', 'prime', 'princ', 'princess', 'princip', 'princip', 'principl', 'principl', 'print', 'print', 'print', 'prior', 'prison', 'prison', 'pritchard', 'privaci', 'privat', 'prize', 'prize', 'pro', 'probabl', 'probabl', 'probabl', 'probe', 'probe', 'problem', 'problem', 'proceed', 'proceed', 'proceed', 'process', 'process', 'process', 'proclaim', 'prodigi', 'produc', 'produc', 'produc', 'product', 'product', 'profess', 'profession', 'profession', 'professor', 'profici', 'profit', 'profit', 'profit', 'profound', 'profoundli', 'programm', 'progress', 'prohibit', 'project', 'project', 'prolong', 'prolong', 'promin', 'promin', 'promis', 'promis', 'promis', 'promis', 'promot', 'promot', 'prompt', 'prompt', 'promptli', 'pronounc', 'proof', 'proofread', 'proof', 'proosia', 'propag', 'proper', 'properti', 'proport', 'propos', 'propos', 'propos', 'proposit', 'propound', 'proprietari', 'proprietor', 'proprieti', 'prosecut', 'prosecut', 'prospect', 'prospect', 'prosper', 'prosper', 'prosper', 'protect', 'protect', 'protect', 'protest', 'protest', 'protest', 'protrud', 'protrud', 'proud', 'prove', 'prove', 'prove', 'provid', 'provid', 'provid', 'provinc', 'provinc', 'provinci', 'prove', 'provis', 'provis', 'provok', 'prussian', 'pri', 'pshaw', 'public', 'public', 'publicli', 'pucker', 'puf', 'puf', 'pull', 'pull', 'pull', 'pulp', 'punctur', 'pungent', 'punish', 'punish', 'punit', 'puni', 'pupil', 'purchas', 'purchas', 'pure', 'pure', 'purest', 'puriti', 'purpl', 'purport', 'purpos', 'purpos', 'purs', 'purs', 'pursu', 'pursu', 'pursuer', 'purveyor', 'push', 'push', 'push', 'put', 'putti', 'puzzl', 'puzzl', 'puzzl', 'qualif', 'qualiti', 'qualiti', 'quarrel', 'quarrel', 'quarrel', 'quarter', 'quarter', 'quarter', 'quaver', 'queen', 'queer', 'quench', 'quest', 'question', 'question', 'question', 'question', 'quick', 'quicker', 'quickli', 'quiet', 'quietli', 'quill', 'quincey', 'quinsi', 'quit', 'quit', 'quiver', 'quiver', 'quot', 'quot', 'rabbi', 'rabbit', 'rabbit', 'race', 'rack', 'radianc', 'radiu', 'rage', 'rag', 'rail', 'rail', 'rail', 'railway', 'rain', 'rais', 'rais', 'rais', 'rake', 'rambl', 'rambl', 'ran', 'random', 'rang', 'rank', 'ransack', 'rapid', 'rapid', 'rapidli', 'rapt', 'rare', 'rascal', 'rasher', 'rash', 'rat', 'rate', 'rattl', 'rattl', 'rattl', 'rave', 'ray', 'reabsorb', 'reach', 'reach', 'reach', 'reach', 'reaction', 'read', 'readabl', 'reader', 'readili', 'read', 'readi', 'real', 'realis', 'realis', 'realis', 'realism', 'realist', 'realli', 'reap', 'rear', 'rear', 'rearrang', 'reason', 'reason', 'reason', 'reason', 'reason', 'reason', 'recal', 'recal', 'reced', 'receipt', 'receipt', 'receiv', 'receiv', 'receiv', 'receiv', 'recent', 'recent', 'recept', 'recess', 'recess', 'reckless', 'reclaim', 'recognis', 'recognis', 'recognis', 'recoil', 'recoil', 'recollect', 'recomm', 'recommend', 'recommend', 'recompens', 'reconsid', 'reconsid', 'reconstruct', 'record', 'record', 'record', 'recours', 'recov', 'recov', 'recov', 'rectifi', 'red', 'redder', 'redistribut', 'redistribut', 'redistribut', 'reduc', 'reed', 'reed', 'refer', 'refer', 'refer', 'refer', 'refer', 'refin', 'refin', 'refrain', 'refresh', 'refreshingli', 'refund', 'refus', 'refus', 'refus', 'regain', 'regain', 'regard', 'regard', 'regenc', 'regent', 'region', 'regist', 'regist', 'regist', 'registri', 'regret', 'regret', 'regular', 'regul', 'regul', 'regurgit', 'reign', 'reject', 'rejoic', 'rejoin', 'relaps', 'relaps', 'relat', 'relat', 'relat', 'rel', 'rel', 'relax', 'releas', 'releas', 'relentless', 'relev', 'reliabl', 'relianc', 'relic', 'relic', 'relief', 'reliev', 'relish', 'reli', 'remain', 'remaind', 'remain', 'remain', 'remain', 'remand', 'remark', 'remark', 'remark', 'remark', 'remark', 'remark', 'remedi', 'remedi', 'rememb', 'rememb', 'remembr', 'remonstr', 'remorseless', 'remov', 'remov', 'remov', 'remun', 'renam', 'rend', 'renew', 'renew', 'rent', 'reopen', 'reopen', 'repaid', 'repair', 'repair', 'repar', 'reparte', 'repay', 'repeat', 'repeat', 'repeatedli', 'repel', 'repent', 'replac', 'replac', 'replac', 'repli', 'repli', 'report', 'report', 'report', 'report', 'report', 'repres', 'represent', 'repres', 'repres', 'repres', 'reproach', 'reproach', 'reptil', 'republican', 'repugn', 'repuls', 'repuls', 'reput', 'reput', 'request', 'request', 'request', 'requir', 'requir', 'requir', 'requir', 'rescu', 'research', 'research', 'resembl', 'resembl', 'resent', 'reserv', 'resid', 'resid', 'resid', 'resist', 'resist', 'resistless', 'resolut', 'resolut', 'resolut', 'resolv', 'resolv', 'resort', 'resound', 'resourc', 'resourc', 'respect', 'respect', 'respect', 'respond', 'respond', 'respons', 'respons', 'respons', 'rest', 'restaur', 'rest', 'rest', 'restiv', 'restless', 'restor', 'restor', 'restrain', 'restraint', 'restrict', 'rest', 'result', 'result', 'retain', 'retain', 'retir', 'retir', 'retir', 'retort', 'retort', 'retreat', 'retrogress', 'return', 'return', 'return', 'return', 'reveal', 'reveal', 'reveal', 'revel', 'reveng', 'revenu', 'reveri', 'revers', 'revolv', 'revolv', 'reward', 'rib', 'rich', 'richer', 'richest', 'rich', 'ricketi', 'rid', 'ridicul', 'rien', 'rifl', 'rifl', 'rift', 'rift', 'right', 'rightli', 'right', 'rigid', 'ring', 'ring', 'ring', 'rise', 'risen', 'riser', 'riser', 'rise', 'risk', 'risk', 'rival', 'river', 'riversid', 'rivet', 'road', 'road', 'roadway', 'roar', 'roar', 'roast', 'robber', 'robberi', 'robberi', 'robert', 'robinson', 'rock', 'rocket', 'rocki', 'rod', 'rogu', 'role', 'roll', 'roll', 'roll', 'romper', 'roof', 'roof', 'roof', 'room', 'room', 'root', 'rope', 'rope', 'rose', 'ross', 'rotterdam', 'rough', 'roughli', 'rough', 'round', 'round', 'round', 'rous', 'rous', 'routin', 'row', 'royal', 'royalti', 'royalti', 'roylott', 'roylott', 'rub', 'rubber', 'rub', 'rubi', 'rucastl', 'rucastl', 'ruddi', 'rude', 'rueful', 'ruefulli', 'ruffian', 'ruffian', 'rug', 'ruin', 'ruin', 'rule', 'rule', 'rumbl', 'rummag', 'rumour', 'rumour', 'run', 'run', 'run', 'rural', 'ruse', 'rush', 'rush', 'rush', 'rush', 'russel', 'russian', 'rustic', 'rusti', 'ruthless', 'ryder', 'sabl', 'sacrific', 'sacrif', 'sacrif', 'sad', 'saddest', 'saddl', 'sadli', 'safe', 'safeguard', 'safe', 'safer', 'safe', 'safeti', 'said', 'sail', 'sail', 'sailor', 'sake', 'salari', 'salesman', 'salli', 'sallow', 'salli', 'salt', 'salut', 'sampl', 'san', 'sand', 'sandwich', 'sandwich', 'sank', 'saras', 'sardon', 'sat', 'satin', 'satisfact', 'satisfactori', 'satisfi', 'satisfi', 'satisfi', 'satur', 'saturday', 'saucer', 'savag', 'savag', 'savannah', 'save', 'save', 'save', 'saviour', 'saw', 'sax', 'saxon', 'say', 'say', 'say', 'scaffold', 'scala', 'scale', 'scale', 'scandal', 'scandal', 'scandinavia', 'scar', 'scare', 'scarlet', 'scatter', 'scene', 'sceneri', 'scene', 'scent', 'sceptic', 'schemer', 'scheme', 'school', 'schoolmast', 'school', 'scienc', 'scintil', 'scissor', 'score', 'score', 'scorn', 'scotch', 'scotia', 'scotland', 'scott', 'scoundrel', 'scrape', 'scrape', 'scratch', 'scratch', 'scrawl', 'scrawl', 'scream', 'scream', 'scream', 'scream', 'screen', 'screen', 'scribbl', 'scribbl', 'scrupl', 'scrupul', 'scuffl', 'scum', 'sea', 'seal', 'seal', 'seaman', 'seam', 'seaport', 'search', 'search', 'search', 'sear', 'season', 'season', 'seat', 'seat', 'seat', 'seclud', 'second', 'second', 'secreci', 'secret', 'secretari', 'secret', 'secret', 'secret', 'secretli', 'secret', 'section', 'section', 'secur', 'secur', 'secur', 'secur', 'secur', 'sedentari', 'seed', 'seedi', 'see', 'seek', 'seek', 'seen', 'see', 'seiz', 'seiz', 'seldom', 'select', 'select', 'select', 'self', 'selfish', 'selfish', 'sell', 'seller', 'semicircl', 'send', 'sender', 'send', 'send', 'senil', 'senior', 'sensat', 'sensat', 'sensation', 'sensat', 'sens', 'senseless', 'sens', 'sensibl', 'sensit', 'sent', 'sentenc', 'sentiment', 'sentinel', 'separ', 'separ', 'separ', 'septemb', 'sequel', 'sequenc', 'seren', 'seri', 'serious', 'serpent', 'serpentin', 'servant', 'servant', 'serv', 'serv', 'serv', 'servic', 'servic', 'serv', 'servitud', 'set', 'sette', 'setter', 'set', 'settl', 'settl', 'settl', 'settl', 'seven', 'seventeen', 'seventi', 'sever', 'sever', 'sever', 'severn', 'sew', 'sewn', 'sex', 'shabbili', 'shabbi', 'shade', 'shade', 'shade', 'shadow', 'shadow', 'shag', 'shake', 'shaken', 'shake', 'shall', 'shamefac', 'shame', 'shan', 'shape', 'shape', 'shapeless', 'share', 'share', 'share', 'sharp', 'sharpen', 'sharpli', 'shatter', 'shave', 'shaven', 'shave', 'shawl', 'shed', 'sheep', 'sheer', 'sheet', 'sheet', 'shelf', 'shelter', 'shelv', 'shepherd', 'sherlock', 'sherri', 'shift', 'shill', 'shill', 'shimmer', 'shine', 'shini', 'ship', 'ship', 'ship', 'shipwreck', 'shirt', 'shiver', 'shiver', 'shock', 'shock', 'shoe', 'shoe', 'sholto', 'sholto', 'shone', 'shook', 'shoot', 'shoot', 'shop', 'shop', 'shop', 'short', 'shortcom', 'shorter', 'shortli', 'shot', 'shot', 'shoulder', 'shoulder', 'shouldn', 'shout', 'shout', 'shout', 'shove', 'shove', 'show', 'show', 'shown', 'show', 'shriek', 'shriek', 'shrilli', 'shrimp', 'shrug', 'shrug', 'shrunk', 'shudder', 'shudder', 'shuffl', 'shut', 'shutter', 'shutter', 'shutter', 'shut', 'shi', 'sick', 'sick', 'sideboard', 'side', 'sidelight', 'sidelong', 'side', 'sideway', 'sidl', 'sigh', 'sigh', 'sight', 'sigismond', 'sign', 'signal', 'signal', 'signatur', 'sign', 'signet', 'signific', 'sign', 'silenc', 'silent', 'silent', 'silhouett', 'silk', 'sill', 'silli', 'silver', 'silver', 'similar', 'simon', 'simpl', 'simpler', 'simplest', 'simplic', 'simplifi', 'simplifi', 'simpli', 'sin', 'sinewi', 'singl', 'sing', 'singular', 'singular', 'singularli', 'sinist', 'sink', 'sink', 'sin', 'sin', 'sir', 'sister', 'sit', 'site', 'sit', 'sit', 'situat', 'situat', 'sixteen', 'size', 'size', 'sketch', 'sketch', 'skill', 'skin', 'skin', 'skirmish', 'skirt', 'skirt', 'skull', 'sky', 'skylight', 'slab', 'slab', 'slam', 'slam', 'slang', 'slap', 'slash', 'slate', 'slave', 'slavey', 'sleep', 'sleeper', 'sleeper', 'sleepili', 'sleep', 'sleepless', 'sleep', 'sleepi', 'sleev', 'sleev', 'slept', 'sleuth', 'slice', 'slide', 'slide', 'slight', 'slight', 'slighter', 'slightli', 'slim', 'slink', 'slip', 'slip', 'slipper', 'slipper', 'slipperi', 'slip', 'slit', 'slit', 'slit', 'slop', 'slope', 'slope', 'slope', 'slovenli', 'slow', 'slowli', 'sluggishli', 'slumber', 'slum', 'slung', 'slur', 'slur', 'slut', 'sli', 'smack', 'small', 'smaller', 'smallest', 'smart', 'smarter', 'smartest', 'smart', 'smash', 'smasher', 'smear', 'smear', 'smell', 'smell', 'smile', 'smile', 'smile', 'smile', 'smoke', 'smoke', 'smokeless', 'smoke', 'smoke', 'smooth', 'smooth', 'smooth', 'smooth', 'smudg', 'snake', 'snakish', 'snap', 'snap', 'snap', 'snarl', 'snarl', 'snatch', 'snatch', 'sneer', 'snigger', 'snore', 'snow', 'snuff', 'snuffbox', 'snug', 'soak', 'sob', 'sob', 'sob', 'sober', 'sober', 'social', 'societi', 'socket', 'sock', 'soda', 'sodden', 'sofa', 'soft', 'soften', 'softer', 'softli', 'soie', 'sold', 'solder', 'soldier', 'soldier', 'sole', 'sole', 'sole', 'solemn', 'solemnli', 'sole', 'solicit', 'solicit', 'solicitor', 'solid', 'solitud', 'solut', 'solv', 'solv', 'sombr', 'somewhat', 'son', 'song', 'son', 'soon', 'sooner', 'sooth', 'sooth', 'soothingli', 'sore', 'sore', 'sorrow', 'sorri', 'sort', 'sot', 'sottish', 'sought', 'soul', 'soul', 'sound', 'sound', 'sound', 'sound', 'sour', 'sourc', 'south', 'southampton', 'southern', 'southerton', 'souvenir', 'sovereign', 'sovereign', 'space', 'span', 'spare', 'spare', 'spark', 'sparkl', 'sparkl', 'spatter', 'spauld', 'speak', 'speak', 'speak', 'special', 'specialist', 'specif', 'specifi', 'specimen', 'specious', 'speckl', 'speckl', 'spectacl', 'spectacl', 'spectat', 'speech', 'speed', 'speedili', 'speed', 'speedi', 'spell', 'spellbound', 'spenc', 'spend', 'spent', 'spi', 'spine', 'spin', 'spinster', 'spirit', 'spirit', 'spite', 'splash', 'splash', 'splash', 'splendid', 'splendidli', 'splendour', 'spoil', 'spoil', 'spoke', 'spoken', 'spong', 'spong', 'spongi', 'sporad', 'sport', 'spot', 'spot', 'spot', 'spout', 'sprang', 'spread', 'spread', 'sprig', 'spring', 'spring', 'spring', 'sprung', 'spun', 'squalid', 'squander', 'squar', 'squat', 'squat', 'squeez', 'squir', 'st', 'stab', 'stabl', 'stabl', 'staccato', 'staff', 'stage', 'stage', 'stagger', 'stagger', 'stagger', 'stagnant', 'stain', 'stain', 'stain', 'stain', 'stair', 'staircas', 'stair', 'stake', 'stale', 'stalk', 'stall', 'stall', 'stammer', 'stamp', 'stamp', 'stamp', 'stand', 'standi_', 'stand', 'standpoint', 'stand', 'stapl', 'star', 'star_', 'stare', 'stare', 'stare', 'stare', 'stark', 'star', 'start', 'start', 'start', 'startl', 'startl', 'starv', 'state', 'state', 'state', 'statement', 'statement', 'state', 'station', 'statu', 'stay', 'stay', 'steadili', 'stead', 'steadi', 'steal', 'stealthili', 'steam', 'steamboat', 'steam', 'steamer', 'steam', 'steel', 'steeli', 'steep', 'step', 'stepdaught', 'stepfath', 'stepmoth', 'step', 'step', 'step', 'stern', 'sterner', 'sternli', 'stethoscop', 'stevedor', 'stevenson', 'stick', 'stick', 'stick', 'stiff', 'stiff', 'stile', 'still', 'stimul', 'stir', 'stir', 'stock', 'stock', 'stoke', 'stole', 'stolen', 'stone', 'stoner', 'stone', 'stood', 'stool', 'stoop', 'stoop', 'stoop', 'stop', 'stoper', 'stop', 'stop', 'store', 'stori', 'stori', 'storm', 'stormi', 'stori', 'stout', 'stoutli', 'straggl', 'straight', 'straighten', 'straighten', 'strain', 'strain', 'strand', 'strang', 'stranger', 'stranger', 'strangest', 'straw', 'stray', 'streak', 'stream', 'stream', 'stream', 'streatham', 'street', 'street', 'strength', 'strengthen', 'strenuous', 'stress', 'stretch', 'stretch', 'stretch', 'stricken', 'strict', 'stride', 'stride', 'strike', 'strike', 'strike', 'strip', 'stripe', 'strip', 'strive', 'strode', 'stroke', 'stroll', 'stroll', 'strong', 'stronger', 'strongest', 'strongli', 'stroud', 'struck', 'struggl', 'struggl', 'struggl', 'stuck', 'studi', 'studi', 'studi', 'studi', 'stuff', 'stuf', 'stuff', 'stumbl', 'stump', 'stupefi', 'stupid', 'stupid', 'sturdi', 'style', 'suav', 'subdu', 'subdu', 'subject', 'subject', 'submit', 'submit', 'subscrib', 'subsid', 'substitut', 'subtl', 'suburb', 'suburban', 'succeed', 'succeed', 'success', 'success', 'success', 'success', 'success', 'success', 'successor', 'succinct', 'suck', 'sudden', 'suddenli', 'suffer', 'suffer', 'suffer', 'suffer', 'suffic', 'suffici', 'suggest', 'suggest', 'suggest', 'suggest', 'suggest', 'suicid', 'suit', 'suit', 'suit', 'suitor', 'suit', 'sulk', 'sullenli', 'sum', 'summarili', 'summaris', 'summer', 'summon', 'summon', 'summons', 'sum', 'sun', 'sunbeam', 'sunburnt', 'sunday', 'sundial', 'sundial', 'sunk', 'sunlight', 'sunset', 'sunshin', 'superb', 'superior', 'superscrib', 'superscript', 'supper', 'supplement', 'suppli', 'supplier', 'supplier', 'suppli', 'support', 'support', 'support', 'suppos', 'suppos', 'suppos', 'supposit', 'suppress', 'sure', 'sure', 'surest', 'surfac', 'surgeon', 'surli', 'surmis', 'surplic', 'surpris', 'surpris', 'surrey', 'surround', 'surround', 'surround', 'survey', 'surviv', 'surviv', 'survivor', 'suspect', 'suspect', 'suspect', 'suspend', 'suspicion', 'suspicion', 'suspici', 'sussex', 'sutherland', 'swag', 'swain', 'swamp', 'swan', 'swandam', 'swarm', 'swash', 'sway', 'sway', 'swear', 'sweat', 'sweat', 'sweep', 'sweep', 'sweet', 'sweetheart', 'sweetli', 'sweet', 'swell', 'swept', 'swift', 'swiftli', 'swim', 'swimmer', 'swim', 'swindon', 'swing', 'swing', 'swish', 'swollen', 'swordsman', 'swore', 'sworn', 'swung', 'syllabl', 'sympathet', 'sympathi', 'symptom', 'symptom', 'synonym', 'synthesi', 'systemat', 'tabl', 'tack', 'tackl', 'tag', 'tail', 'tail', 'tail', 'tailless', 'tail', 'taken', 'take', 'taketh', 'take', 'take', 'tale', 'talent', 'tale', 'talk', 'talk', 'talker', 'talk', 'tall', 'taller', 'talli', 'tallish', 'tallow', 'tangibl', 'tangl', 'tangl', 'tankervil', 'tap', 'tap', 'tap', 'task', 'tassel', 'tast', 'tatter', 'tattoo', 'tattoo', 'tawni', 'tax', 'tax', 'tea', 'teach', 'tear', 'tear', 'tear', 'technic', 'teeth', 'teetotal', 'telegram', 'telegraph_', 'telephon', 'tell', 'teller', 'tell', 'tell', 'temper', 'tempera', 'temper', 'temper', 'templ', 'templ', 'temporari', 'temptat', 'tempt', 'tenabl', 'tenaci', 'tenant', 'tend', 'tend', 'tendenc', 'tender', 'tenfold', 'tennesse', 'tens', 'tension', 'tent', 'term', 'termin', 'termin', 'term', 'terrac', 'terribl', 'terribl', 'terrifi', 'terror', 'terroris', 'ters', 'test', 'testament', 'test', 'texa', 'text', 'text', 'textur', 'thame', 'thank', 'thank', 'thank', 'theft', 'their', 'theolog', 'theoret', 'theori', 'theoris', 'theori', 'thicken', 'thicket', 'thickli', 'thick', 'thief', 'thiev', 'thing', 'thing', 'think', 'thinker', 'think', 'think', 'thin', 'thirti', 'thither', 'thoreau', 'thoroughfar', 'thoroughli', 'thought', 'thought', 'thought', 'thoughtless', 'thought', 'thousand', 'thousand', 'thread', 'threadneedl', 'threat', 'threaten', 'threaten', 'threaten', 'threaten', 'threat', 'threshold', 'threshold', 'threw', 'thrill', 'thrill', 'throat', 'throat', 'throb', 'throb', 'throw', 'throw', 'thrown', 'throw', 'thrust', 'thrust', 'thud', 'thud', 'thumb', 'thump', 'thursday', 'tiara', 'ticket', 'ticket', 'tick', 'tide', 'tidi', 'tie', 'tie', 'tiger', 'tight', 'tightli', 'till', 'tilt', 'timber', 'time', 'time', 'times_', 'timid', 'tin', 'ting', 'ting', 'tiniest', 'tinker', 'tint', 'tint', 'tini', 'tip', 'tip', 'tipto', 'tire', 'tire', 'tissu', 'titl', 'tm', 'toast', 'tobacco', 'tobacconist', 'toe', 'token', 'told', 'toller', 'toller', 'tomboy', 'tomfooleri', 'tone', 'tone', 'tong', 'tongu', 'tonnag', 'ton', 'took', 'tool', 'tool', 'tooth', 'topic', 'top', 'top', 'tore', 'torn', 'tortur', 'toss', 'toss', 'total', 'tottenham', 'totter', 'touch', 'touch', 'touch', 'tout', 'tout_', 'tower', 'town', 'town', 'toy', 'trace', 'trace', 'trace', 'track', 'track', 'trade', 'trademark', 'tradesman', 'tradesmen', 'tradespeopl', 'tradit', 'trafalgar', 'traffic', 'tragedi', 'tragic', 'trail', 'train', 'train', 'train', 'train', 'tramp', 'trampl', 'transact', 'transcrib', 'transcript', 'transfer', 'transform', 'transform', 'transform', 'transit', 'transmit', 'transpar', 'transpir', 'transvers', 'trap', 'travel', 'travel', 'travel', 'travel', 'travel', 'travel', 'tray', 'treacheri', 'tread', 'treasur', 'treat', 'treat', 'treatis', 'treatment', 'trebl', 'tree', 'tree', 'trembl', 'tremor', 'trepoff', 'trespass', 'tress', 'trial', 'triangular', 'trick', 'trick', 'trick', 'tricki', 'tri', 'trifl', 'trifl', 'trifl', 'trim', 'trimli', 'trim', 'trincomale', 'trip', 'trite', 'triumph', 'triumphant', 'trivial', 'troop', 'trooper', 'trophi', 'tropic', 'troubl', 'troubl', 'troubl', 'troubl', 'trough', 'trouser', 'trouser', 'trout', 'trove', 'true', 'truli', 'trumpet', 'trunk', 'trunk', 'trust', 'trust', 'truste', 'trusti', 'truth', 'tri', 'tri', 'tube', 'tube', 'tuck', 'tudor', 'tuesday', 'tug', 'tug', 'tug', 'tumbl', 'tumbler', 'tumultu', 'tune', 'tune', 'tunnel', 'tunnel', 'turf', 'turkish', 'turn', 'turn', 'turner', 'turn', 'turn', 'tut', 'tweed', 'twentieth', 'twice', 'twig', 'twilight', 'twinkl', 'twinkl', 'twinkl', 'twin', 'twist', 'twist', 'twitch', 'twitch', 'twitter', 'twopenc', 'txt', 'tie', 'type', 'type', 'typewrit', 'typewrit', 'typewrit', 'typewritist', 'typewritten', 'uffa', 'ugli', 'ugli', 'ulster', 'ulster', 'ultim', 'umbrella', 'unabl', 'unacquaint', 'unapproach', 'unaveng', 'unbreak', 'unburn', 'unbutton', 'uncarpet', 'uncertain', 'unclasp', 'unclasp', 'uncl', 'uncomfort', 'uncommon', 'uncompromis', 'unconcern', 'uncongeni', 'unconsci', 'uncontrol', 'uncourt', 'uncouth', 'uncov', 'undat', 'undergo', 'underground', 'underneath', 'understand', 'understand', 'understood', 'undertak', 'undertak', 'undid', 'undo', 'undo', 'undoubtedli', 'undu', 'uneasi', 'uneasi', 'unenforc', 'unexpect', 'unfailingli', 'unfeign', 'unfenc', 'unfett', 'unfinish', 'unforeseen', 'unfortun', 'unfortun', 'ungener', 'ungovern', 'ungrat', 'unhappi', 'unhealthi', 'unheed', 'uniform', 'unimpeach', 'unimport', 'union', 'uniqu', 'unit', 'unkempt', 'unknown', 'unless', 'unlik', 'unlik', 'unlink', 'unlock', 'unlock', 'unmarri', 'unmistak', 'unnatur', 'unnecessari', 'unnot', 'unobserv', 'unobserv', 'unoffici', 'unopen', 'unpack', 'unpack', 'unpap', 'unpleas', 'unpleas', 'unpreced', 'unprofit', 'unprotect', 'unravel', 'unravel', 'unravel', 'unreason', 'unrepair', 'unseat', 'unsolicit', 'unsolv', 'unsystemat', 'untam', 'unthink', 'untim', 'unusu', 'unusu', 'unwelcom', 'unwis', 'unwound', 'upbraid', 'updat', 'upper', 'uppermost', 'uprais', 'uproar', 'upset', 'upstair', 'upward', 'urg', 'urgenc', 'urgent', 'urg', 'usag', 'use', 'use', 'use', 'useless', 'user', 'use', 'usher', 'usher', 'use', 'usual', 'usual', 'ut', 'utf', 'utilis', 'utmost', 'utter', 'utter', 'utter', 'utterli', 'vacanc', 'vacanc', 'vacant', 'vacantli', 'vacuou', 'vagabond', 'vagabond', 'vagu', 'vagu', 'vain', 'vainli', 'valet', 'valid', 'valis', 'valley', 'valuabl', 'valu', 'valu', 'van', 'vanilla', 'vanish', 'vanish', 'vanish', 'vanish', 'variabl', 'vari', 'varieti', 'varieti', 'variou', 'vari', 'vault', 've', 'veget', 'vegetarian', 'vehem', 'vehicl', 'veil', 'veil', 'vein', 'velvet', 'vengeanc', 'venner', 'venom', 'ventil', 'ventil', 'ventil', 'ventur', 'ventur', 'verbatim', 'verb', 'verdict', 'vere', 'verg', 'verifi', 'verrons_', 'version', 'vessel', 'vessel', 'vesta', 'vestig', 'vestri', 'vex', 'vice', 'victim', 'victor', 'victoria', 'victori', 'view', 'view', 'view', 'view', 'vigil', 'vigor', 'vile', 'vilest', 'villa', 'villag', 'villag', 'villag', 'villain', 'villain', 'villaini', 'villa', 'vincent', 'violat', 'violenc', 'violent', 'violet', 'violin', 'virtu', 'virtu', 'viru', 'visibl', 'visit', 'visit', 'visit', 'visitor', 'visitor', 'visit', 'vital', 'vitriol', 'vivid', 'vizard', 'voic', 'voic', 'void', 'volcan', 'volley', 'volum', 'volum', 'volunt', 'volunt', 'volunt', 'von', 'voraci', 'vote', 'voter', 'vouch', 'vow', 'vulgar', 'vulner', 'wad', 'waddl', 'wager', 'wage', 'waggl', 'wagon', 'wagon', 'waist', 'waistcoat', 'wait', 'wait', 'waiter', 'wait', 'wake', 'walk', 'walk', 'walk', 'walk', 'wall', 'wallenstein', 'wallow', 'wall', 'walsal', 'walsingham', 'wander', 'wander', 'wander', 'wane', 'want', 'want', 'want', 'want', 'war', 'warburton', 'wardrob', 'warehous', 'warm', 'warm', 'warmest', 'warmli', 'warmth', 'warn', 'warn', 'warn', 'warn', 'warranti', 'warranti', 'warren', 'warsaw', 'wash', 'wash', 'wasn', 'wast', 'wast', 'wast', 'watch', 'watch', 'watch', 'water', 'water', 'waterloo', 'waterproof', 'water', 'watson', 'wave', 'wave', 'waver', 'wave', 'wave', 'wax', 'wax', 'way', 'waylaid', 'way', 'waysid', 'wayward', 'weak', 'weaken', 'weaken', 'weaker', 'weak', 'weak', 'wealth', 'wealthi', 'weapon', 'wear', 'wearer', 'weari', 'wear', 'wearisom', 'wear', 'weari', 'weather', 'weav', 'weaver', 'web', 'wed', 'wedg', 'wedlock', 'wednesday', 'wee', 'weed', 'weedi', 'week', 'weekli', 'week', 'weigh', 'weigh', 'weigh', 'weight', 'weight', 'weird', 'welcom', 'welcom', 'wellington', 'went', 'west', 'westaway', 'westburi', 'western', 'westhous', 'westphail', 'westward', 'wet', 'wharf', 'wharv', 'whatsoev', 'wheal', 'wheel', 'wheel', 'wheeler', 'wheel', 'whereabout', 'whim', 'whim', 'whimsic', 'whine', 'whine', 'whip', 'whipcord', 'whirl', 'whish', 'whisker', 'whisker', 'whiski', 'whisper', 'whisper', 'whisper', 'whistl', 'whistl', 'whistl', 'white', 'whiten', 'whiter', 'whitewash', 'whitney', 'whittington', 'whoa', 'wholesom', 'whoso', 'wick', 'wicked', 'wicker', 'wicket', 'wide', 'widen', 'widespread', 'widest', 'widow', 'widow', 'wife', 'wig', 'wight', 'wigmor', 'wig', 'wild', 'wilder', 'wil', 'wilhelm', 'william', 'will', 'willingli', 'willow', 'wilson', 'wilton', 'wimpol', 'win', 'winc', 'winchest', 'winc', 'wind', 'windfal', 'windibank', 'windig', 'wind', 'window', 'window', 'windowsil', 'wind', 'wine', 'wine', 'wing', 'wing', 'wink', 'wink', 'winter', 'wintri', 'wire', 'wire', 'wiri', 'wisdom', 'wise', 'wiser', 'wish', 'wish', 'wish', 'wish', 'wisp', 'wit', 'withdraw', 'withdrawn', 'wit', 'wit', 'wit', 'wit', 'wive', 'woke', 'woman', 'womanhood', 'womanli', 'women', 'won', 'wonder', 'wonder', 'wonder', 'wonder', 'wonder', 'wont', 'wood', 'woodcock', 'wood', 'wooden', 'wood', 'woo', 'word', 'word', 'wore', 'work', 'work', 'worker', 'work', 'workmen', 'work', 'world', 'world', 'worm', 'worm', 'worn', 'worri', 'worri', 'wors', 'worst', 'worth', 'worthless', 'worthi', 'wouldn', 'wound', 'wound', 'woven', 'wrack', 'wrap', 'wreath', 'wreath', 'wreck', 'wrench', 'wretch', 'wretch', 'wriggl', 'wrinkl', 'wrinkl', 'wrist', 'wrist', 'writ', 'write', 'writer', 'writer', 'write', 'writh', 'writh', 'write', 'write', 'written', 'wrong', 'wrong', 'wrong', 'wrote', 'wrung', 'www', 'yard', 'yard', 'yawn', 'yawn', 'year', 'year', 'yell', 'yell', 'yellow', 'ye', 'yesterday', 'yonder', 'young', 'younger', 'youngster', 'youth', 'zealand', 'zero', 'zest', 'zigzag', 'zip', 'œuvr']\n"
          ],
          "name": "stdout"
        }
      ]
    },
    {
      "cell_type": "code",
      "metadata": {
        "id": "-FA_HU6gz_W_",
        "colab_type": "code",
        "outputId": "f6d6d2f0-d303-4325-cdcf-f255236e8b60",
        "colab": {
          "base_uri": "https://localhost:8080/",
          "height": 765
        }
      },
      "source": [
        "fdist = nltk.FreqDist(stemwords)\n",
        "print(fdist)\n",
        "\n",
        "\n",
        "fdist.most_common(30)\n",
        "\n",
        "\n",
        "fig, ax = plt.subplots(figsize=(16,12))\n",
        "ax = fdist.plot(30, cumulative=True)"
      ],
      "execution_count": 0,
      "outputs": [
        {
          "output_type": "stream",
          "text": [
            "<FreqDist with 5535 samples and 7883 outcomes>\n"
          ],
          "name": "stdout"
        },
        {
          "output_type": "display_data",
          "data": {
            "image/png": "[encoded data removed]",
            "text/plain": [
              "<Figure size 1152x864 with 1 Axes>"
            ]
          },
          "metadata": {
            "tags": []
          }
        }
      ]
    }
  ]
}